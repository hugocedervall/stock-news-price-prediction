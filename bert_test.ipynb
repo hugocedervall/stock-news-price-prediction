{
 "cells": [
  {
   "cell_type": "code",
   "execution_count": 1,
   "metadata": {},
   "outputs": [],
   "source": [
    "import os\n",
    "import shutil\n",
    "\n",
    "import tensorflow as tf\n",
    "import tensorflow_hub as hub\n",
    "import tensorflow_text as text\n",
    "import pandas as pd \n",
    "import matplotlib.pyplot as plt\n",
    "import numpy as np\n",
    "\n",
    "from official.nlp import optimization  # to create AdamW optmizer\n",
    "\n",
    "import matplotlib.pyplot as plt\n",
    "\n",
    "tf.get_logger().setLevel('ERROR')"
   ]
  },
  {
   "cell_type": "code",
   "execution_count": 2,
   "metadata": {},
   "outputs": [],
   "source": [
    "if len(tf.config.list_physical_devices('GPU')):\n",
    "    physical_devices = tf.config.list_physical_devices('GPU')\n",
    "    tf.config.experimental.set_memory_growth(physical_devices[0], enable=True)\n",
    "os.environ['TF_CPP_MIN_LOG_LEVEL'] = '3'\n",
    "tf.compat.v1.logging.set_verbosity(tf.compat.v1.logging.ERROR)"
   ]
  },
  {
   "cell_type": "markdown",
   "metadata": {},
   "source": [
    "## Loading data"
   ]
  },
  {
   "cell_type": "code",
   "execution_count": 3,
   "metadata": {},
   "outputs": [],
   "source": [
    "dataset = pd.read_csv(\"train_data_percentage\", index_col=0)\n",
    "dataset = dataset.dropna()\n",
    "dataset = (dataset[(dataset.lang==\"en\")]).reset_index(drop=True).sort_index()\n",
    "dataset = dataset.reset_index(drop=True).sort_index()"
   ]
  },
  {
   "cell_type": "code",
   "execution_count": 4,
   "metadata": {},
   "outputs": [],
   "source": [
    "# Create categories from priceChanges\n",
    "stepKey = \"1stepChange\"\n",
    "threshold = 0.005\n",
    "dataset.insert(loc=9,column=\"priceChangeClass\", value=1)\n",
    "dataset.at[dataset[dataset[stepKey] <= (1-threshold)].index, \"priceChangeClass\"] = 0\n",
    "dataset.at[dataset[dataset[stepKey] >= (1+threshold)].index, \"priceChangeClass\"] = 2"
   ]
  },
  {
   "cell_type": "code",
   "execution_count": 5,
   "metadata": {},
   "outputs": [],
   "source": [
    "smallest_amount_data = min(dataset.priceChangeClass.value_counts())\n",
    "\n",
    "indexes = []\n",
    "for unique_class in set(dataset.priceChangeClass):\n",
    "        temp_indexes = dataset.loc[dataset.priceChangeClass==unique_class].sample(smallest_amount_data).index\n",
    "        #print(list(temp_indexes))\n",
    "        indexes += list(temp_indexes)"
   ]
  },
  {
   "cell_type": "code",
   "execution_count": 6,
   "metadata": {},
   "outputs": [],
   "source": [
    "balanced_dataset = dataset.loc[indexes].sample(frac=1).reset_index(drop=True)"
   ]
  },
  {
   "cell_type": "code",
   "execution_count": 7,
   "metadata": {},
   "outputs": [],
   "source": [
    "#TODO: remove \n",
    "balanced_dataset = balanced_dataset.sample(n=10000).reset_index(drop=True).sort_index()"
   ]
  },
  {
   "cell_type": "code",
   "execution_count": 8,
   "metadata": {},
   "outputs": [
    {
     "data": {
      "image/png": "[encoded data removed]",
      "text/plain": [
       "<Figure size 432x288 with 1 Axes>"
      ]
     },
     "metadata": {
      "needs_background": "light"
     },
     "output_type": "display_data"
    }
   ],
   "source": [
    "plt.hist(balanced_dataset.priceChangeClass)\n",
    "plt.show()"
   ]
  },
  {
   "cell_type": "code",
   "execution_count": 9,
   "metadata": {},
   "outputs": [],
   "source": [
    "seed = 12345\n",
    "\n",
    "val_percent = 0.1\n",
    "test_percent = 0.2\n",
    "\n",
    "validation_data = (balanced_dataset.sample(frac=val_percent, random_state=seed)).reset_index(drop=True)\n",
    "test_data = (balanced_dataset.sample(frac=test_percent, random_state=seed)).reset_index(drop=True)\n",
    "train_data = (balanced_dataset.iloc[balanced_dataset.index.difference(test_data.index).difference(validation_data.index)]).reset_index(drop=True)"
   ]
  },
  {
   "cell_type": "code",
   "execution_count": 10,
   "metadata": {},
   "outputs": [
    {
     "data": {
      "text/html": [
       "<div>\n",
       "<style scoped>\n",
       "    .dataframe tbody tr th:only-of-type {\n",
       "        vertical-align: middle;\n",
       "    }\n",
       "\n",
       "    .dataframe tbody tr th {\n",
       "        vertical-align: top;\n",
       "    }\n",
       "\n",
       "    .dataframe thead th {\n",
       "        text-align: right;\n",
       "    }\n",
       "</style>\n",
       "<table border=\"1\" class=\"dataframe\">\n",
       "  <thead>\n",
       "    <tr style=\"text-align: right;\">\n",
       "      <th></th>\n",
       "      <th>datetime</th>\n",
       "      <th>headline</th>\n",
       "      <th>summary</th>\n",
       "      <th>related</th>\n",
       "      <th>lang</th>\n",
       "      <th>source</th>\n",
       "      <th>1stepChange</th>\n",
       "      <th>2stepChange</th>\n",
       "      <th>3stepChange</th>\n",
       "      <th>priceChangeClass</th>\n",
       "      <th>6stepChange</th>\n",
       "    </tr>\n",
       "  </thead>\n",
       "  <tbody>\n",
       "    <tr>\n",
       "      <th>0</th>\n",
       "      <td>2020-11-20 07:10:59-05:00</td>\n",
       "      <td>In pandemic Christmas, US rivals aim to challe...</td>\n",
       "      <td>Walmart Inc, Best Buy Co Inc and hundreds of s...</td>\n",
       "      <td>BBY</td>\n",
       "      <td>en</td>\n",
       "      <td>Channel NewsAsia</td>\n",
       "      <td>1.008584</td>\n",
       "      <td>1.004208</td>\n",
       "      <td>1.005891</td>\n",
       "      <td>2</td>\n",
       "      <td>1.011530</td>\n",
       "    </tr>\n",
       "    <tr>\n",
       "      <th>1</th>\n",
       "      <td>2020-06-03 10:45:33-05:00</td>\n",
       "      <td>Vale singer turns heads after wowing star judg...</td>\n",
       "      <td>Boy George and Kelly Rowland turned their chai...</td>\n",
       "      <td>VALE</td>\n",
       "      <td>en</td>\n",
       "      <td>The Daily Record</td>\n",
       "      <td>0.994398</td>\n",
       "      <td>0.995798</td>\n",
       "      <td>0.992530</td>\n",
       "      <td>0</td>\n",
       "      <td>0.979458</td>\n",
       "    </tr>\n",
       "    <tr>\n",
       "      <th>2</th>\n",
       "      <td>2019-08-13 16:23:37-05:00</td>\n",
       "      <td>Here are the latest executive power moves that...</td>\n",
       "      <td>Keeping an eye on major hires and promotions i...</td>\n",
       "      <td>PANW</td>\n",
       "      <td>en</td>\n",
       "      <td>Business Insider</td>\n",
       "      <td>0.999551</td>\n",
       "      <td>0.999102</td>\n",
       "      <td>0.988054</td>\n",
       "      <td>1</td>\n",
       "      <td>0.981766</td>\n",
       "    </tr>\n",
       "    <tr>\n",
       "      <th>3</th>\n",
       "      <td>2020-10-24 09:18:46-05:00</td>\n",
       "      <td>Freeport-McMoRan (NYSE:FCX) Price Target Incre...</td>\n",
       "      <td>Freeport-McMoRan (NYSE:FCX) had its target pri...</td>\n",
       "      <td>FCX</td>\n",
       "      <td>en</td>\n",
       "      <td>Transcript Daily</td>\n",
       "      <td>0.992375</td>\n",
       "      <td>0.980937</td>\n",
       "      <td>0.985839</td>\n",
       "      <td>0</td>\n",
       "      <td>0.979847</td>\n",
       "    </tr>\n",
       "    <tr>\n",
       "      <th>4</th>\n",
       "      <td>2020-09-11 04:00:24-05:00</td>\n",
       "      <td>'We're compiling lessons learned': GM, Faceboo...</td>\n",
       "      <td>Employers such as GM ponder office space and w...</td>\n",
       "      <td>GM</td>\n",
       "      <td>en</td>\n",
       "      <td>USA Today</td>\n",
       "      <td>1.013907</td>\n",
       "      <td>1.016556</td>\n",
       "      <td>1.013907</td>\n",
       "      <td>2</td>\n",
       "      <td>1.011589</td>\n",
       "    </tr>\n",
       "    <tr>\n",
       "      <th>...</th>\n",
       "      <td>...</td>\n",
       "      <td>...</td>\n",
       "      <td>...</td>\n",
       "      <td>...</td>\n",
       "      <td>...</td>\n",
       "      <td>...</td>\n",
       "      <td>...</td>\n",
       "      <td>...</td>\n",
       "      <td>...</td>\n",
       "      <td>...</td>\n",
       "      <td>...</td>\n",
       "    </tr>\n",
       "    <tr>\n",
       "      <th>7995</th>\n",
       "      <td>2020-07-28 07:24:39-05:00</td>\n",
       "      <td>FXNEWS24 |JPMorgan partners with Marqeta to la...</td>\n",
       "      <td>JPMorgan partners with Marqeta to launch 'virt...</td>\n",
       "      <td>JPM</td>\n",
       "      <td>en</td>\n",
       "      <td>FXNews24</td>\n",
       "      <td>1.001557</td>\n",
       "      <td>1.000830</td>\n",
       "      <td>1.000623</td>\n",
       "      <td>1</td>\n",
       "      <td>1.009102</td>\n",
       "    </tr>\n",
       "    <tr>\n",
       "      <th>7996</th>\n",
       "      <td>2020-03-19 00:15:03-05:00</td>\n",
       "      <td>China Mobile : to Accelerate 5G Rollout as Ful...</td>\n",
       "      <td>By Martin Mou China Mobile Ltd. on Thursday sa...</td>\n",
       "      <td>CHL</td>\n",
       "      <td>en</td>\n",
       "      <td>MarketScreener</td>\n",
       "      <td>1.002581</td>\n",
       "      <td>1.018065</td>\n",
       "      <td>1.000645</td>\n",
       "      <td>1</td>\n",
       "      <td>1.020968</td>\n",
       "    </tr>\n",
       "    <tr>\n",
       "      <th>7997</th>\n",
       "      <td>2019-12-11 12:05:11-05:00</td>\n",
       "      <td>Yamal LNG's 15-Vessel Fleet of Icebreaking LNG...</td>\n",
       "      <td>The fifteenth and final icebreaking LNG carrie...</td>\n",
       "      <td>TGP</td>\n",
       "      <td>en</td>\n",
       "      <td>gCaptain</td>\n",
       "      <td>1.006566</td>\n",
       "      <td>1.006566</td>\n",
       "      <td>1.011819</td>\n",
       "      <td>2</td>\n",
       "      <td>1.005253</td>\n",
       "    </tr>\n",
       "    <tr>\n",
       "      <th>7998</th>\n",
       "      <td>2019-05-30 15:29:14-05:00</td>\n",
       "      <td>Williams-Sonoma +11% as profit view improves</td>\n",
       "      <td>No summary available.</td>\n",
       "      <td>WSM</td>\n",
       "      <td>en</td>\n",
       "      <td>Seeking Alpha</td>\n",
       "      <td>1.000387</td>\n",
       "      <td>0.999032</td>\n",
       "      <td>1.121975</td>\n",
       "      <td>1</td>\n",
       "      <td>1.105518</td>\n",
       "    </tr>\n",
       "    <tr>\n",
       "      <th>7999</th>\n",
       "      <td>2019-09-05 13:06:00-05:00</td>\n",
       "      <td>Top Analyst Reports for Facebook, Mastercard &amp;...</td>\n",
       "      <td>Top Analyst Reports for Facebook, Mastercard &amp;...</td>\n",
       "      <td>NKE</td>\n",
       "      <td>en</td>\n",
       "      <td>Zacks Investment Research</td>\n",
       "      <td>1.001929</td>\n",
       "      <td>1.001702</td>\n",
       "      <td>1.001986</td>\n",
       "      <td>1</td>\n",
       "      <td>1.003859</td>\n",
       "    </tr>\n",
       "  </tbody>\n",
       "</table>\n",
       "<p>8000 rows × 11 columns</p>\n",
       "</div>"
      ],
      "text/plain": [
       "                       datetime  \\\n",
       "0     2020-11-20 07:10:59-05:00   \n",
       "1     2020-06-03 10:45:33-05:00   \n",
       "2     2019-08-13 16:23:37-05:00   \n",
       "3     2020-10-24 09:18:46-05:00   \n",
       "4     2020-09-11 04:00:24-05:00   \n",
       "...                         ...   \n",
       "7995  2020-07-28 07:24:39-05:00   \n",
       "7996  2020-03-19 00:15:03-05:00   \n",
       "7997  2019-12-11 12:05:11-05:00   \n",
       "7998  2019-05-30 15:29:14-05:00   \n",
       "7999  2019-09-05 13:06:00-05:00   \n",
       "\n",
       "                                               headline  \\\n",
       "0     In pandemic Christmas, US rivals aim to challe...   \n",
       "1     Vale singer turns heads after wowing star judg...   \n",
       "2     Here are the latest executive power moves that...   \n",
       "3     Freeport-McMoRan (NYSE:FCX) Price Target Incre...   \n",
       "4     'We're compiling lessons learned': GM, Faceboo...   \n",
       "...                                                 ...   \n",
       "7995  FXNEWS24 |JPMorgan partners with Marqeta to la...   \n",
       "7996  China Mobile : to Accelerate 5G Rollout as Ful...   \n",
       "7997  Yamal LNG's 15-Vessel Fleet of Icebreaking LNG...   \n",
       "7998       Williams-Sonoma +11% as profit view improves   \n",
       "7999  Top Analyst Reports for Facebook, Mastercard &...   \n",
       "\n",
       "                                                summary related lang  \\\n",
       "0     Walmart Inc, Best Buy Co Inc and hundreds of s...     BBY   en   \n",
       "1     Boy George and Kelly Rowland turned their chai...    VALE   en   \n",
       "2     Keeping an eye on major hires and promotions i...    PANW   en   \n",
       "3     Freeport-McMoRan (NYSE:FCX) had its target pri...     FCX   en   \n",
       "4     Employers such as GM ponder office space and w...      GM   en   \n",
       "...                                                 ...     ...  ...   \n",
       "7995  JPMorgan partners with Marqeta to launch 'virt...     JPM   en   \n",
       "7996  By Martin Mou China Mobile Ltd. on Thursday sa...     CHL   en   \n",
       "7997  The fifteenth and final icebreaking LNG carrie...     TGP   en   \n",
       "7998                              No summary available.     WSM   en   \n",
       "7999  Top Analyst Reports for Facebook, Mastercard &...     NKE   en   \n",
       "\n",
       "                         source  1stepChange  2stepChange  3stepChange  \\\n",
       "0              Channel NewsAsia     1.008584     1.004208     1.005891   \n",
       "1              The Daily Record     0.994398     0.995798     0.992530   \n",
       "2              Business Insider     0.999551     0.999102     0.988054   \n",
       "3              Transcript Daily     0.992375     0.980937     0.985839   \n",
       "4                     USA Today     1.013907     1.016556     1.013907   \n",
       "...                         ...          ...          ...          ...   \n",
       "7995                   FXNews24     1.001557     1.000830     1.000623   \n",
       "7996             MarketScreener     1.002581     1.018065     1.000645   \n",
       "7997                   gCaptain     1.006566     1.006566     1.011819   \n",
       "7998              Seeking Alpha     1.000387     0.999032     1.121975   \n",
       "7999  Zacks Investment Research     1.001929     1.001702     1.001986   \n",
       "\n",
       "      priceChangeClass  6stepChange  \n",
       "0                    2     1.011530  \n",
       "1                    0     0.979458  \n",
       "2                    1     0.981766  \n",
       "3                    0     0.979847  \n",
       "4                    2     1.011589  \n",
       "...                ...          ...  \n",
       "7995                 1     1.009102  \n",
       "7996                 1     1.020968  \n",
       "7997                 2     1.005253  \n",
       "7998                 1     1.105518  \n",
       "7999                 1     1.003859  \n",
       "\n",
       "[8000 rows x 11 columns]"
      ]
     },
     "execution_count": 10,
     "metadata": {},
     "output_type": "execute_result"
    }
   ],
   "source": [
    "train_data"
   ]
  },
  {
   "cell_type": "markdown",
   "metadata": {},
   "source": [
    "## Loading bert model and preprocessor"
   ]
  },
  {
   "cell_type": "code",
   "execution_count": 13,
   "metadata": {},
   "outputs": [],
   "source": [
    "small_bert_url = \"https://tfhub.dev/tensorflow/small_bert/bert_en_uncased_L-4_H-512_A-8/1\"\n",
    "small_bert_preprocessor = \"https://tfhub.dev/tensorflow/bert_en_uncased_preprocess/2\"\n",
    "\n",
    "\n",
    "#TODO: fix sequence length?\n",
    "seq_length=512\n",
    "bert_preprocess_model = hub.KerasLayer(small_bert_preprocessor)\n",
    "bert_preprocess = hub.load(small_bert_preprocessor)\n",
    "bert_model = hub.KerasLayer(small_bert_url)"
   ]
  },
  {
   "cell_type": "code",
   "execution_count": 14,
   "metadata": {},
   "outputs": [
    {
     "name": "stdout",
     "output_type": "stream",
     "text": [
      "Shape Word Ids :  (1, 512)\n",
      "Shape Mask     :  (1, 512)\n",
      "Shape Type Ids :  (1, 512)\n"
     ]
    }
   ],
   "source": [
    "tt = \"Indian shares fell on Wednesday after the International Monetary Fund cut its economic growth forecast for the country for the second time in nearly four months, while Wipro's quarterly profit miss also weighed on sentiment.\"\n",
    "tok = bert_preprocess.tokenize(tf.constant([tt]))\n",
    "text_preprocessed = bert_preprocess.bert_pack_inputs([tok], tf.constant(seq_length))\n",
    "\n",
    "print('Shape Word Ids : ', text_preprocessed['input_word_ids'].shape)\n",
    "print('Shape Mask     : ', text_preprocessed['input_mask'].shape)\n",
    "print('Shape Type Ids : ', text_preprocessed['input_type_ids'].shape)\n"
   ]
  },
  {
   "cell_type": "markdown",
   "metadata": {},
   "source": [
    "## Test code"
   ]
  },
  {
   "cell_type": "code",
   "execution_count": 15,
   "metadata": {},
   "outputs": [],
   "source": [
    "def make_bert_preprocess_model(sentence_features, seq_length=512):\n",
    "  \"\"\"Returns Model mapping string features to BERT inputs.\n",
    "\n",
    "  Args:\n",
    "    sentence_features: a list with the names of string-valued features.\n",
    "    seq_length: an integer that defines the sequence length of BERT inputs.\n",
    "    TODO: could have headline and summary here\n",
    "\n",
    "  Returns:\n",
    "    A Keras Model that can be called on a list or dict of string Tensors\n",
    "    (with the order or names, resp., given by sentence_features) and\n",
    "    returns a dict of tensors for input to BERT.\n",
    "  \"\"\"\n",
    "\n",
    "  input_segments = [\n",
    "      tf.keras.layers.Input(shape=(), dtype=tf.string, name=ft)\n",
    "      for ft in sentence_features]\n",
    "\n",
    "  # Tokenize the text to word pieces.\n",
    "  bert_preprocess = hub.load(small_bert_preprocessor)\n",
    "  tokenizer = hub.KerasLayer(bert_preprocess.tokenize, name='tokenizer')\n",
    "  segments = [tokenizer(s) for s in input_segments]\n",
    "\n",
    "  # Optional: Trim segments in a smart way to fit seq_length.\n",
    "  # Simple cases (like this example) can skip this step and let\n",
    "  # the next step apply a default truncation to approximately equal lengths.\n",
    "  truncated_segments = segments\n",
    "\n",
    "  # Pack inputs. The details (start/end token ids, dict of output tensors)\n",
    "  # are model-dependent, so this gets loaded from the SavedModel.\n",
    "  packer = hub.KerasLayer(bert_preprocess.bert_pack_inputs,\n",
    "                          arguments=dict(seq_length=seq_length),\n",
    "                          name='packer')\n",
    "  model_inputs = packer(truncated_segments)\n",
    "  return tf.keras.Model(input_segments, model_inputs)"
   ]
  },
  {
   "cell_type": "code",
   "execution_count": 16,
   "metadata": {},
   "outputs": [
    {
     "name": "stdout",
     "output_type": "stream",
     "text": [
      "Keys           :  ['input_mask', 'input_word_ids', 'input_type_ids']\n",
      "Shape Word Ids :  (1, 512)\n",
      "Word Ids       :  tf.Tensor(\n",
      "[ 101 2070 6721 3231 6251  102    0    0    0    0    0    0    0    0\n",
      "    0    0], shape=(16,), dtype=int32)\n",
      "Shape Mask     :  (1, 512)\n",
      "Input Mask     :  tf.Tensor([1 1 1 1 1 1 0 0 0 0 0 0 0 0 0 0], shape=(16,), dtype=int32)\n",
      "Shape Type Ids :  (1, 512)\n",
      "Type Ids       :  tf.Tensor([0 0 0 0 0 0 0 0 0 0 0 0 0 0 0 0], shape=(16,), dtype=int32)\n"
     ]
    }
   ],
   "source": [
    "test_preprocess_model = make_bert_preprocess_model(['sentence'])\n",
    "test_text = [np.array(['some random test sentence']),\n",
    "             np.array(['another sentence'])]\n",
    "text_preprocessed = test_preprocess_model(test_text)\n",
    "\n",
    "print('Keys           : ', list(text_preprocessed.keys()))\n",
    "print('Shape Word Ids : ', text_preprocessed['input_word_ids'].shape)\n",
    "print('Word Ids       : ', text_preprocessed['input_word_ids'][0, :16])\n",
    "print('Shape Mask     : ', text_preprocessed['input_mask'].shape)\n",
    "print('Input Mask     : ', text_preprocessed['input_mask'][0, :16])\n",
    "print('Shape Type Ids : ', text_preprocessed['input_type_ids'].shape)\n",
    "print('Type Ids       : ', text_preprocessed['input_type_ids'][0, :16])"
   ]
  },
  {
   "cell_type": "code",
   "execution_count": 17,
   "metadata": {},
   "outputs": [
    {
     "data": {
      "image/png": "[encoded data removed]",
      "text/plain": [
       "<IPython.core.display.Image object>"
      ]
     },
     "execution_count": 17,
     "metadata": {},
     "output_type": "execute_result"
    }
   ],
   "source": [
    "tf.keras.utils.plot_model(test_preprocess_model)"
   ]
  },
  {
   "cell_type": "code",
   "execution_count": 18,
   "metadata": {},
   "outputs": [],
   "source": [
    "def build_classifier_model(num_classes):\n",
    "  inputs = dict(\n",
    "      input_word_ids=tf.keras.layers.Input(shape=(None,), dtype=tf.int32),\n",
    "      input_mask=tf.keras.layers.Input(shape=(None,), dtype=tf.int32),\n",
    "      input_type_ids=tf.keras.layers.Input(shape=(None,), dtype=tf.int32),\n",
    "  )\n",
    "\n",
    "  encoder = hub.KerasLayer(small_bert_url, trainable=True, name='encoder')\n",
    "  net = encoder(inputs)['pooled_output']\n",
    "  net = tf.keras.layers.Dropout(rate=0.1)(net)\n",
    "  net = tf.keras.layers.Dense(64, activation=\"relu\", name='dense1')\n",
    "  net = tf.keras.layers.Dense(num_classes,  name='classifier')(net)\n",
    "  return tf.keras.Model(inputs, net, name='prediction')"
   ]
  },
  {
   "cell_type": "code",
   "execution_count": 19,
   "metadata": {},
   "outputs": [
    {
     "name": "stdout",
     "output_type": "stream",
     "text": [
      "tf.Tensor([[0.08233427 0.34759623 0.5700695 ]], shape=(1, 3), dtype=float32)\n"
     ]
    }
   ],
   "source": [
    "test_classifier_model = build_classifier_model(3)\n",
    "bert_raw_result = test_classifier_model(text_preprocessed)\n",
    "print(bert_raw_result)"
   ]
  },
  {
   "cell_type": "code",
   "execution_count": 20,
   "metadata": {},
   "outputs": [
    {
     "data": {
      "image/png": "[encoded data removed]",
      "text/plain": [
       "<IPython.core.display.Image object>"
      ]
     },
     "execution_count": 20,
     "metadata": {},
     "output_type": "execute_result"
    }
   ],
   "source": [
    "tf.keras.utils.plot_model(test_classifier_model)\n"
   ]
  },
  {
   "cell_type": "code",
   "execution_count": 21,
   "metadata": {},
   "outputs": [],
   "source": [
    "x_train = test_preprocess_model(np.array(train_data.summary))\n",
    "y_train = np.array(train_data.priceChangeClass).astype(np.int8)\n",
    "\n",
    "val_x = test_preprocess_model(np.array(validation_data.summary))\n",
    "val_y = np.array(validation_data.priceChangeClass)\n",
    "\n",
    "test_x = test_preprocess_model(np.array(test_data.summary))\n",
    "test_y = np.array(test_data.priceChangeClass).astype(np.int8)"
   ]
  },
  {
   "cell_type": "code",
   "execution_count": null,
   "metadata": {},
   "outputs": [],
   "source": [
    "#x_train = test_preprocess_model(np.array(train_data.summary)[:1000])\n"
   ]
  },
  {
   "cell_type": "code",
   "execution_count": 23,
   "metadata": {},
   "outputs": [
    {
     "name": "stdout",
     "output_type": "stream",
     "text": [
      "2000/2000 [==============================] - 359s 180ms/step - loss: 1.1043 - accuracy: 0.3526 - val_loss: 1.0939 - val_accuracy: 0.3720\n"
     ]
    },
    {
     "data": {
      "text/plain": [
       "<tensorflow.python.keras.callbacks.History at 0x7f524035f9a0>"
      ]
     },
     "execution_count": 23,
     "metadata": {},
     "output_type": "execute_result"
    }
   ],
   "source": [
    "epochs = 1\n",
    "batch_size = 4\n",
    "init_lr = 2e-5\n",
    "\n",
    "steps_per_epoch = len(train_data.index) // batch_size\n",
    "num_train_steps = steps_per_epoch * epochs\n",
    "num_warmup_steps = num_train_steps // 10\n",
    "validation_steps = len(validation_data.index)\n",
    "\n",
    "loss = tf.keras.losses.SparseCategoricalCrossentropy(from_logits=True)\n",
    "metrics = tf.keras.metrics.SparseCategoricalAccuracy(\n",
    "        'accuracy', dtype=tf.float32)\n",
    "\n",
    "optimizer = optimization.create_optimizer(\n",
    "      init_lr=init_lr,\n",
    "      num_train_steps=num_train_steps,\n",
    "      num_warmup_steps=num_warmup_steps,\n",
    "      optimizer_type='adamw')\n",
    "\n",
    "test_classifier_model.compile(optimizer=optimizer, loss=loss, metrics=[metrics])\n",
    "\n",
    "test_classifier_model.fit(\n",
    "    x=x_train,\n",
    "    y=y_train,\n",
    "    validation_data=(val_x, val_y),\n",
    "    steps_per_epoch=steps_per_epoch,\n",
    "    epochs=epochs,\n",
    "    validation_steps=validation_steps)\n"
   ]
  },
  {
   "cell_type": "code",
   "execution_count": 25,
   "metadata": {},
   "outputs": [],
   "source": [
    "pred = test_classifier_model.predict(test_x)"
   ]
  },
  {
   "cell_type": "code",
   "execution_count": 26,
   "metadata": {},
   "outputs": [
    {
     "data": {
      "text/plain": [
       "0.3675"
      ]
     },
     "execution_count": 26,
     "metadata": {},
     "output_type": "execute_result"
    }
   ],
   "source": [
    "#tf.math.confusion_matrix(labels=test_y, predictions=res)\n",
    "\n",
    "rez = []\n",
    "for elem in pred:\n",
    "    aa = tf.math.argmax(elem)\n",
    "    rez.append(aa.numpy())\n",
    "\n",
    "rez = np.array(rez)    \n",
    "np.count_nonzero(rez == test_y) / len(rez)\n"
   ]
  },
  {
   "cell_type": "code",
   "execution_count": 27,
   "metadata": {},
   "outputs": [
    {
     "data": {
      "text/plain": [
       "<tf.Tensor: shape=(3, 3), dtype=int32, numpy=\n",
       "array([[411, 228,  35],\n",
       "       [334, 275,  29],\n",
       "       [413, 226,  49]], dtype=int32)>"
      ]
     },
     "execution_count": 27,
     "metadata": {},
     "output_type": "execute_result"
    }
   ],
   "source": [
    "tf.math.confusion_matrix(labels=test_y, predictions=rez)"
   ]
  },
  {
   "cell_type": "markdown",
   "metadata": {},
   "source": [
    "# Own code"
   ]
  },
  {
   "cell_type": "code",
   "execution_count": 44,
   "metadata": {},
   "outputs": [],
   "source": [
    "preprocessor = hub.load(\n",
    "    \"https://tfhub.dev/tensorflow/bert_en_uncased_preprocess/2\")\n",
    "\n",
    "# Step 1: tokenize batches of text inputs.\n",
    "text_inputs = [tf.keras.layers.Input(shape=(), dtype=tf.string)\n",
    "               ] # This SavedModel accepts up to 2 text inputs.\n",
    "tokenize = hub.KerasLayer(preprocessor.tokenize)\n",
    "tokenized_inputs = [tokenize(segment) for segment in text_inputs]\n",
    "\n",
    "# Step 3: pack input sequences for the Transformer encoder.\n",
    "seq_length = 128  # Your choice here.\n",
    "bert_pack_inputs = hub.KerasLayer(\n",
    "    preprocessor.bert_pack_inputs,\n",
    "    arguments=dict(seq_length=seq_length))  # Optional argument.\n",
    "encoder_inputs = bert_pack_inputs(tokenized_inputs)"
   ]
  },
  {
   "cell_type": "markdown",
   "metadata": {},
   "source": [
    "### Preprocess some text"
   ]
  },
  {
   "cell_type": "code",
   "execution_count": 52,
   "metadata": {},
   "outputs": [
    {
     "name": "stdout",
     "output_type": "stream",
     "text": [
      "Keys       : ['input_word_ids', 'input_mask', 'input_type_ids']\n",
      "Shape      : (1, 128)\n",
      "Word Ids   : [[  101  3643  3070  3170  9725  6661  1997 15315 27635  2869  3915  1006\n",
      "   6396  3366  1024 15315  2595  1007  2013  1037  2907  5790  2000  1037\n",
      "   4965  5790  1999  1037  2470  3602  3843  2000  9387  2006  5095 10175\n",
      "  24997 11528  2063  9725  6661  1997 15315 27635  2869  3915  1006  6396\n",
      "   3366  1024 15315  2595  1007  2013  1037  2907  5790  2000  1037  4965\n",
      "   5790  1999  1037  2470  3602  3843  2000  9387  2006  5095 10175 24997\n",
      "  11528  2063  9725  6661  1997 15315 27635  2869  3915  1006  6396  3366\n",
      "   1024 15315  2595  1007  2013  1037  2907  5790  2000  1037  4965  5790\n",
      "   1999  1037  2470  3602  3843  2000  9387  2006  5095 10175 24997 11528\n",
      "   2063  9725  6661  1997 15315 27635  2869  3915  1006  6396  3366  1024\n",
      "  15315  2595  1007  2013  1037  2907  5790   102]]\n",
      "Input Mask : [[1 1 1 1 1 1 1 1 1 1 1 1 1 1 1 1 1 1 1 1 1 1 1 1 1 1 1 1 1 1 1 1 1 1 1 1\n",
      "  1 1 1 1 1 1 1 1 1 1 1 1 1 1 1 1 1 1 1 1 1 1 1 1 1 1 1 1 1 1 1 1 1 1 1 1\n",
      "  1 1 1 1 1 1 1 1 1 1 1 1 1 1 1 1 1 1 1 1 1 1 1 1 1 1 1 1 1 1 1 1 1 1 1 1\n",
      "  1 1 1 1 1 1 1 1 1 1 1 1 1 1 1 1 1 1 1 1]]\n",
      "Type Ids   : [[0 0 0 0 0 0 0 0 0 0 0 0 0 0 0 0 0 0 0 0 0 0 0 0 0 0 0 0 0 0 0 0 0 0 0 0\n",
      "  0 0 0 0 0 0 0 0 0 0 0 0 0 0 0 0 0 0 0 0 0 0 0 0 0 0 0 0 0 0 0 0 0 0 0 0\n",
      "  0 0 0 0 0 0 0 0 0 0 0 0 0 0 0 0 0 0 0 0 0 0 0 0 0 0 0 0 0 0 0 0 0 0 0 0\n",
      "  0 0 0 0 0 0 0 0 0 0 0 0 0 0 0 0 0 0 0 0]]\n"
     ]
    },
    {
     "data": {
      "text/plain": [
       "193"
      ]
     },
     "execution_count": 52,
     "metadata": {},
     "output_type": "execute_result"
    }
   ],
   "source": [
    "test_text = [\"ValuEngine upgraded shares of Skechers USA (NYSE:SKX) from a hold rating to a buy rating in a research note issued to investors on SaturdayValuEngine upgraded shares of Skechers USA (NYSE:SKX) from a hold rating to a buy rating in a research note issued to investors on SaturdayValuEngine upgraded shares of Skechers USA (NYSE:SKX) from a hold rating to a buy rating in a research note issued to investors on SaturdayValuEngine upgraded shares of Skechers USA (NYSE:SKX) from a hold rating to a buy rating in a research note issued to investors on SaturdayValuEngine upgraded shares of Skechers USA (NYSE:SKX) from a hold rating to a buy rating in a research note issued to investors on SaturdayValuEngine upgraded shares of Skechers USA (NYSE:SKX) from a hold rating to a buy rating in a research note issued to investors on SaturdayValuEngine upgraded shares of Skechers USA (NYSE:SKX) from a hold rating to a buy rating in a research note issued to investors on Saturday morning, ValuEngine reports. SKX has been the topic of several other reports. 140166 increased their price objective on Skechers USA from $32.00 to $39.00 in a research report on Friday, July\"]\n",
    "\n",
    "text_preprocessed = bert_preprocess_model(test_text)\n",
    "print(f'Keys       : {list(text_preprocessed.keys())}')\n",
    "print(f'Shape      : {text_preprocessed[\"input_word_ids\"].shape}')\n",
    "print(f'Word Ids   : {text_preprocessed[\"input_word_ids\"]}')\n",
    "print(f'Input Mask : {text_preprocessed[\"input_mask\"]}')\n",
    "print(f'Type Ids   : {text_preprocessed[\"input_type_ids\"]}')\n",
    "len(test_text[0].split())"
   ]
  },
  {
   "cell_type": "code",
   "execution_count": 13,
   "metadata": {},
   "outputs": [
    {
     "name": "stdout",
     "output_type": "stream",
     "text": [
      "Pooled Outputs Shape:(1, 512)\n",
      "Pooled Outputs Values:[ 0.9824908   0.76062226 -0.03692193  0.12203462  0.39114746  0.41416568\n",
      "  0.9954358  -0.89795995 -0.38491482 -0.9893756  -0.20844996 -0.6297051 ]\n",
      "Sequence Outputs Shape:(1, 128, 512)\n",
      "Sequence Outputs Values:[[-0.43924457 -0.13059938  0.90825254 ... -0.8680172   0.5541188\n",
      "   0.8547666 ]\n",
      " [-0.23845711 -0.5364785   0.29254144 ... -0.39248142  0.74903923\n",
      "  -0.4524054 ]\n",
      " [-0.4771736   0.39477485 -0.3236331  ... -0.69937664 -0.07088979\n",
      "  -0.21797672]\n",
      " ...\n",
      " [-0.90205806  1.7535473   0.75899905 ... -0.6645514   0.48757368\n",
      "   0.9621246 ]\n",
      " [-0.07816001  0.5708613   0.01111203 ... -0.34754694  0.8900679\n",
      "   0.82887846]\n",
      " [-0.132772   -0.16776928 -0.7433138  ... -0.43809432  0.09481239\n",
      "   0.6366134 ]]\n"
     ]
    }
   ],
   "source": [
    "bert_results = bert_model(text_preprocessed)\n",
    "\n",
    "print(f'Pooled Outputs Shape:{bert_results[\"pooled_output\"].shape}')\n",
    "print(f'Pooled Outputs Values:{bert_results[\"pooled_output\"][0, :12]}')\n",
    "print(f'Sequence Outputs Shape:{bert_results[\"sequence_output\"].shape}')\n",
    "print(f'Sequence Outputs Values:{bert_results[\"sequence_output\"][0, :12]}')"
   ]
  },
  {
   "cell_type": "code",
   "execution_count": 14,
   "metadata": {},
   "outputs": [],
   "source": [
    "def create_classifier_model():\n",
    "    text_input_layer = tf.keras.layers.Input(shape=(), dtype=tf.string, name=\"text\")\n",
    "    preprocessing_layer = hub.KerasLayer(small_bert_preprocessor, name=\"preprocessor\")\n",
    "    encoded_input = preprocessing_layer(text_input_layer)\n",
    "    encoder = hub.KerasLayer(small_bert_url, trainable=True, name=\"bert_encoder\")\n",
    "    outputs = encoder(encoded_input)\n",
    "    net = outputs[\"pooled_output\"]\n",
    "    #net = tf.keras.layers.Dropout(0.1)(net)\n",
    "    net= tf.keras.layers.Dense(512, activation=\"relu\", name=\"layer1\")(net)\n",
    "    net= tf.keras.layers.Dense(256, activation=\"relu\", name=\"layer2\")(net)\n",
    "    net= tf.keras.layers.Dense(128, activation=\"relu\", name=\"layer3\")(net)\n",
    "    net= tf.keras.layers.Dense(64, activation=\"relu\", name=\"layer4\")(net)\n",
    "    net = tf.keras.layers.Dense(3, activation=\"softmax\", name=\"classifier\")(net)\n",
    "    return tf.keras.Model(text_input_layer, net)"
   ]
  },
  {
   "cell_type": "code",
   "execution_count": 15,
   "metadata": {},
   "outputs": [
    {
     "name": "stdout",
     "output_type": "stream",
     "text": [
      "tf.Tensor([[0.33550596 0.2979216  0.3665724 ]], shape=(1, 3), dtype=float32)\n"
     ]
    }
   ],
   "source": [
    "classifier_model = create_classifier_model()\n",
    "bert_raw_result = classifier_model(tf.constant(test_text))\n",
    "print(bert_raw_result)\n",
    "#print(tf.sigmoid(bert_raw_result))"
   ]
  },
  {
   "cell_type": "code",
   "execution_count": 16,
   "metadata": {},
   "outputs": [
    {
     "name": "stdout",
     "output_type": "stream",
     "text": [
      "('Failed to import pydot. You must `pip install pydot` and install graphviz (https://graphviz.gitlab.io/download/), ', 'for `pydotprint` to work.')\n"
     ]
    }
   ],
   "source": [
    "tf.keras.utils.plot_model(classifier_model)"
   ]
  },
  {
   "cell_type": "code",
   "execution_count": 17,
   "metadata": {},
   "outputs": [],
   "source": [
    "loss_function = tf.keras.losses.SparseCategoricalCrossentropy()\n",
    "metric = tf.metrics.SparseCategoricalCrossentropy()"
   ]
  },
  {
   "cell_type": "code",
   "execution_count": 18,
   "metadata": {},
   "outputs": [],
   "source": [
    "epochs = 1\n",
    "steps_per_epoch = len(train_data.index)\n",
    "num_train_steps = steps_per_epoch * epochs\n",
    "num_warmup_steps = int(0.1*num_train_steps)\n",
    "\n",
    "init_lr = 3e-5\n",
    "optimizer = optimization.create_optimizer(init_lr=init_lr,\n",
    "                                          num_train_steps=num_train_steps,\n",
    "                                          num_warmup_steps=num_warmup_steps,\n",
    "                                          optimizer_type='adamw')"
   ]
  },
  {
   "cell_type": "code",
   "execution_count": 19,
   "metadata": {},
   "outputs": [],
   "source": [
    "classifier_model.compile(optimizer=optimizer,\n",
    "                        loss=loss_function,\n",
    "                        metrics=metric)"
   ]
  },
  {
   "cell_type": "code",
   "execution_count": 20,
   "metadata": {},
   "outputs": [
    {
     "name": "stdout",
     "output_type": "stream",
     "text": [
      "9785/9785 [==============================] - 1432s 146ms/step - loss: 1.0935 - sparse_categorical_crossentropy: 1.0935\n"
     ]
    }
   ],
   "source": [
    "x_train = np.array(train_data.summary)\n",
    "y_train = np.array(train_data.priceChangeClass).astype(np.int8)\n",
    "\n",
    "#x_train = x_train[:50000]\n",
    "#y_train = y_train[:50000]\n",
    "\n",
    "#x_train\n",
    "history = classifier_model.fit(x_train, y_train, batch_size=16)\n",
    "#y_train"
   ]
  },
  {
   "cell_type": "code",
   "execution_count": 21,
   "metadata": {},
   "outputs": [],
   "source": [
    "\n",
    "test_x = np.array(test_data.summary)\n",
    "test_y = np.array(test_data.priceChangeClass).astype(np.int8)\n",
    "\n",
    "#res = classifier_model.evaluate(test_x, test_y)\n",
    "#print(\"test loss, test acc:\", res)\n"
   ]
  },
  {
   "cell_type": "code",
   "execution_count": 22,
   "metadata": {},
   "outputs": [],
   "source": [
    "pred = classifier_model.predict(test_x)"
   ]
  },
  {
   "cell_type": "code",
   "execution_count": 23,
   "metadata": {},
   "outputs": [
    {
     "data": {
      "text/plain": [
       "array([[0.3413031 , 0.3865437 , 0.27215323],\n",
       "       [0.2885768 , 0.42704913, 0.28437406],\n",
       "       [0.31216136, 0.36993355, 0.3179051 ],\n",
       "       ...,\n",
       "       [0.28031448, 0.50544816, 0.21423742],\n",
       "       [0.31894097, 0.3757555 , 0.30530357],\n",
       "       [0.3254851 , 0.3275079 , 0.347007  ]], dtype=float32)"
      ]
     },
     "execution_count": 23,
     "metadata": {},
     "output_type": "execute_result"
    }
   ],
   "source": [
    "pred"
   ]
  },
  {
   "cell_type": "code",
   "execution_count": 24,
   "metadata": {},
   "outputs": [],
   "source": [
    "#tf.math.confusion_matrix(labels=test_y, predictions=res)\n",
    "\n",
    "rez = []\n",
    "for elem in pred:\n",
    "    aa = tf.math.argmax(elem)\n",
    "    rez.append(aa.numpy())"
   ]
  },
  {
   "cell_type": "code",
   "execution_count": 25,
   "metadata": {},
   "outputs": [],
   "source": [
    "rez = np.array(rez)"
   ]
  },
  {
   "cell_type": "code",
   "execution_count": 26,
   "metadata": {},
   "outputs": [
    {
     "data": {
      "text/plain": [
       "0.392973939703628"
      ]
     },
     "execution_count": 26,
     "metadata": {},
     "output_type": "execute_result"
    }
   ],
   "source": [
    "np.count_nonzero(rez == test_y) / len(rez)"
   ]
  },
  {
   "cell_type": "code",
   "execution_count": 27,
   "metadata": {},
   "outputs": [
    {
     "data": {
      "text/plain": [
       "<tf.Tensor: shape=(3, 3), dtype=int32, numpy=\n",
       "array([[1002, 7329, 4729],\n",
       "       [ 663, 9490, 2948],\n",
       "       [ 997, 7093, 4889]], dtype=int32)>"
      ]
     },
     "execution_count": 27,
     "metadata": {},
     "output_type": "execute_result"
    }
   ],
   "source": [
    "tf.math.confusion_matrix(labels=test_y, predictions=rez)"
   ]
  },
  {
   "cell_type": "code",
   "execution_count": 28,
   "metadata": {},
   "outputs": [
    {
     "data": {
      "text/plain": [
       "0.39297393"
      ]
     },
     "execution_count": 28,
     "metadata": {},
     "output_type": "execute_result"
    }
   ],
   "source": [
    "m = tf.keras.metrics.Accuracy()\n",
    "m.update_state(rez, test_y)\n",
    "m.result().numpy()"
   ]
  },
  {
   "cell_type": "code",
   "execution_count": 29,
   "metadata": {},
   "outputs": [
    {
     "data": {
      "image/png": "[encoded data removed]",
      "text/plain": [
       "<Figure size 432x288 with 1 Axes>"
      ]
     },
     "metadata": {
      "needs_background": "light"
     },
     "output_type": "display_data"
    }
   ],
   "source": [
    "plt.hist(rez)\n",
    "plt.show()"
   ]
  },
  {
   "cell_type": "code",
   "execution_count": 30,
   "metadata": {},
   "outputs": [
    {
     "data": {
      "image/png": "[encoded data removed]",
      "text/plain": [
       "<Figure size 432x288 with 1 Axes>"
      ]
     },
     "metadata": {
      "needs_background": "light"
     },
     "output_type": "display_data"
    }
   ],
   "source": [
    "plt.hist(test_y)\n",
    "plt.show()"
   ]
  },
  {
   "cell_type": "code",
   "execution_count": 39,
   "metadata": {},
   "outputs": [
    {
     "ename": "NameError",
     "evalue": "name 'history' is not defined",
     "output_type": "error",
     "traceback": [
      "\u001b[0;31m---------------------------------------------------------------------------\u001b[0m",
      "\u001b[0;31mNameError\u001b[0m                                 Traceback (most recent call last)",
      "\u001b[0;32m<ipython-input-39-7f539fdf9cbf>\u001b[0m in \u001b[0;36m<module>\u001b[0;34m\u001b[0m\n\u001b[0;32m----> 1\u001b[0;31m \u001b[0mprint\u001b[0m\u001b[0;34m(\u001b[0m\u001b[0mhistory\u001b[0m\u001b[0;34m.\u001b[0m\u001b[0mhistory\u001b[0m\u001b[0;34m.\u001b[0m\u001b[0mkeys\u001b[0m\u001b[0;34m(\u001b[0m\u001b[0;34m)\u001b[0m\u001b[0;34m)\u001b[0m\u001b[0;34m\u001b[0m\u001b[0;34m\u001b[0m\u001b[0m\n\u001b[0m",
      "\u001b[0;31mNameError\u001b[0m: name 'history' is not defined"
     ]
    }
   ],
   "source": [
    "print(history.history.keys())\n"
   ]
  },
  {
   "cell_type": "code",
   "execution_count": 32,
   "metadata": {},
   "outputs": [
    {
     "data": {
      "text/html": [
       "<div>\n",
       "<style scoped>\n",
       "    .dataframe tbody tr th:only-of-type {\n",
       "        vertical-align: middle;\n",
       "    }\n",
       "\n",
       "    .dataframe tbody tr th {\n",
       "        vertical-align: top;\n",
       "    }\n",
       "\n",
       "    .dataframe thead th {\n",
       "        text-align: right;\n",
       "    }\n",
       "</style>\n",
       "<table border=\"1\" class=\"dataframe\">\n",
       "  <thead>\n",
       "    <tr style=\"text-align: right;\">\n",
       "      <th></th>\n",
       "      <th>index</th>\n",
       "      <th>datetime</th>\n",
       "      <th>headline</th>\n",
       "      <th>summary</th>\n",
       "      <th>related</th>\n",
       "      <th>lang</th>\n",
       "      <th>source</th>\n",
       "      <th>priceChangeClass</th>\n",
       "    </tr>\n",
       "  </thead>\n",
       "  <tbody>\n",
       "    <tr>\n",
       "      <th>0</th>\n",
       "      <td>70899</td>\n",
       "      <td>2020-10-19 21:03:14-05:00</td>\n",
       "      <td>Skechers USA (NYSE:SKX) Lifted to “Buy” at Val...</td>\n",
       "      <td>ValuEngine upgraded shares of Skechers USA (NY...</td>\n",
       "      <td>SKX</td>\n",
       "      <td>en</td>\n",
       "      <td>Stock Observer</td>\n",
       "      <td>1</td>\n",
       "    </tr>\n",
       "    <tr>\n",
       "      <th>1</th>\n",
       "      <td>70900</td>\n",
       "      <td>2020-10-08 15:05:00-05:00</td>\n",
       "      <td>SKECHERS USA, Inc. to Report Third Quarter 202...</td>\n",
       "      <td>MANHATTAN BEACH, Calif.--(BUSINESS WIRE)--SKEC...</td>\n",
       "      <td>SKX</td>\n",
       "      <td>en</td>\n",
       "      <td>Business Wire</td>\n",
       "      <td>0</td>\n",
       "    </tr>\n",
       "    <tr>\n",
       "      <th>2</th>\n",
       "      <td>70901</td>\n",
       "      <td>2020-10-02 01:00:00-05:00</td>\n",
       "      <td>Footwear Market will Showcase Negative Impact ...</td>\n",
       "      <td>Technavio has been monitoring the footwear mar...</td>\n",
       "      <td>SKX</td>\n",
       "      <td>en</td>\n",
       "      <td>Benzinga</td>\n",
       "      <td>0</td>\n",
       "    </tr>\n",
       "    <tr>\n",
       "      <th>3</th>\n",
       "      <td>70902</td>\n",
       "      <td>2020-09-24 14:27:56-05:00</td>\n",
       "      <td>Jon Najarian Sees Unusual Options Activity In ...</td>\n",
       "      <td>On CNBC's \"Fast Money Halftime Report,\" Jon Na...</td>\n",
       "      <td>SKX</td>\n",
       "      <td>en</td>\n",
       "      <td>Benzinga</td>\n",
       "      <td>1</td>\n",
       "    </tr>\n",
       "    <tr>\n",
       "      <th>4</th>\n",
       "      <td>70903</td>\n",
       "      <td>2020-09-02 15:05:00-05:00</td>\n",
       "      <td>Skechers Announces Virtual Participation at th...</td>\n",
       "      <td>MANHATTAN BEACH, Calif.--(BUSINESS WIRE)--SKEC...</td>\n",
       "      <td>SKX</td>\n",
       "      <td>en</td>\n",
       "      <td>Business Wire</td>\n",
       "      <td>1</td>\n",
       "    </tr>\n",
       "    <tr>\n",
       "      <th>...</th>\n",
       "      <td>...</td>\n",
       "      <td>...</td>\n",
       "      <td>...</td>\n",
       "      <td>...</td>\n",
       "      <td>...</td>\n",
       "      <td>...</td>\n",
       "      <td>...</td>\n",
       "      <td>...</td>\n",
       "    </tr>\n",
       "    <tr>\n",
       "      <th>283591</th>\n",
       "      <td>354490</td>\n",
       "      <td>2019-02-19 13:08:09-05:00</td>\n",
       "      <td>Advance Auto Parts, Inc. (AAP) CEO Tom Greco o...</td>\n",
       "      <td>No summary available.</td>\n",
       "      <td>AAP</td>\n",
       "      <td>en</td>\n",
       "      <td>Seeking Alpha</td>\n",
       "      <td>1</td>\n",
       "    </tr>\n",
       "    <tr>\n",
       "      <th>283592</th>\n",
       "      <td>354491</td>\n",
       "      <td>2019-02-19 06:50:47-05:00</td>\n",
       "      <td>Advance Auto Parts lower post Q4 results</td>\n",
       "      <td>No summary available.</td>\n",
       "      <td>AAP</td>\n",
       "      <td>en</td>\n",
       "      <td>Seeking Alpha</td>\n",
       "      <td>0</td>\n",
       "    </tr>\n",
       "    <tr>\n",
       "      <th>283593</th>\n",
       "      <td>354492</td>\n",
       "      <td>2019-02-19 06:42:14-05:00</td>\n",
       "      <td>Advance Auto Parts declares $0.06 dividend</td>\n",
       "      <td>No summary available.</td>\n",
       "      <td>AAP</td>\n",
       "      <td>en</td>\n",
       "      <td>Seeking Alpha</td>\n",
       "      <td>0</td>\n",
       "    </tr>\n",
       "    <tr>\n",
       "      <th>283594</th>\n",
       "      <td>354493</td>\n",
       "      <td>2019-02-19 06:40:42-05:00</td>\n",
       "      <td>Advance Auto Parts beats by $0.04, revenue in-...</td>\n",
       "      <td>No summary available.</td>\n",
       "      <td>AAP</td>\n",
       "      <td>en</td>\n",
       "      <td>Seeking Alpha</td>\n",
       "      <td>0</td>\n",
       "    </tr>\n",
       "    <tr>\n",
       "      <th>283595</th>\n",
       "      <td>354494</td>\n",
       "      <td>2019-02-18 17:30:06-05:00</td>\n",
       "      <td>Advance Auto Parts Q4 2018 Earnings Preview</td>\n",
       "      <td>No summary available.</td>\n",
       "      <td>AAP</td>\n",
       "      <td>en</td>\n",
       "      <td>Seeking Alpha</td>\n",
       "      <td>0</td>\n",
       "    </tr>\n",
       "  </tbody>\n",
       "</table>\n",
       "<p>283596 rows × 8 columns</p>\n",
       "</div>"
      ],
      "text/plain": [
       "         index                   datetime  \\\n",
       "0        70899  2020-10-19 21:03:14-05:00   \n",
       "1        70900  2020-10-08 15:05:00-05:00   \n",
       "2        70901  2020-10-02 01:00:00-05:00   \n",
       "3        70902  2020-09-24 14:27:56-05:00   \n",
       "4        70903  2020-09-02 15:05:00-05:00   \n",
       "...        ...                        ...   \n",
       "283591  354490  2019-02-19 13:08:09-05:00   \n",
       "283592  354491  2019-02-19 06:50:47-05:00   \n",
       "283593  354492  2019-02-19 06:42:14-05:00   \n",
       "283594  354493  2019-02-19 06:40:42-05:00   \n",
       "283595  354494  2019-02-18 17:30:06-05:00   \n",
       "\n",
       "                                                 headline  \\\n",
       "0       Skechers USA (NYSE:SKX) Lifted to “Buy” at Val...   \n",
       "1       SKECHERS USA, Inc. to Report Third Quarter 202...   \n",
       "2       Footwear Market will Showcase Negative Impact ...   \n",
       "3       Jon Najarian Sees Unusual Options Activity In ...   \n",
       "4       Skechers Announces Virtual Participation at th...   \n",
       "...                                                   ...   \n",
       "283591  Advance Auto Parts, Inc. (AAP) CEO Tom Greco o...   \n",
       "283592           Advance Auto Parts lower post Q4 results   \n",
       "283593         Advance Auto Parts declares $0.06 dividend   \n",
       "283594  Advance Auto Parts beats by $0.04, revenue in-...   \n",
       "283595        Advance Auto Parts Q4 2018 Earnings Preview   \n",
       "\n",
       "                                                  summary related lang  \\\n",
       "0       ValuEngine upgraded shares of Skechers USA (NY...     SKX   en   \n",
       "1       MANHATTAN BEACH, Calif.--(BUSINESS WIRE)--SKEC...     SKX   en   \n",
       "2       Technavio has been monitoring the footwear mar...     SKX   en   \n",
       "3       On CNBC's \"Fast Money Halftime Report,\" Jon Na...     SKX   en   \n",
       "4       MANHATTAN BEACH, Calif.--(BUSINESS WIRE)--SKEC...     SKX   en   \n",
       "...                                                   ...     ...  ...   \n",
       "283591                              No summary available.     AAP   en   \n",
       "283592                              No summary available.     AAP   en   \n",
       "283593                              No summary available.     AAP   en   \n",
       "283594                              No summary available.     AAP   en   \n",
       "283595                              No summary available.     AAP   en   \n",
       "\n",
       "                source  priceChangeClass  \n",
       "0       Stock Observer                 1  \n",
       "1        Business Wire                 0  \n",
       "2             Benzinga                 0  \n",
       "3             Benzinga                 1  \n",
       "4        Business Wire                 1  \n",
       "...                ...               ...  \n",
       "283591   Seeking Alpha                 1  \n",
       "283592   Seeking Alpha                 0  \n",
       "283593   Seeking Alpha                 0  \n",
       "283594   Seeking Alpha                 0  \n",
       "283595   Seeking Alpha                 0  \n",
       "\n",
       "[283596 rows x 8 columns]"
      ]
     },
     "execution_count": 32,
     "metadata": {},
     "output_type": "execute_result"
    }
   ],
   "source": [
    "train_data"
   ]
  }
 ],
 "metadata": {
  "kernelspec": {
   "display_name": "stock-news",
   "language": "python",
   "name": "stock-news"
  },
  "language_info": {
   "codemirror_mode": {
    "name": "ipython",
    "version": 3
   },
   "file_extension": ".py",
   "mimetype": "text/x-python",
   "name": "python",
   "nbconvert_exporter": "python",
   "pygments_lexer": "ipython3",
   "version": "3.8.5"
  }
 },
 "nbformat": 4,
 "nbformat_minor": 4
}
