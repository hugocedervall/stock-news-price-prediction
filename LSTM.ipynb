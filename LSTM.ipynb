{
 "cells": [
  {
   "cell_type": "markdown",
   "metadata": {},
   "source": [
    "# LSTM model"
   ]
  },
  {
   "cell_type": "code",
   "execution_count": 1,
   "metadata": {},
   "outputs": [],
   "source": [
    "import os\n",
    "import shutil\n",
    "\n",
    "import tensorflow as tf\n",
    "import tensorflow_hub as hub\n",
    "import tensorflow_text as text\n",
    "import pandas as pd \n",
    "import matplotlib.pyplot as plt\n",
    "import numpy as np\n",
    "\n",
    "from official.nlp import optimization\n",
    "\n",
    "import matplotlib.pyplot as plt\n",
    "\n",
    "tf.get_logger().setLevel('ERROR')"
   ]
  },
  {
   "cell_type": "code",
   "execution_count": 2,
   "metadata": {},
   "outputs": [],
   "source": [
    "if len(tf.config.list_physical_devices('GPU')):\n",
    "    physical_devices = tf.config.list_physical_devices('GPU')\n",
    "    tf.config.experimental.set_memory_growth(physical_devices[0], enable=True)\n",
    "os.environ['TF_CPP_MIN_LOG_LEVEL'] = '3'\n",
    "tf.compat.v1.logging.set_verbosity(tf.compat.v1.logging.ERROR)"
   ]
  },
  {
   "cell_type": "markdown",
   "metadata": {},
   "source": [
    "## Loading data"
   ]
  },
  {
   "cell_type": "code",
   "execution_count": 3,
   "metadata": {},
   "outputs": [
    {
     "name": "stdout",
     "output_type": "stream",
     "text": [
      "30220 summaries containing 'No summary available'\n",
      "6142 summaries containing 'Full story available on'\n",
      "Duplicate summaries removed: 14242\n",
      "Duplicate headlines removed: 404\n",
      "randomizing order of data\n"
     ]
    }
   ],
   "source": [
    "from data_getter import *"
   ]
  },
  {
   "cell_type": "code",
   "execution_count": 4,
   "metadata": {},
   "outputs": [
    {
     "data": {
      "image/png": "[encoded data removed]",
      "text/plain": [
       "<Figure size 432x288 with 1 Axes>"
      ]
     },
     "metadata": {
      "needs_background": "light"
     },
     "output_type": "display_data"
    }
   ],
   "source": [
    "import matplotlib.pyplot as plt\n",
    "balanced_dataset['priceChangeClass'].value_counts().plot(kind='bar');"
   ]
  },
  {
   "cell_type": "markdown",
   "metadata": {},
   "source": [
    "## LSTM model"
   ]
  },
  {
   "cell_type": "code",
   "execution_count": 5,
   "metadata": {},
   "outputs": [],
   "source": [
    "max_features = 100000  # Maximum vocab size.\n",
    "max_len = 256 # Sequence length to pad the outputs to.\n",
    "embedding_dims = 2\n",
    "\n",
    "encoder = tf.keras.layers.experimental.preprocessing.TextVectorization(\n",
    "    max_tokens=max_features, output_sequence_length=max_len)\n",
    "\n",
    "encoder.adapt(test_data.summary.to_numpy())"
   ]
  },
  {
   "cell_type": "code",
   "execution_count": 6,
   "metadata": {},
   "outputs": [
    {
     "data": {
      "text/plain": [
       "(53962,)"
      ]
     },
     "execution_count": 6,
     "metadata": {},
     "output_type": "execute_result"
    }
   ],
   "source": [
    "vocab = np.array(encoder.get_vocabulary())\n",
    "vocab.shape"
   ]
  },
  {
   "cell_type": "code",
   "execution_count": 7,
   "metadata": {},
   "outputs": [
    {
     "data": {
      "text/html": [
       "<div>\n",
       "<style scoped>\n",
       "    .dataframe tbody tr th:only-of-type {\n",
       "        vertical-align: middle;\n",
       "    }\n",
       "\n",
       "    .dataframe tbody tr th {\n",
       "        vertical-align: top;\n",
       "    }\n",
       "\n",
       "    .dataframe thead th {\n",
       "        text-align: right;\n",
       "    }\n",
       "</style>\n",
       "<table border=\"1\" class=\"dataframe\">\n",
       "  <thead>\n",
       "    <tr style=\"text-align: right;\">\n",
       "      <th></th>\n",
       "      <th>datetime</th>\n",
       "      <th>headline</th>\n",
       "      <th>summary</th>\n",
       "      <th>related</th>\n",
       "      <th>lang</th>\n",
       "      <th>source</th>\n",
       "      <th>1stepChange</th>\n",
       "      <th>2stepChange</th>\n",
       "      <th>3stepChange</th>\n",
       "      <th>priceChangeClass</th>\n",
       "      <th>6stepChange</th>\n",
       "    </tr>\n",
       "  </thead>\n",
       "  <tbody>\n",
       "    <tr>\n",
       "      <th>0</th>\n",
       "      <td>2020-10-21 10:11:13-05:00</td>\n",
       "      <td>Q4 2020 EPS Estimates for Portland General Ele...</td>\n",
       "      <td>Portland General Electric (NYSE:POR) – KeyCorp...</td>\n",
       "      <td>POR</td>\n",
       "      <td>en</td>\n",
       "      <td>Transcript Daily</td>\n",
       "      <td>1.004938</td>\n",
       "      <td>1.008186</td>\n",
       "      <td>1.007406</td>\n",
       "      <td>1</td>\n",
       "      <td>1.015333</td>\n",
       "    </tr>\n",
       "    <tr>\n",
       "      <th>1</th>\n",
       "      <td>2019-09-27 02:31:11-05:00</td>\n",
       "      <td>Tata Motors tumbles 4 per cent on reports of J...</td>\n",
       "      <td>The stock tumbled over 4 per cent to Rs 119.30...</td>\n",
       "      <td>TTM</td>\n",
       "      <td>en</td>\n",
       "      <td>The Economic Times India</td>\n",
       "      <td>0.986127</td>\n",
       "      <td>0.986127</td>\n",
       "      <td>0.995376</td>\n",
       "      <td>0</td>\n",
       "      <td>0.996532</td>\n",
       "    </tr>\n",
       "    <tr>\n",
       "      <th>2</th>\n",
       "      <td>2020-01-23 05:20:00-05:00</td>\n",
       "      <td>Billionaire businessman Leslie Wexner refuses ...</td>\n",
       "      <td>Leslie Wexner is the CEO of L Brands, which in...</td>\n",
       "      <td>LB</td>\n",
       "      <td>en</td>\n",
       "      <td>ABC News</td>\n",
       "      <td>1.002445</td>\n",
       "      <td>1.007335</td>\n",
       "      <td>1.015159</td>\n",
       "      <td>1</td>\n",
       "      <td>1.019560</td>\n",
       "    </tr>\n",
       "    <tr>\n",
       "      <th>3</th>\n",
       "      <td>2020-11-19 09:15:00-05:00</td>\n",
       "      <td>Condor Hospitality Announces Modification to I...</td>\n",
       "      <td>NORFOLK, Neb.--(BUSINESS WIRE)---- $CDOR #Hote...</td>\n",
       "      <td>BMO</td>\n",
       "      <td>en</td>\n",
       "      <td>Business Wire</td>\n",
       "      <td>1.008436</td>\n",
       "      <td>1.003431</td>\n",
       "      <td>1.004289</td>\n",
       "      <td>1</td>\n",
       "      <td>1.001859</td>\n",
       "    </tr>\n",
       "    <tr>\n",
       "      <th>4</th>\n",
       "      <td>2020-05-16 11:09:52-05:00</td>\n",
       "      <td>Scott Disick’s style essentials are as luxe an...</td>\n",
       "      <td>From Louis Vuitton luggage to a watch that pro...</td>\n",
       "      <td>MC</td>\n",
       "      <td>en</td>\n",
       "      <td>Page Six</td>\n",
       "      <td>1.043058</td>\n",
       "      <td>1.036380</td>\n",
       "      <td>1.039016</td>\n",
       "      <td>2</td>\n",
       "      <td>1.044288</td>\n",
       "    </tr>\n",
       "    <tr>\n",
       "      <th>...</th>\n",
       "      <td>...</td>\n",
       "      <td>...</td>\n",
       "      <td>...</td>\n",
       "      <td>...</td>\n",
       "      <td>...</td>\n",
       "      <td>...</td>\n",
       "      <td>...</td>\n",
       "      <td>...</td>\n",
       "      <td>...</td>\n",
       "      <td>...</td>\n",
       "      <td>...</td>\n",
       "    </tr>\n",
       "    <tr>\n",
       "      <th>71059</th>\n",
       "      <td>2020-09-05 03:00:37-05:00</td>\n",
       "      <td>Defi Boom Fueling ETH Gas Fees, Threatens Viab...</td>\n",
       "      <td>Growing Ethereum network transaction fees, whi...</td>\n",
       "      <td>ETH</td>\n",
       "      <td>en</td>\n",
       "      <td>Bitcoin.com News</td>\n",
       "      <td>1.015162</td>\n",
       "      <td>1.003790</td>\n",
       "      <td>0.987939</td>\n",
       "      <td>2</td>\n",
       "      <td>1.004824</td>\n",
       "    </tr>\n",
       "    <tr>\n",
       "      <th>71060</th>\n",
       "      <td>2020-06-12 10:00:31-05:00</td>\n",
       "      <td>BAE to produce more Vertical Launching System ...</td>\n",
       "      <td>BAE Systems will produce multiple types of Ver...</td>\n",
       "      <td>BA</td>\n",
       "      <td>en</td>\n",
       "      <td>UK Defence Journal</td>\n",
       "      <td>0.986078</td>\n",
       "      <td>0.947778</td>\n",
       "      <td>0.954360</td>\n",
       "      <td>0</td>\n",
       "      <td>0.978162</td>\n",
       "    </tr>\n",
       "    <tr>\n",
       "      <th>71061</th>\n",
       "      <td>2019-12-05 08:00:00-05:00</td>\n",
       "      <td>TE's new thermal bridge solution significantly...</td>\n",
       "      <td>HARRISBURG, Pa., Dec. 5, 2019 /PRNewswire/ -- ...</td>\n",
       "      <td>TEL</td>\n",
       "      <td>en</td>\n",
       "      <td>PR Newswire</td>\n",
       "      <td>1.010157</td>\n",
       "      <td>1.006809</td>\n",
       "      <td>1.006586</td>\n",
       "      <td>2</td>\n",
       "      <td>1.009934</td>\n",
       "    </tr>\n",
       "    <tr>\n",
       "      <th>71062</th>\n",
       "      <td>2020-03-19 08:45:00-05:00</td>\n",
       "      <td>Coronavirus Rampage Continues For Skechers, Gu...</td>\n",
       "      <td>Skechers (SKX) shuts company-owned retail stor...</td>\n",
       "      <td>SKX</td>\n",
       "      <td>en</td>\n",
       "      <td>Zacks Investment Research</td>\n",
       "      <td>0.920465</td>\n",
       "      <td>0.922326</td>\n",
       "      <td>0.980465</td>\n",
       "      <td>0</td>\n",
       "      <td>0.989191</td>\n",
       "    </tr>\n",
       "    <tr>\n",
       "      <th>71063</th>\n",
       "      <td>2020-07-21 06:06:00-05:00</td>\n",
       "      <td>Why Wheaton Precious Metals Is Trading Higher ...</td>\n",
       "      <td>Wheaton Precious Metals (NYSE: WPM) shares are...</td>\n",
       "      <td>WPM</td>\n",
       "      <td>en</td>\n",
       "      <td>Benzinga</td>\n",
       "      <td>1.011952</td>\n",
       "      <td>1.004980</td>\n",
       "      <td>1.021713</td>\n",
       "      <td>2</td>\n",
       "      <td>1.022311</td>\n",
       "    </tr>\n",
       "  </tbody>\n",
       "</table>\n",
       "<p>71064 rows × 11 columns</p>\n",
       "</div>"
      ],
      "text/plain": [
       "                        datetime  \\\n",
       "0      2020-10-21 10:11:13-05:00   \n",
       "1      2019-09-27 02:31:11-05:00   \n",
       "2      2020-01-23 05:20:00-05:00   \n",
       "3      2020-11-19 09:15:00-05:00   \n",
       "4      2020-05-16 11:09:52-05:00   \n",
       "...                          ...   \n",
       "71059  2020-09-05 03:00:37-05:00   \n",
       "71060  2020-06-12 10:00:31-05:00   \n",
       "71061  2019-12-05 08:00:00-05:00   \n",
       "71062  2020-03-19 08:45:00-05:00   \n",
       "71063  2020-07-21 06:06:00-05:00   \n",
       "\n",
       "                                                headline  \\\n",
       "0      Q4 2020 EPS Estimates for Portland General Ele...   \n",
       "1      Tata Motors tumbles 4 per cent on reports of J...   \n",
       "2      Billionaire businessman Leslie Wexner refuses ...   \n",
       "3      Condor Hospitality Announces Modification to I...   \n",
       "4      Scott Disick’s style essentials are as luxe an...   \n",
       "...                                                  ...   \n",
       "71059  Defi Boom Fueling ETH Gas Fees, Threatens Viab...   \n",
       "71060  BAE to produce more Vertical Launching System ...   \n",
       "71061  TE's new thermal bridge solution significantly...   \n",
       "71062  Coronavirus Rampage Continues For Skechers, Gu...   \n",
       "71063  Why Wheaton Precious Metals Is Trading Higher ...   \n",
       "\n",
       "                                                 summary related lang  \\\n",
       "0      Portland General Electric (NYSE:POR) – KeyCorp...     POR   en   \n",
       "1      The stock tumbled over 4 per cent to Rs 119.30...     TTM   en   \n",
       "2      Leslie Wexner is the CEO of L Brands, which in...      LB   en   \n",
       "3      NORFOLK, Neb.--(BUSINESS WIRE)---- $CDOR #Hote...     BMO   en   \n",
       "4      From Louis Vuitton luggage to a watch that pro...      MC   en   \n",
       "...                                                  ...     ...  ...   \n",
       "71059  Growing Ethereum network transaction fees, whi...     ETH   en   \n",
       "71060  BAE Systems will produce multiple types of Ver...      BA   en   \n",
       "71061  HARRISBURG, Pa., Dec. 5, 2019 /PRNewswire/ -- ...     TEL   en   \n",
       "71062  Skechers (SKX) shuts company-owned retail stor...     SKX   en   \n",
       "71063  Wheaton Precious Metals (NYSE: WPM) shares are...     WPM   en   \n",
       "\n",
       "                          source  1stepChange  2stepChange  3stepChange  \\\n",
       "0               Transcript Daily     1.004938     1.008186     1.007406   \n",
       "1       The Economic Times India     0.986127     0.986127     0.995376   \n",
       "2                       ABC News     1.002445     1.007335     1.015159   \n",
       "3                  Business Wire     1.008436     1.003431     1.004289   \n",
       "4                       Page Six     1.043058     1.036380     1.039016   \n",
       "...                          ...          ...          ...          ...   \n",
       "71059           Bitcoin.com News     1.015162     1.003790     0.987939   \n",
       "71060         UK Defence Journal     0.986078     0.947778     0.954360   \n",
       "71061                PR Newswire     1.010157     1.006809     1.006586   \n",
       "71062  Zacks Investment Research     0.920465     0.922326     0.980465   \n",
       "71063                   Benzinga     1.011952     1.004980     1.021713   \n",
       "\n",
       "       priceChangeClass  6stepChange  \n",
       "0                     1     1.015333  \n",
       "1                     0     0.996532  \n",
       "2                     1     1.019560  \n",
       "3                     1     1.001859  \n",
       "4                     2     1.044288  \n",
       "...                 ...          ...  \n",
       "71059                 2     1.004824  \n",
       "71060                 0     0.978162  \n",
       "71061                 2     1.009934  \n",
       "71062                 0     0.989191  \n",
       "71063                 2     1.022311  \n",
       "\n",
       "[71064 rows x 11 columns]"
      ]
     },
     "execution_count": 7,
     "metadata": {},
     "output_type": "execute_result"
    }
   ],
   "source": [
    "train_data"
   ]
  },
  {
   "cell_type": "code",
   "execution_count": 8,
   "metadata": {},
   "outputs": [
    {
     "name": "stdout",
     "output_type": "stream",
     "text": [
      "Original:  DUBLIN , May 26, 2020 /PRNewswire/ -- The \"Commercial Vehicle & Off-highway Radar - Global Market Outlook (2018-2027)\" report has been added to ResearchAndMarkets.com's offering. The Global Commercial Vehicle & Off-highway Radar market accounted for $94.37 million in 2018 and is expected to reach $723.61 million by 2027, growing at a CAGR of 25.4% during the forecast period. Some of the key factors propelling the market growth are increasing number of autonomous vehicles, rising demand for commercial vehicles, and need for measuring the velocity of vehicles with high accuracy. However, inability of the system to distinguish multiple targets is the restraining factor for the growth of the market. By vehicle type, commercial vehicle segment is expected to grow at a significant market share during the forecast period as it is becoming necessary to tackle speed, distance, and such parameters of the commercial vehicles. On the basis of geography, Asia Pacific is anticipated to hold considerable market share during the forecast period due to the increasing infrastructure projects initiated by governments in the region\n",
      "\n",
      "Round-trip:  dublin may 26 2020 prnewswire the commercial vehicle offhighway radar global market outlook 20182027 report has been added to researchandmarketscoms offering the global commercial vehicle offhighway radar market accounted for [UNK] million in 2018 and is expected to reach [UNK] million by 2027 growing at a cagr of 254 during the forecast period some of the key factors propelling the market growth are increasing number of autonomous vehicles rising demand for commercial vehicles and need for measuring the velocity of vehicles with high accuracy however inability of the system to distinguish multiple targets is the restraining factor for the growth of the market by vehicle type commercial vehicle segment is expected to grow at a significant market share during the forecast period as it is becoming necessary to tackle speed distance and such parameters of the commercial vehicles on the basis of geography asia pacific is anticipated to hold considerable market share during the forecast period due to the increasing infrastructure projects initiated by governments in the region                                                                                        \n",
      "\n"
     ]
    }
   ],
   "source": [
    "example = ['DUBLIN , May 26, 2020 /PRNewswire/ -- The \"Commercial Vehicle & Off-highway Radar - Global Market Outlook (2018-2027)\" report has been added to ResearchAndMarkets.com\\'s offering. The Global Commercial Vehicle & Off-highway Radar market accounted for $94.37 million in 2018 and is expected to reach $723.61 million by 2027, growing at a CAGR of 25.4% during the forecast period. Some of the key factors propelling the market growth are increasing number of autonomous vehicles, rising demand for commercial vehicles, and need for measuring the velocity of vehicles with high accuracy. However, inability of the system to distinguish multiple targets is the restraining factor for the growth of the market. By vehicle type, commercial vehicle segment is expected to grow at a significant market share during the forecast period as it is becoming necessary to tackle speed, distance, and such parameters of the commercial vehicles. On the basis of geography, Asia Pacific is anticipated to hold considerable market share during the forecast period due to the increasing infrastructure projects initiated by governments in the region']\n",
    "encoded_example = encoder(example).numpy()\n",
    "encoded_example\n",
    "for n in range(1):\n",
    "  print(\"Original: \", example[n])\n",
    "  print(\"\")\n",
    "  print(\"Round-trip: \", \" \".join(vocab[encoded_example[n]]))\n",
    "  print()"
   ]
  },
  {
   "cell_type": "code",
   "execution_count": 9,
   "metadata": {},
   "outputs": [],
   "source": [
    " #encoder(example)"
   ]
  },
  {
   "cell_type": "code",
   "execution_count": 25,
   "metadata": {},
   "outputs": [
    {
     "name": "stdout",
     "output_type": "stream",
     "text": [
      "Amount of classes: 3\n"
     ]
    },
    {
     "data": {
      "text/plain": [
       "\"\\n# 42% after 1 epoch\\nmodel = tf.keras.Sequential([\\n    encoder,\\n    tf.keras.layers.Embedding(\\n        input_dim=len(encoder.get_vocabulary()),\\n        output_dim=64,\\n        # Use masking to handle the variable sequence lengths\\n        mask_zero=True),\\n    tf.keras.layers.Bidirectional(tf.keras.layers.LSTM(64,  return_sequences=True)),\\n    tf.keras.layers.Bidirectional(tf.keras.layers.LSTM(32)),\\n    tf.keras.layers.Dense(64, activation='relu'),\\n    tf.keras.layers.Dense(3, activation='softmax')\\n])\\n\""
      ]
     },
     "execution_count": 25,
     "metadata": {},
     "output_type": "execute_result"
    }
   ],
   "source": [
    "num_classes = len(set(train_data.priceChangeClass))\n",
    "print(f\"Amount of classes: {num_classes}\")\n",
    "\n",
    "\n",
    "model = tf.keras.Sequential([\n",
    "    encoder,\n",
    "    tf.keras.layers.Embedding(\n",
    "        input_dim=len(encoder.get_vocabulary()),\n",
    "        output_dim=256,\n",
    "        # Use masking to handle the variable sequence lengths\n",
    "        mask_zero=True),\n",
    "    tf.keras.layers.Bidirectional(tf.keras.layers.LSTM(256)),\n",
    "    #  tf.keras.layers.Bidirectional(tf.keras.layers.LSTM(256)),\n",
    "    # tf.keras.layers.Bidirectional(tf.keras.layers.LSTM(64)),\n",
    "    tf.keras.layers.Dropout(rate=0.1),\n",
    "    #tf.keras.layers.Dense(64, activation='relu'),\n",
    "    tf.keras.layers.Dense(num_classes)#, activation='softmax')\n",
    "])"
   ]
  },
  {
   "cell_type": "code",
   "execution_count": 26,
   "metadata": {},
   "outputs": [
    {
     "name": "stdout",
     "output_type": "stream",
     "text": [
      "[False, True, True, True, True]\n",
      "[3.5820785e-03 2.0262536e-02 7.3422911e-05]\n"
     ]
    }
   ],
   "source": [
    "print([layer.supports_masking for layer in model.layers])\n",
    "sample_text = ('The Global Commercial Vehicle & Off-highway Radar market accounted for $94.37 million in 2018 and is expected to reach $723.61 million by 2027, growing at a CAGR of 25.4% during the forecast period. Some of the key factors propelling the market growth are increasing number of autonomous vehicles, rising demand for commercial vehicles, and need for measuring the velocity of vehicles with high accuracy. However, inability of the system to distinguish multiple targets is the restraining factor for the growth of the market.')\n",
    "predictions = model.predict(np.array([sample_text]))\n",
    "print(predictions[0])"
   ]
  },
  {
   "cell_type": "code",
   "execution_count": 27,
   "metadata": {},
   "outputs": [],
   "source": [
    "from sklearn.metrics import f1_score,classification_report\n",
    "from data_analyser import calc_rate_of_return\n",
    "\n",
    "\n",
    "test_x = np.array(test_data.summary)\n",
    "test_y = np.array(test_data.priceChangeClass).astype(np.int8)\n",
    "\n",
    "class EpochEndSummaryCallback(tf.keras.callbacks.Callback):\n",
    "    def on_epoch_end(self, epoch, logs=None):\n",
    "        keys = list(logs.keys())\n",
    "        print(\"\\nEvaluating\")\n",
    "        pred = model.predict(test_x)\n",
    "        rez = []\n",
    "        for elem in pred:\n",
    "            aa = tf.math.argmax(elem)\n",
    "            rez.append(aa.numpy())\n",
    "            \n",
    "        print(classification_report(test_data.priceChangeClass, rez, digits=3))\n",
    "        \n",
    "        rate_return = calc_rate_of_return(rez, test_data[\"1stepChange\"].tolist(), buy_class=2)\n",
    "        print(np.mean(rate_return))\n"
   ]
  },
  {
   "cell_type": "code",
   "execution_count": 28,
   "metadata": {},
   "outputs": [],
   "source": [
    "model.compile(loss=tf.keras.losses.SparseCategoricalCrossentropy(from_logits=True),\n",
    "              optimizer=tf.keras.optimizers.Adam(1e-4),\n",
    "              metrics=tf.keras.metrics.SparseCategoricalAccuracy('accuracy', dtype=tf.float32))"
   ]
  },
  {
   "cell_type": "code",
   "execution_count": 29,
   "metadata": {},
   "outputs": [
    {
     "name": "stdout",
     "output_type": "stream",
     "text": [
      "Epoch 1/5\n",
      "2221/2221 [==============================] - ETA: 0s - loss: 1.0772 - accuracy: 0.3987\n",
      "Evaluating\n",
      "              precision    recall  f1-score   support\n",
      "\n",
      "           0      0.385     0.626     0.477      5914\n",
      "           1      0.468     0.474     0.471      5917\n",
      "           2      0.412     0.150     0.220      5935\n",
      "\n",
      "    accuracy                          0.416     17766\n",
      "   macro avg      0.422     0.417     0.389     17766\n",
      "weighted avg      0.422     0.416     0.389     17766\n",
      "\n",
      "1.0029357672996602\n",
      "2221/2221 [==============================] - 224s 101ms/step - loss: 1.0772 - accuracy: 0.3987 - val_loss: 1.0613 - val_accuracy: 0.4195\n",
      "Epoch 2/5\n",
      "2221/2221 [==============================] - ETA: 0s - loss: 1.0013 - accuracy: 0.4990\n",
      "Evaluating\n",
      "              precision    recall  f1-score   support\n",
      "\n",
      "           0      0.431     0.388     0.408      5914\n",
      "           1      0.461     0.494     0.477      5917\n",
      "           2      0.409     0.419     0.414      5935\n",
      "\n",
      "    accuracy                          0.434     17766\n",
      "   macro avg      0.433     0.434     0.433     17766\n",
      "weighted avg      0.433     0.434     0.433     17766\n",
      "\n",
      "1.003080697654831\n",
      "2221/2221 [==============================] - 222s 100ms/step - loss: 1.0013 - accuracy: 0.4990 - val_loss: 1.0634 - val_accuracy: 0.4377\n",
      "Epoch 3/5\n",
      "2221/2221 [==============================] - ETA: 0s - loss: 0.8848 - accuracy: 0.5902\n",
      "Evaluating\n",
      "              precision    recall  f1-score   support\n",
      "\n",
      "           0      0.419     0.366     0.391      5914\n",
      "           1      0.458     0.422     0.440      5917\n",
      "           2      0.399     0.481     0.436      5935\n",
      "\n",
      "    accuracy                          0.423     17766\n",
      "   macro avg      0.426     0.423     0.422     17766\n",
      "weighted avg      0.426     0.423     0.422     17766\n",
      "\n",
      "1.002745115926618\n",
      "2221/2221 [==============================] - 221s 99ms/step - loss: 0.8848 - accuracy: 0.5902 - val_loss: 1.1161 - val_accuracy: 0.4268\n",
      "Epoch 4/5\n",
      "2221/2221 [==============================] - ETA: 0s - loss: 0.7530 - accuracy: 0.6685\n",
      "Evaluating\n",
      "              precision    recall  f1-score   support\n",
      "\n",
      "           0      0.403     0.473     0.435      5914\n",
      "           1      0.461     0.434     0.447      5917\n",
      "           2      0.411     0.364     0.386      5935\n",
      "\n",
      "    accuracy                          0.423     17766\n",
      "   macro avg      0.425     0.424     0.423     17766\n",
      "weighted avg      0.425     0.423     0.423     17766\n",
      "\n",
      "1.0033594135500994\n",
      "2221/2221 [==============================] - 213s 96ms/step - loss: 0.7530 - accuracy: 0.6685 - val_loss: 1.2212 - val_accuracy: 0.4259\n",
      "Epoch 5/5\n",
      "2221/2221 [==============================] - ETA: 0s - loss: 0.6244 - accuracy: 0.7371\n",
      "Evaluating\n",
      "              precision    recall  f1-score   support\n",
      "\n",
      "           0      0.415     0.412     0.413      5914\n",
      "           1      0.434     0.483     0.457      5917\n",
      "           2      0.415     0.372     0.392      5935\n",
      "\n",
      "    accuracy                          0.422     17766\n",
      "   macro avg      0.421     0.422     0.421     17766\n",
      "weighted avg      0.421     0.422     0.421     17766\n",
      "\n",
      "1.0038762519650204\n",
      "2221/2221 [==============================] - 215s 97ms/step - loss: 0.6244 - accuracy: 0.7371 - val_loss: 1.3684 - val_accuracy: 0.4300\n"
     ]
    }
   ],
   "source": [
    "history = model.fit(\n",
    "    x=x_train,\n",
    "    y=y_train,\n",
    "    validation_data=(val_x, val_y),\n",
    "    epochs=5,\n",
    "    callbacks=[EpochEndSummaryCallback()]\n",
    ")"
   ]
  },
  {
   "cell_type": "code",
   "execution_count": 54,
   "metadata": {},
   "outputs": [
    {
     "name": "stdout",
     "output_type": "stream",
     "text": [
      "309/309 [==============================] - 6s 20ms/step - loss: 1.5031 - accuracy: 0.4227\n",
      "Test Loss: 1.5031203031539917\n",
      "Test Accuracy: 0.4226950407028198\n"
     ]
    }
   ],
   "source": [
    "test_loss, test_acc = model.evaluate(test_x, test_y)\n",
    "print('Test Loss: {}'.format(test_loss))\n",
    "print('Test Accuracy: {}'.format(test_acc))\n"
   ]
  },
  {
   "cell_type": "code",
   "execution_count": 55,
   "metadata": {},
   "outputs": [],
   "source": [
    "#del calc_rate_of_return\n",
    "from data_analyser import calc_rate_of_return"
   ]
  },
  {
   "cell_type": "code",
   "execution_count": 56,
   "metadata": {},
   "outputs": [],
   "source": [
    "pred = model.predict(np.array(test_data.summary))"
   ]
  },
  {
   "cell_type": "code",
   "execution_count": 57,
   "metadata": {},
   "outputs": [
    {
     "data": {
      "text/plain": [
       "array([[ 0.00279048, -0.22590958,  0.14025693],\n",
       "       [-0.61930984, -0.463526  ,  0.8515767 ],\n",
       "       [-0.49931228, -1.3707545 ,  1.1062266 ],\n",
       "       ...,\n",
       "       [ 0.9530206 , -0.7097001 , -0.5737804 ],\n",
       "       [-0.6955192 ,  1.411898  , -0.16117309],\n",
       "       [-0.01177319,  0.68542564, -0.44795248]], dtype=float32)"
      ]
     },
     "execution_count": 57,
     "metadata": {},
     "output_type": "execute_result"
    }
   ],
   "source": [
    "pred"
   ]
  },
  {
   "cell_type": "code",
   "execution_count": 58,
   "metadata": {},
   "outputs": [
    {
     "name": "stdout",
     "output_type": "stream",
     "text": [
      "[2 2 2 ... 0 1 1]\n"
     ]
    }
   ],
   "source": [
    "pred_classes = tf.math.argmax(pred, axis=1).numpy()\n",
    "print(pred_classes)"
   ]
  },
  {
   "cell_type": "code",
   "execution_count": 59,
   "metadata": {},
   "outputs": [
    {
     "data": {
      "text/plain": [
       "False"
      ]
     },
     "execution_count": 59,
     "metadata": {},
     "output_type": "execute_result"
    }
   ],
   "source": [
    "pred_classes[0] == 1"
   ]
  },
  {
   "cell_type": "code",
   "execution_count": null,
   "metadata": {},
   "outputs": [],
   "source": []
  },
  {
   "cell_type": "code",
   "execution_count": 60,
   "metadata": {},
   "outputs": [
    {
     "data": {
      "text/plain": [
       "0.41573792637622425"
      ]
     },
     "execution_count": 60,
     "metadata": {},
     "output_type": "execute_result"
    }
   ],
   "source": [
    "sum(pred_classes[i] == test_data.iloc[i].priceChangeClass for i in range(len(pred_classes))) / len(pred_classes)"
   ]
  },
  {
   "cell_type": "code",
   "execution_count": 61,
   "metadata": {},
   "outputs": [],
   "source": [
    "rate_return = calc_rate_of_return(pred_classes, test_data[\"1stepChange\"].tolist(), buy_class=2)"
   ]
  },
  {
   "cell_type": "code",
   "execution_count": 62,
   "metadata": {},
   "outputs": [
    {
     "data": {
      "image/png": "[encoded data removed]",
      "text/plain": [
       "<Figure size 432x288 with 1 Axes>"
      ]
     },
     "metadata": {
      "needs_background": "light"
     },
     "output_type": "display_data"
    }
   ],
   "source": [
    "plot = plt.hist(rate_return, bins=50, density=True, range=[0.9,1.1])"
   ]
  },
  {
   "cell_type": "code",
   "execution_count": 63,
   "metadata": {},
   "outputs": [
    {
     "data": {
      "image/png": "[encoded data removed]",
      "text/plain": [
       "<Figure size 432x288 with 1 Axes>"
      ]
     },
     "metadata": {
      "needs_background": "light"
     },
     "output_type": "display_data"
    }
   ],
   "source": [
    "plot = plt.hist(test_data[\"1stepChange\"].tolist(), bins=50, density=True, range=[0.9,1.1])"
   ]
  },
  {
   "cell_type": "code",
   "execution_count": 64,
   "metadata": {},
   "outputs": [
    {
     "data": {
      "text/plain": [
       "1.0026595887120615"
      ]
     },
     "execution_count": 64,
     "metadata": {},
     "output_type": "execute_result"
    }
   ],
   "source": [
    "np.mean(rate_return)"
   ]
  },
  {
   "cell_type": "code",
   "execution_count": 65,
   "metadata": {},
   "outputs": [
    {
     "data": {
      "text/plain": [
       "1.0001833401770026"
      ]
     },
     "execution_count": 65,
     "metadata": {},
     "output_type": "execute_result"
    }
   ],
   "source": [
    "np.mean(test_data[\"1stepChange\"].tolist())"
   ]
  },
  {
   "cell_type": "code",
   "execution_count": 31,
   "metadata": {},
   "outputs": [],
   "source": [
    "model.save(f\"models/LSTM/{test_acc:.5f}_acc\")"
   ]
  }
 ],
 "metadata": {
  "kernelspec": {
   "display_name": "stock-news",
   "language": "python",
   "name": "stock-news"
  },
  "language_info": {
   "codemirror_mode": {
    "name": "ipython",
    "version": 3
   },
   "file_extension": ".py",
   "mimetype": "text/x-python",
   "name": "python",
   "nbconvert_exporter": "python",
   "pygments_lexer": "ipython3",
   "version": "3.8.5"
  }
 },
 "nbformat": 4,
 "nbformat_minor": 4
}
