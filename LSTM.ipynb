{
 "cells": [
  {
   "cell_type": "markdown",
   "metadata": {},
   "source": [
    "# LSTM model"
   ]
  },
  {
   "cell_type": "code",
   "execution_count": 1,
   "metadata": {},
   "outputs": [],
   "source": [
    "import os\n",
    "import shutil\n",
    "\n",
    "import tensorflow as tf\n",
    "import tensorflow_hub as hub\n",
    "import tensorflow_text as text\n",
    "import pandas as pd \n",
    "import matplotlib.pyplot as plt\n",
    "import numpy as np\n",
    "\n",
    "from official.nlp import optimization  # to create AdamW optmizer\n",
    "\n",
    "import matplotlib.pyplot as plt\n",
    "\n",
    "tf.get_logger().setLevel('ERROR')"
   ]
  },
  {
   "cell_type": "code",
   "execution_count": 2,
   "metadata": {},
   "outputs": [],
   "source": [
    "if len(tf.config.list_physical_devices('GPU')):\n",
    "    physical_devices = tf.config.list_physical_devices('GPU')\n",
    "    tf.config.experimental.set_memory_growth(physical_devices[0], enable=True)\n",
    "os.environ['TF_CPP_MIN_LOG_LEVEL'] = '3'\n",
    "tf.compat.v1.logging.set_verbosity(tf.compat.v1.logging.ERROR)"
   ]
  },
  {
   "cell_type": "markdown",
   "metadata": {},
   "source": [
    "## Loading data"
   ]
  },
  {
   "cell_type": "code",
   "execution_count": 3,
   "metadata": {},
   "outputs": [
    {
     "name": "stdout",
     "output_type": "stream",
     "text": [
      "30220 summaries containing 'No summary available'\n",
      "6142 summaries containing 'Full story available on'\n",
      "Duplicate summaries removed: 14242\n",
      "Duplicate headlines removed: 404\n",
      "randomizing order of data\n"
     ]
    }
   ],
   "source": [
    "from data_getter import *"
   ]
  },
  {
   "cell_type": "code",
   "execution_count": 4,
   "metadata": {},
   "outputs": [
    {
     "data": {
      "image/png": "[encoded data removed]",
      "text/plain": [
       "<Figure size 432x288 with 1 Axes>"
      ]
     },
     "metadata": {
      "needs_background": "light"
     },
     "output_type": "display_data"
    }
   ],
   "source": [
    "import matplotlib.pyplot as plt\n",
    "balanced_dataset['priceChangeClass'].value_counts().plot(kind='bar');"
   ]
  },
  {
   "cell_type": "markdown",
   "metadata": {},
   "source": [
    "## LSTM model"
   ]
  },
  {
   "cell_type": "code",
   "execution_count": 5,
   "metadata": {},
   "outputs": [],
   "source": [
    "max_features = 100000  # Maximum vocab size.\n",
    "max_len = 256 # Sequence length to pad the outputs to.\n",
    "embedding_dims = 2\n",
    "\n",
    "encoder = tf.keras.layers.experimental.preprocessing.TextVectorization(\n",
    "    max_tokens=max_features, output_sequence_length=max_len)\n",
    "\n",
    "encoder.adapt(test_data.summary.to_numpy())"
   ]
  },
  {
   "cell_type": "code",
   "execution_count": 6,
   "metadata": {},
   "outputs": [
    {
     "data": {
      "text/plain": [
       "(53962,)"
      ]
     },
     "execution_count": 6,
     "metadata": {},
     "output_type": "execute_result"
    }
   ],
   "source": [
    "vocab = np.array(encoder.get_vocabulary())\n",
    "vocab.shape"
   ]
  },
  {
   "cell_type": "code",
   "execution_count": 7,
   "metadata": {},
   "outputs": [
    {
     "data": {
      "text/html": [
       "<div>\n",
       "<style scoped>\n",
       "    .dataframe tbody tr th:only-of-type {\n",
       "        vertical-align: middle;\n",
       "    }\n",
       "\n",
       "    .dataframe tbody tr th {\n",
       "        vertical-align: top;\n",
       "    }\n",
       "\n",
       "    .dataframe thead th {\n",
       "        text-align: right;\n",
       "    }\n",
       "</style>\n",
       "<table border=\"1\" class=\"dataframe\">\n",
       "  <thead>\n",
       "    <tr style=\"text-align: right;\">\n",
       "      <th></th>\n",
       "      <th>datetime</th>\n",
       "      <th>headline</th>\n",
       "      <th>summary</th>\n",
       "      <th>related</th>\n",
       "      <th>lang</th>\n",
       "      <th>source</th>\n",
       "      <th>1stepChange</th>\n",
       "      <th>2stepChange</th>\n",
       "      <th>3stepChange</th>\n",
       "      <th>priceChangeClass</th>\n",
       "      <th>6stepChange</th>\n",
       "    </tr>\n",
       "  </thead>\n",
       "  <tbody>\n",
       "    <tr>\n",
       "      <th>0</th>\n",
       "      <td>2020-10-21 10:11:13-05:00</td>\n",
       "      <td>Q4 2020 EPS Estimates for Portland General Ele...</td>\n",
       "      <td>Portland General Electric (NYSE:POR) – KeyCorp...</td>\n",
       "      <td>POR</td>\n",
       "      <td>en</td>\n",
       "      <td>Transcript Daily</td>\n",
       "      <td>1.004938</td>\n",
       "      <td>1.008186</td>\n",
       "      <td>1.007406</td>\n",
       "      <td>1</td>\n",
       "      <td>1.015333</td>\n",
       "    </tr>\n",
       "    <tr>\n",
       "      <th>1</th>\n",
       "      <td>2019-09-27 02:31:11-05:00</td>\n",
       "      <td>Tata Motors tumbles 4 per cent on reports of J...</td>\n",
       "      <td>The stock tumbled over 4 per cent to Rs 119.30...</td>\n",
       "      <td>TTM</td>\n",
       "      <td>en</td>\n",
       "      <td>The Economic Times India</td>\n",
       "      <td>0.986127</td>\n",
       "      <td>0.986127</td>\n",
       "      <td>0.995376</td>\n",
       "      <td>0</td>\n",
       "      <td>0.996532</td>\n",
       "    </tr>\n",
       "    <tr>\n",
       "      <th>2</th>\n",
       "      <td>2020-01-23 05:20:00-05:00</td>\n",
       "      <td>Billionaire businessman Leslie Wexner refuses ...</td>\n",
       "      <td>Leslie Wexner is the CEO of L Brands, which in...</td>\n",
       "      <td>LB</td>\n",
       "      <td>en</td>\n",
       "      <td>ABC News</td>\n",
       "      <td>1.002445</td>\n",
       "      <td>1.007335</td>\n",
       "      <td>1.015159</td>\n",
       "      <td>1</td>\n",
       "      <td>1.019560</td>\n",
       "    </tr>\n",
       "    <tr>\n",
       "      <th>3</th>\n",
       "      <td>2020-11-19 09:15:00-05:00</td>\n",
       "      <td>Condor Hospitality Announces Modification to I...</td>\n",
       "      <td>NORFOLK, Neb.--(BUSINESS WIRE)---- $CDOR #Hote...</td>\n",
       "      <td>BMO</td>\n",
       "      <td>en</td>\n",
       "      <td>Business Wire</td>\n",
       "      <td>1.008436</td>\n",
       "      <td>1.003431</td>\n",
       "      <td>1.004289</td>\n",
       "      <td>1</td>\n",
       "      <td>1.001859</td>\n",
       "    </tr>\n",
       "    <tr>\n",
       "      <th>4</th>\n",
       "      <td>2020-05-16 11:09:52-05:00</td>\n",
       "      <td>Scott Disick’s style essentials are as luxe an...</td>\n",
       "      <td>From Louis Vuitton luggage to a watch that pro...</td>\n",
       "      <td>MC</td>\n",
       "      <td>en</td>\n",
       "      <td>Page Six</td>\n",
       "      <td>1.043058</td>\n",
       "      <td>1.036380</td>\n",
       "      <td>1.039016</td>\n",
       "      <td>2</td>\n",
       "      <td>1.044288</td>\n",
       "    </tr>\n",
       "    <tr>\n",
       "      <th>...</th>\n",
       "      <td>...</td>\n",
       "      <td>...</td>\n",
       "      <td>...</td>\n",
       "      <td>...</td>\n",
       "      <td>...</td>\n",
       "      <td>...</td>\n",
       "      <td>...</td>\n",
       "      <td>...</td>\n",
       "      <td>...</td>\n",
       "      <td>...</td>\n",
       "      <td>...</td>\n",
       "    </tr>\n",
       "    <tr>\n",
       "      <th>71059</th>\n",
       "      <td>2020-09-05 03:00:37-05:00</td>\n",
       "      <td>Defi Boom Fueling ETH Gas Fees, Threatens Viab...</td>\n",
       "      <td>Growing Ethereum network transaction fees, whi...</td>\n",
       "      <td>ETH</td>\n",
       "      <td>en</td>\n",
       "      <td>Bitcoin.com News</td>\n",
       "      <td>1.015162</td>\n",
       "      <td>1.003790</td>\n",
       "      <td>0.987939</td>\n",
       "      <td>2</td>\n",
       "      <td>1.004824</td>\n",
       "    </tr>\n",
       "    <tr>\n",
       "      <th>71060</th>\n",
       "      <td>2020-06-12 10:00:31-05:00</td>\n",
       "      <td>BAE to produce more Vertical Launching System ...</td>\n",
       "      <td>BAE Systems will produce multiple types of Ver...</td>\n",
       "      <td>BA</td>\n",
       "      <td>en</td>\n",
       "      <td>UK Defence Journal</td>\n",
       "      <td>0.986078</td>\n",
       "      <td>0.947778</td>\n",
       "      <td>0.954360</td>\n",
       "      <td>0</td>\n",
       "      <td>0.978162</td>\n",
       "    </tr>\n",
       "    <tr>\n",
       "      <th>71061</th>\n",
       "      <td>2019-12-05 08:00:00-05:00</td>\n",
       "      <td>TE's new thermal bridge solution significantly...</td>\n",
       "      <td>HARRISBURG, Pa., Dec. 5, 2019 /PRNewswire/ -- ...</td>\n",
       "      <td>TEL</td>\n",
       "      <td>en</td>\n",
       "      <td>PR Newswire</td>\n",
       "      <td>1.010157</td>\n",
       "      <td>1.006809</td>\n",
       "      <td>1.006586</td>\n",
       "      <td>2</td>\n",
       "      <td>1.009934</td>\n",
       "    </tr>\n",
       "    <tr>\n",
       "      <th>71062</th>\n",
       "      <td>2020-03-19 08:45:00-05:00</td>\n",
       "      <td>Coronavirus Rampage Continues For Skechers, Gu...</td>\n",
       "      <td>Skechers (SKX) shuts company-owned retail stor...</td>\n",
       "      <td>SKX</td>\n",
       "      <td>en</td>\n",
       "      <td>Zacks Investment Research</td>\n",
       "      <td>0.920465</td>\n",
       "      <td>0.922326</td>\n",
       "      <td>0.980465</td>\n",
       "      <td>0</td>\n",
       "      <td>0.989191</td>\n",
       "    </tr>\n",
       "    <tr>\n",
       "      <th>71063</th>\n",
       "      <td>2020-07-21 06:06:00-05:00</td>\n",
       "      <td>Why Wheaton Precious Metals Is Trading Higher ...</td>\n",
       "      <td>Wheaton Precious Metals (NYSE: WPM) shares are...</td>\n",
       "      <td>WPM</td>\n",
       "      <td>en</td>\n",
       "      <td>Benzinga</td>\n",
       "      <td>1.011952</td>\n",
       "      <td>1.004980</td>\n",
       "      <td>1.021713</td>\n",
       "      <td>2</td>\n",
       "      <td>1.022311</td>\n",
       "    </tr>\n",
       "  </tbody>\n",
       "</table>\n",
       "<p>71064 rows × 11 columns</p>\n",
       "</div>"
      ],
      "text/plain": [
       "                        datetime  \\\n",
       "0      2020-10-21 10:11:13-05:00   \n",
       "1      2019-09-27 02:31:11-05:00   \n",
       "2      2020-01-23 05:20:00-05:00   \n",
       "3      2020-11-19 09:15:00-05:00   \n",
       "4      2020-05-16 11:09:52-05:00   \n",
       "...                          ...   \n",
       "71059  2020-09-05 03:00:37-05:00   \n",
       "71060  2020-06-12 10:00:31-05:00   \n",
       "71061  2019-12-05 08:00:00-05:00   \n",
       "71062  2020-03-19 08:45:00-05:00   \n",
       "71063  2020-07-21 06:06:00-05:00   \n",
       "\n",
       "                                                headline  \\\n",
       "0      Q4 2020 EPS Estimates for Portland General Ele...   \n",
       "1      Tata Motors tumbles 4 per cent on reports of J...   \n",
       "2      Billionaire businessman Leslie Wexner refuses ...   \n",
       "3      Condor Hospitality Announces Modification to I...   \n",
       "4      Scott Disick’s style essentials are as luxe an...   \n",
       "...                                                  ...   \n",
       "71059  Defi Boom Fueling ETH Gas Fees, Threatens Viab...   \n",
       "71060  BAE to produce more Vertical Launching System ...   \n",
       "71061  TE's new thermal bridge solution significantly...   \n",
       "71062  Coronavirus Rampage Continues For Skechers, Gu...   \n",
       "71063  Why Wheaton Precious Metals Is Trading Higher ...   \n",
       "\n",
       "                                                 summary related lang  \\\n",
       "0      Portland General Electric (NYSE:POR) – KeyCorp...     POR   en   \n",
       "1      The stock tumbled over 4 per cent to Rs 119.30...     TTM   en   \n",
       "2      Leslie Wexner is the CEO of L Brands, which in...      LB   en   \n",
       "3      NORFOLK, Neb.--(BUSINESS WIRE)---- $CDOR #Hote...     BMO   en   \n",
       "4      From Louis Vuitton luggage to a watch that pro...      MC   en   \n",
       "...                                                  ...     ...  ...   \n",
       "71059  Growing Ethereum network transaction fees, whi...     ETH   en   \n",
       "71060  BAE Systems will produce multiple types of Ver...      BA   en   \n",
       "71061  HARRISBURG, Pa., Dec. 5, 2019 /PRNewswire/ -- ...     TEL   en   \n",
       "71062  Skechers (SKX) shuts company-owned retail stor...     SKX   en   \n",
       "71063  Wheaton Precious Metals (NYSE: WPM) shares are...     WPM   en   \n",
       "\n",
       "                          source  1stepChange  2stepChange  3stepChange  \\\n",
       "0               Transcript Daily     1.004938     1.008186     1.007406   \n",
       "1       The Economic Times India     0.986127     0.986127     0.995376   \n",
       "2                       ABC News     1.002445     1.007335     1.015159   \n",
       "3                  Business Wire     1.008436     1.003431     1.004289   \n",
       "4                       Page Six     1.043058     1.036380     1.039016   \n",
       "...                          ...          ...          ...          ...   \n",
       "71059           Bitcoin.com News     1.015162     1.003790     0.987939   \n",
       "71060         UK Defence Journal     0.986078     0.947778     0.954360   \n",
       "71061                PR Newswire     1.010157     1.006809     1.006586   \n",
       "71062  Zacks Investment Research     0.920465     0.922326     0.980465   \n",
       "71063                   Benzinga     1.011952     1.004980     1.021713   \n",
       "\n",
       "       priceChangeClass  6stepChange  \n",
       "0                     1     1.015333  \n",
       "1                     0     0.996532  \n",
       "2                     1     1.019560  \n",
       "3                     1     1.001859  \n",
       "4                     2     1.044288  \n",
       "...                 ...          ...  \n",
       "71059                 2     1.004824  \n",
       "71060                 0     0.978162  \n",
       "71061                 2     1.009934  \n",
       "71062                 0     0.989191  \n",
       "71063                 2     1.022311  \n",
       "\n",
       "[71064 rows x 11 columns]"
      ]
     },
     "execution_count": 7,
     "metadata": {},
     "output_type": "execute_result"
    }
   ],
   "source": [
    "train_data"
   ]
  },
  {
   "cell_type": "code",
   "execution_count": 8,
   "metadata": {},
   "outputs": [
    {
     "name": "stdout",
     "output_type": "stream",
     "text": [
      "Original:  DUBLIN , May 26, 2020 /PRNewswire/ -- The \"Commercial Vehicle & Off-highway Radar - Global Market Outlook (2018-2027)\" report has been added to ResearchAndMarkets.com's offering. The Global Commercial Vehicle & Off-highway Radar market accounted for $94.37 million in 2018 and is expected to reach $723.61 million by 2027, growing at a CAGR of 25.4% during the forecast period. Some of the key factors propelling the market growth are increasing number of autonomous vehicles, rising demand for commercial vehicles, and need for measuring the velocity of vehicles with high accuracy. However, inability of the system to distinguish multiple targets is the restraining factor for the growth of the market. By vehicle type, commercial vehicle segment is expected to grow at a significant market share during the forecast period as it is becoming necessary to tackle speed, distance, and such parameters of the commercial vehicles. On the basis of geography, Asia Pacific is anticipated to hold considerable market share during the forecast period due to the increasing infrastructure projects initiated by governments in the region\n",
      "\n",
      "Round-trip:  dublin may 26 2020 prnewswire the commercial vehicle offhighway radar global market outlook 20182027 report has been added to researchandmarketscoms offering the global commercial vehicle offhighway radar market accounted for [UNK] million in 2018 and is expected to reach [UNK] million by 2027 growing at a cagr of 254 during the forecast period some of the key factors propelling the market growth are increasing number of autonomous vehicles rising demand for commercial vehicles and need for measuring the velocity of vehicles with high accuracy however inability of the system to distinguish multiple targets is the restraining factor for the growth of the market by vehicle type commercial vehicle segment is expected to grow at a significant market share during the forecast period as it is becoming necessary to tackle speed distance and such parameters of the commercial vehicles on the basis of geography asia pacific is anticipated to hold considerable market share during the forecast period due to the increasing infrastructure projects initiated by governments in the region                                                                                        \n",
      "\n"
     ]
    }
   ],
   "source": [
    "example = ['DUBLIN , May 26, 2020 /PRNewswire/ -- The \"Commercial Vehicle & Off-highway Radar - Global Market Outlook (2018-2027)\" report has been added to ResearchAndMarkets.com\\'s offering. The Global Commercial Vehicle & Off-highway Radar market accounted for $94.37 million in 2018 and is expected to reach $723.61 million by 2027, growing at a CAGR of 25.4% during the forecast period. Some of the key factors propelling the market growth are increasing number of autonomous vehicles, rising demand for commercial vehicles, and need for measuring the velocity of vehicles with high accuracy. However, inability of the system to distinguish multiple targets is the restraining factor for the growth of the market. By vehicle type, commercial vehicle segment is expected to grow at a significant market share during the forecast period as it is becoming necessary to tackle speed, distance, and such parameters of the commercial vehicles. On the basis of geography, Asia Pacific is anticipated to hold considerable market share during the forecast period due to the increasing infrastructure projects initiated by governments in the region']\n",
    "encoded_example = encoder(example).numpy()\n",
    "encoded_example\n",
    "for n in range(1):\n",
    "  print(\"Original: \", example[n])\n",
    "  print(\"\")\n",
    "  print(\"Round-trip: \", \" \".join(vocab[encoded_example[n]]))\n",
    "  print()"
   ]
  },
  {
   "cell_type": "code",
   "execution_count": 9,
   "metadata": {},
   "outputs": [],
   "source": [
    " #encoder(example)"
   ]
  },
  {
   "cell_type": "code",
   "execution_count": 20,
   "metadata": {},
   "outputs": [
    {
     "name": "stdout",
     "output_type": "stream",
     "text": [
      "Amount of classes: 3\n"
     ]
    },
    {
     "data": {
      "text/plain": [
       "\"\\n# 42% after 1 epoch\\nmodel = tf.keras.Sequential([\\n    encoder,\\n    tf.keras.layers.Embedding(\\n        input_dim=len(encoder.get_vocabulary()),\\n        output_dim=64,\\n        # Use masking to handle the variable sequence lengths\\n        mask_zero=True),\\n    tf.keras.layers.Bidirectional(tf.keras.layers.LSTM(64,  return_sequences=True)),\\n    tf.keras.layers.Bidirectional(tf.keras.layers.LSTM(32)),\\n    tf.keras.layers.Dense(64, activation='relu'),\\n    tf.keras.layers.Dense(3, activation='softmax')\\n])\\n\""
      ]
     },
     "execution_count": 20,
     "metadata": {},
     "output_type": "execute_result"
    }
   ],
   "source": [
    "num_classes = len(set(train_data.priceChangeClass))\n",
    "print(f\"Amount of classes: {num_classes}\")\n",
    "\"\"\"\n",
    "model = tf.keras.Sequential([\n",
    "    encoder,\n",
    "    tf.keras.layers.Embedding(\n",
    "        input_dim=len(encoder.get_vocabulary()),\n",
    "        output_dim=64,\n",
    "        # Use masking to handle the variable sequence lengths\n",
    "        mask_zero=True),\n",
    "    tf.keras.layers.Bidirectional(tf.keras.layers.LSTM(64, return_sequences=True)),\n",
    "    #  tf.keras.layers.Bidirectional(tf.keras.layers.LSTM(256)),\n",
    "    tf.keras.layers.Bidirectional(tf.keras.layers.LSTM(64, return_sequences=True)),\n",
    "    tf.keras.layers.Bidirectional(tf.keras.layers.LSTM(64)),\n",
    "    tf.keras.layers.Dropout(rate=0.1),\n",
    "    tf.keras.layers.Dense(64, activation='relu'),\n",
    "    tf.keras.layers.Dense(num_classes)#, activation='softmax')\n",
    "])\n",
    "\"\"\"\n",
    "\n",
    "# Gave around 41-43% acc\n",
    "model = tf.keras.Sequential([\n",
    "    encoder,\n",
    "    tf.keras.layers.Embedding(\n",
    "        input_dim=len(encoder.get_vocabulary()),\n",
    "        output_dim=256,\n",
    "        # Use masking to handle the variable sequence lengths\n",
    "        mask_zero=True),\n",
    "    tf.keras.layers.Bidirectional(tf.keras.layers.LSTM(256, return_sequences=True)),\n",
    "    #  tf.keras.layers.Bidirectional(tf.keras.layers.LSTM(256)),\n",
    "    tf.keras.layers.Bidirectional(tf.keras.layers.LSTM(64)),\n",
    "    tf.keras.layers.Dropout(rate=0.1),\n",
    "    #tf.keras.layers.Dense(64, activation='relu'),\n",
    "    tf.keras.layers.Dense(num_classes)#, activation='softmax')\n",
    "])\n",
    "\n",
    "\"\"\"\n",
    "# 42% after 1 epoch\n",
    "model = tf.keras.Sequential([\n",
    "    encoder,\n",
    "    tf.keras.layers.Embedding(\n",
    "        input_dim=len(encoder.get_vocabulary()),\n",
    "        output_dim=64,\n",
    "        # Use masking to handle the variable sequence lengths\n",
    "        mask_zero=True),\n",
    "    tf.keras.layers.Bidirectional(tf.keras.layers.LSTM(64,  return_sequences=True)),\n",
    "    tf.keras.layers.Bidirectional(tf.keras.layers.LSTM(32)),\n",
    "    tf.keras.layers.Dense(64, activation='relu'),\n",
    "    tf.keras.layers.Dense(3, activation='softmax')\n",
    "])\n",
    "\"\"\""
   ]
  },
  {
   "cell_type": "code",
   "execution_count": 21,
   "metadata": {},
   "outputs": [
    {
     "name": "stdout",
     "output_type": "stream",
     "text": [
      "[False, True, True, True, True, True]\n",
      "[-0.00301948  0.00237734 -0.00260312]\n"
     ]
    }
   ],
   "source": [
    "print([layer.supports_masking for layer in model.layers])\n",
    "sample_text = ('The Global Commercial Vehicle & Off-highway Radar market accounted for $94.37 million in 2018 and is expected to reach $723.61 million by 2027, growing at a CAGR of 25.4% during the forecast period. Some of the key factors propelling the market growth are increasing number of autonomous vehicles, rising demand for commercial vehicles, and need for measuring the velocity of vehicles with high accuracy. However, inability of the system to distinguish multiple targets is the restraining factor for the growth of the market.')\n",
    "predictions = model.predict(np.array([sample_text]))\n",
    "print(predictions[0])"
   ]
  },
  {
   "cell_type": "code",
   "execution_count": 22,
   "metadata": {},
   "outputs": [],
   "source": [
    "from sklearn.metrics import f1_score,classification_report\n",
    "from data_analyser import calc_rate_of_return\n",
    "\n",
    "\n",
    "test_x = np.array(test_data.summary)\n",
    "test_y = np.array(test_data.priceChangeClass).astype(np.int8)\n",
    "\n",
    "class EpochEndSummaryCallback(tf.keras.callbacks.Callback):\n",
    "    def on_epoch_end(self, epoch, logs=None):\n",
    "        keys = list(logs.keys())\n",
    "        print(\"\\nEvaluating\")\n",
    "        pred = model.predict(test_x)\n",
    "        rez = []\n",
    "        for elem in pred:\n",
    "            aa = tf.math.argmax(elem)\n",
    "            rez.append(aa.numpy())\n",
    "            \n",
    "        print(classification_report(test_data.priceChangeClass, rez, digits=3))\n",
    "        \n",
    "        rate_return = calc_rate_of_return(rez, test_data[\"1stepChange\"].tolist(), buy_class=2)\n",
    "        print(np.mean(rate_return))\n",
    "        #print(\"End epoch {} of training; got log keys: {}\".format(epoch, keys))\n"
   ]
  },
  {
   "cell_type": "code",
   "execution_count": 23,
   "metadata": {},
   "outputs": [],
   "source": [
    "model.compile(loss=tf.keras.losses.SparseCategoricalCrossentropy(from_logits=True),\n",
    "              optimizer=tf.keras.optimizers.Adam(1e-4),\n",
    "              metrics=tf.keras.metrics.SparseCategoricalAccuracy('accuracy', dtype=tf.float32))"
   ]
  },
  {
   "cell_type": "code",
   "execution_count": null,
   "metadata": {},
   "outputs": [
    {
     "name": "stdout",
     "output_type": "stream",
     "text": [
      "Epoch 1/15\n",
      "2221/2221 [==============================] - ETA: 0s - loss: 1.0753 - accuracy: 0.4015\n",
      "Evaluating\n",
      "              precision    recall  f1-score   support\n",
      "\n",
      "           0      0.381     0.613     0.470      5914\n",
      "           1      0.492     0.393     0.437      5917\n",
      "           2      0.415     0.246     0.309      5935\n",
      "\n",
      "    accuracy                          0.417     17766\n",
      "   macro avg      0.429     0.417     0.405     17766\n",
      "weighted avg      0.429     0.417     0.405     17766\n",
      "\n",
      "1.0032683263291649\n",
      "2221/2221 [==============================] - 265s 119ms/step - loss: 1.0753 - accuracy: 0.4015 - val_loss: 1.0635 - val_accuracy: 0.4276\n",
      "Epoch 2/15\n",
      "2221/2221 [==============================] - ETA: 0s - loss: 0.9910 - accuracy: 0.5083\n",
      "Evaluating\n",
      "              precision    recall  f1-score   support\n",
      "\n",
      "           0      0.428     0.383     0.404      5914\n",
      "           1      0.470     0.494     0.482      5917\n",
      "           2      0.412     0.433     0.422      5935\n",
      "\n",
      "    accuracy                          0.437     17766\n",
      "   macro avg      0.437     0.437     0.436     17766\n",
      "weighted avg      0.437     0.437     0.436     17766\n",
      "\n",
      "1.003094492687757\n",
      "2221/2221 [==============================] - 258s 116ms/step - loss: 0.9910 - accuracy: 0.5083 - val_loss: 1.0671 - val_accuracy: 0.4415\n",
      "Epoch 3/15\n",
      "2221/2221 [==============================] - ETA: 0s - loss: 0.8636 - accuracy: 0.6026\n",
      "Evaluating\n",
      "              precision    recall  f1-score   support\n",
      "\n",
      "           0      0.428     0.368     0.396      5914\n",
      "           1      0.452     0.504     0.476      5917\n",
      "           2      0.413     0.423     0.418      5935\n",
      "\n",
      "    accuracy                          0.432     17766\n",
      "   macro avg      0.431     0.432     0.430     17766\n",
      "weighted avg      0.431     0.432     0.430     17766\n",
      "\n",
      "1.0032886255995086\n",
      "2221/2221 [==============================] - 255s 115ms/step - loss: 0.8636 - accuracy: 0.6026 - val_loss: 1.1327 - val_accuracy: 0.4306\n",
      "Epoch 4/15\n",
      "2221/2221 [==============================] - ETA: 0s - loss: 0.7257 - accuracy: 0.6864\n",
      "Evaluating\n",
      "              precision    recall  f1-score   support\n",
      "\n",
      "           0      0.420     0.401     0.410      5914\n",
      "           1      0.452     0.453     0.453      5917\n",
      "           2      0.411     0.428     0.420      5935\n",
      "\n",
      "    accuracy                          0.428     17766\n",
      "   macro avg      0.428     0.428     0.427     17766\n",
      "weighted avg      0.428     0.428     0.427     17766\n",
      "\n",
      "1.003362623678157\n",
      "2221/2221 [==============================] - 261s 117ms/step - loss: 0.7257 - accuracy: 0.6864 - val_loss: 1.2477 - val_accuracy: 0.4266\n",
      "Epoch 5/15\n",
      "2221/2221 [==============================] - ETA: 0s - loss: 0.5981 - accuracy: 0.7528\n",
      "Evaluating\n",
      "              precision    recall  f1-score   support\n",
      "\n",
      "           0      0.407     0.435     0.420      5914\n",
      "           1      0.440     0.437     0.438      5917\n",
      "           2      0.407     0.381     0.393      5935\n",
      "\n",
      "    accuracy                          0.418     17766\n",
      "   macro avg      0.418     0.418     0.417     17766\n",
      "weighted avg      0.418     0.418     0.417     17766\n",
      "\n",
      "1.0034306933158934\n",
      "2221/2221 [==============================] - 252s 114ms/step - loss: 0.5981 - accuracy: 0.7528 - val_loss: 1.4448 - val_accuracy: 0.4253\n",
      "Epoch 6/15\n",
      "2221/2221 [==============================] - ETA: 0s - loss: 0.4916 - accuracy: 0.8019\n",
      "Evaluating\n",
      "              precision    recall  f1-score   support\n",
      "\n",
      "           0      0.411     0.367     0.388      5914\n",
      "           1      0.425     0.453     0.438      5917\n",
      "           2      0.401     0.417     0.409      5935\n",
      "\n",
      "    accuracy                          0.412     17766\n",
      "   macro avg      0.412     0.412     0.412     17766\n",
      "weighted avg      0.412     0.412     0.412     17766\n",
      "\n",
      "1.0029880415364993\n",
      "2221/2221 [==============================] - 251s 113ms/step - loss: 0.4916 - accuracy: 0.8019 - val_loss: 1.5911 - val_accuracy: 0.4230\n",
      "Epoch 7/15\n",
      "2221/2221 [==============================] - ETA: 0s - loss: 0.4072 - accuracy: 0.8403\n",
      "Evaluating\n",
      "              precision    recall  f1-score   support\n",
      "\n",
      "           0      0.403     0.425     0.414      5914\n",
      "           1      0.424     0.454     0.439      5917\n",
      "           2      0.410     0.358     0.382      5935\n",
      "\n",
      "    accuracy                          0.412     17766\n",
      "   macro avg      0.412     0.413     0.412     17766\n",
      "weighted avg      0.412     0.412     0.412     17766\n",
      "\n",
      "1.003566246124951\n",
      "2221/2221 [==============================] - 254s 114ms/step - loss: 0.4072 - accuracy: 0.8403 - val_loss: 1.7950 - val_accuracy: 0.4231\n",
      "Epoch 8/15\n",
      "2221/2221 [==============================] - ETA: 0s - loss: 0.3444 - accuracy: 0.8683\n",
      "Evaluating\n",
      "              precision    recall  f1-score   support\n",
      "\n",
      "           0      0.407     0.398     0.403      5914\n",
      "           1      0.429     0.454     0.442      5917\n",
      "           2      0.403     0.389     0.396      5935\n",
      "\n",
      "    accuracy                          0.414     17766\n",
      "   macro avg      0.413     0.414     0.413     17766\n",
      "weighted avg      0.413     0.414     0.413     17766\n",
      "\n",
      "1.003137983331755\n",
      "2221/2221 [==============================] - 254s 114ms/step - loss: 0.3444 - accuracy: 0.8683 - val_loss: 2.0410 - val_accuracy: 0.4185\n",
      "Epoch 9/15\n",
      "2221/2221 [==============================] - ETA: 0s - loss: 0.2969 - accuracy: 0.8871\n",
      "Evaluating\n",
      "              precision    recall  f1-score   support\n",
      "\n",
      "           0      0.398     0.405     0.402      5914\n",
      "           1      0.430     0.417     0.424      5917\n",
      "           2      0.400     0.404     0.402      5935\n",
      "\n",
      "    accuracy                          0.409     17766\n",
      "   macro avg      0.409     0.409     0.409     17766\n",
      "weighted avg      0.409     0.409     0.409     17766\n",
      "\n",
      "1.0028560772834378\n",
      "2221/2221 [==============================] - 255s 115ms/step - loss: 0.2969 - accuracy: 0.8871 - val_loss: 2.2442 - val_accuracy: 0.4171\n",
      "Epoch 10/15\n",
      "2221/2221 [==============================] - ETA: 0s - loss: 0.2588 - accuracy: 0.9017\n",
      "Evaluating\n",
      "              precision    recall  f1-score   support\n",
      "\n",
      "           0      0.396     0.449     0.421      5914\n",
      "           1      0.425     0.416     0.421      5917\n",
      "           2      0.407     0.361     0.383      5935\n",
      "\n",
      "    accuracy                          0.409     17766\n",
      "   macro avg      0.409     0.409     0.408     17766\n",
      "weighted avg      0.409     0.409     0.408     17766\n",
      "\n",
      "1.0033720019711538\n",
      "2221/2221 [==============================] - 260s 117ms/step - loss: 0.2588 - accuracy: 0.9017 - val_loss: 2.4193 - val_accuracy: 0.4114\n",
      "Epoch 11/15\n",
      "2221/2221 [==============================] - ETA: 0s - loss: 0.2280 - accuracy: 0.9136\n",
      "Evaluating\n",
      "              precision    recall  f1-score   support\n",
      "\n",
      "           0      0.402     0.355     0.377      5914\n",
      "           1      0.412     0.472     0.440      5917\n",
      "           2      0.396     0.385     0.390      5935\n",
      "\n",
      "    accuracy                          0.404     17766\n",
      "   macro avg      0.403     0.404     0.403     17766\n",
      "weighted avg      0.403     0.404     0.403     17766\n",
      "\n",
      "1.002752155258424\n",
      "2221/2221 [==============================] - 262s 118ms/step - loss: 0.2280 - accuracy: 0.9136 - val_loss: 2.5371 - val_accuracy: 0.4157\n",
      "Epoch 12/15\n",
      "2221/2221 [==============================] - ETA: 0s - loss: 0.2040 - accuracy: 0.9217\n",
      "Evaluating\n",
      "              precision    recall  f1-score   support\n",
      "\n",
      "           0      0.403     0.403     0.403      5914\n",
      "           1      0.417     0.454     0.435      5917\n",
      "           2      0.402     0.367     0.384      5935\n",
      "\n",
      "    accuracy                          0.408     17766\n",
      "   macro avg      0.407     0.408     0.407     17766\n",
      "weighted avg      0.407     0.408     0.407     17766\n",
      "\n",
      "1.0029874821796094\n",
      "2221/2221 [==============================] - 261s 117ms/step - loss: 0.2040 - accuracy: 0.9217 - val_loss: 2.6807 - val_accuracy: 0.4144\n",
      "Epoch 13/15\n",
      "2221/2221 [==============================] - ETA: 0s - loss: 0.1849 - accuracy: 0.9279\n",
      "Evaluating\n",
      "              precision    recall  f1-score   support\n",
      "\n",
      "           0      0.402     0.381     0.391      5914\n",
      "           1      0.416     0.438     0.427      5917\n",
      "           2      0.402     0.402     0.402      5935\n",
      "\n",
      "    accuracy                          0.407     17766\n",
      "   macro avg      0.407     0.407     0.407     17766\n",
      "weighted avg      0.407     0.407     0.407     17766\n",
      "\n",
      "1.0029971288159147\n",
      "2221/2221 [==============================] - 266s 120ms/step - loss: 0.1849 - accuracy: 0.9279 - val_loss: 2.7149 - val_accuracy: 0.4127\n",
      "Epoch 14/15\n",
      " 335/2221 [===>..........................] - ETA: 3:25 - loss: 0.1357 - accuracy: 0.9463"
     ]
    }
   ],
   "source": [
    "history = model.fit(\n",
    "    x=x_train,\n",
    "    y=y_train,\n",
    "    validation_data=(val_x, val_y),\n",
    "    epochs=15,\n",
    "    callbacks=[EpochEndSummaryCallback()]\n",
    ")"
   ]
  },
  {
   "cell_type": "code",
   "execution_count": 54,
   "metadata": {},
   "outputs": [
    {
     "name": "stdout",
     "output_type": "stream",
     "text": [
      "309/309 [==============================] - 6s 20ms/step - loss: 1.5031 - accuracy: 0.4227\n",
      "Test Loss: 1.5031203031539917\n",
      "Test Accuracy: 0.4226950407028198\n"
     ]
    }
   ],
   "source": [
    "test_loss, test_acc = model.evaluate(test_x, test_y)\n",
    "print('Test Loss: {}'.format(test_loss))\n",
    "print('Test Accuracy: {}'.format(test_acc))\n"
   ]
  },
  {
   "cell_type": "code",
   "execution_count": 55,
   "metadata": {},
   "outputs": [],
   "source": [
    "#del calc_rate_of_return\n",
    "from data_analyser import calc_rate_of_return"
   ]
  },
  {
   "cell_type": "code",
   "execution_count": 56,
   "metadata": {},
   "outputs": [],
   "source": [
    "pred = model.predict(np.array(test_data.summary))"
   ]
  },
  {
   "cell_type": "code",
   "execution_count": 57,
   "metadata": {},
   "outputs": [
    {
     "data": {
      "text/plain": [
       "array([[ 0.00279048, -0.22590958,  0.14025693],\n",
       "       [-0.61930984, -0.463526  ,  0.8515767 ],\n",
       "       [-0.49931228, -1.3707545 ,  1.1062266 ],\n",
       "       ...,\n",
       "       [ 0.9530206 , -0.7097001 , -0.5737804 ],\n",
       "       [-0.6955192 ,  1.411898  , -0.16117309],\n",
       "       [-0.01177319,  0.68542564, -0.44795248]], dtype=float32)"
      ]
     },
     "execution_count": 57,
     "metadata": {},
     "output_type": "execute_result"
    }
   ],
   "source": [
    "pred"
   ]
  },
  {
   "cell_type": "code",
   "execution_count": 58,
   "metadata": {},
   "outputs": [
    {
     "name": "stdout",
     "output_type": "stream",
     "text": [
      "[2 2 2 ... 0 1 1]\n"
     ]
    }
   ],
   "source": [
    "pred_classes = tf.math.argmax(pred, axis=1).numpy()\n",
    "print(pred_classes)"
   ]
  },
  {
   "cell_type": "code",
   "execution_count": 59,
   "metadata": {},
   "outputs": [
    {
     "data": {
      "text/plain": [
       "False"
      ]
     },
     "execution_count": 59,
     "metadata": {},
     "output_type": "execute_result"
    }
   ],
   "source": [
    "pred_classes[0] == 1"
   ]
  },
  {
   "cell_type": "code",
   "execution_count": null,
   "metadata": {},
   "outputs": [],
   "source": []
  },
  {
   "cell_type": "code",
   "execution_count": 60,
   "metadata": {},
   "outputs": [
    {
     "data": {
      "text/plain": [
       "0.41573792637622425"
      ]
     },
     "execution_count": 60,
     "metadata": {},
     "output_type": "execute_result"
    }
   ],
   "source": [
    "sum(pred_classes[i] == test_data.iloc[i].priceChangeClass for i in range(len(pred_classes))) / len(pred_classes)"
   ]
  },
  {
   "cell_type": "code",
   "execution_count": 61,
   "metadata": {},
   "outputs": [],
   "source": [
    "rate_return = calc_rate_of_return(pred_classes, test_data[\"1stepChange\"].tolist(), buy_class=2)"
   ]
  },
  {
   "cell_type": "code",
   "execution_count": 62,
   "metadata": {},
   "outputs": [
    {
     "data": {
      "image/png": "[encoded data removed]",
      "text/plain": [
       "<Figure size 432x288 with 1 Axes>"
      ]
     },
     "metadata": {
      "needs_background": "light"
     },
     "output_type": "display_data"
    }
   ],
   "source": [
    "plot = plt.hist(rate_return, bins=50, density=True, range=[0.9,1.1])"
   ]
  },
  {
   "cell_type": "code",
   "execution_count": 63,
   "metadata": {},
   "outputs": [
    {
     "data": {
      "image/png": "[encoded data removed]",
      "text/plain": [
       "<Figure size 432x288 with 1 Axes>"
      ]
     },
     "metadata": {
      "needs_background": "light"
     },
     "output_type": "display_data"
    }
   ],
   "source": [
    "plot = plt.hist(test_data[\"1stepChange\"].tolist(), bins=50, density=True, range=[0.9,1.1])"
   ]
  },
  {
   "cell_type": "code",
   "execution_count": 64,
   "metadata": {},
   "outputs": [
    {
     "data": {
      "text/plain": [
       "1.0026595887120615"
      ]
     },
     "execution_count": 64,
     "metadata": {},
     "output_type": "execute_result"
    }
   ],
   "source": [
    "np.mean(rate_return)"
   ]
  },
  {
   "cell_type": "code",
   "execution_count": 65,
   "metadata": {},
   "outputs": [
    {
     "data": {
      "text/plain": [
       "1.0001833401770026"
      ]
     },
     "execution_count": 65,
     "metadata": {},
     "output_type": "execute_result"
    }
   ],
   "source": [
    "np.mean(test_data[\"1stepChange\"].tolist())"
   ]
  },
  {
   "cell_type": "code",
   "execution_count": 31,
   "metadata": {},
   "outputs": [],
   "source": [
    "model.save(f\"models/LSTM/{test_acc:.5f}_acc\")"
   ]
  },
  {
   "cell_type": "code",
   "execution_count": 32,
   "metadata": {},
   "outputs": [
    {
     "data": {
      "text/plain": [
       "(0.0, 1.1201188877224921)"
      ]
     },
     "execution_count": 32,
     "metadata": {},
     "output_type": "execute_result"
    },
    {
     "data": {
      "image/png": "[encoded data removed]",
      "text/plain": [
       "<Figure size 1152x576 with 2 Axes>"
      ]
     },
     "metadata": {
      "needs_background": "light"
     },
     "output_type": "display_data"
    }
   ],
   "source": [
    "import matplotlib.pyplot as plt\n",
    "\n",
    "def plot_graphs(history, metric):\n",
    "  plt.plot(history.history[metric])\n",
    "  plt.plot(history.history['val_'+metric], '')\n",
    "  plt.xlabel(\"Epochs\")\n",
    "  plt.ylabel(metric)\n",
    "  plt.legend([metric, 'val_'+metric])\n",
    "\n",
    "plt.figure(figsize=(16,8))\n",
    "plt.subplot(1,2,1)\n",
    "plot_graphs(history, 'accuracy')\n",
    "plt.ylim(None,1)\n",
    "plt.subplot(1,2,2)\n",
    "plot_graphs(history, 'loss')\n",
    "plt.ylim(0,None)"
   ]
  },
  {
   "cell_type": "code",
   "execution_count": 34,
   "metadata": {},
   "outputs": [
    {
     "data": {
      "text/plain": [
       "0.7777465508431273"
      ]
     },
     "execution_count": 34,
     "metadata": {},
     "output_type": "execute_result"
    }
   ],
   "source": [
    "pred = model.predict(test_x)\n",
    "rez = []\n",
    "for elem in pred:\n",
    "    aa = tf.math.argmax(elem)\n",
    "    rez.append(aa.numpy())\n",
    "np.count_nonzero(rez == test_y) / len(rez)"
   ]
  },
  {
   "cell_type": "code",
   "execution_count": 35,
   "metadata": {},
   "outputs": [
    {
     "data": {
      "text/plain": [
       "<tf.Tensor: shape=(3, 3), dtype=int32, numpy=\n",
       "array([[ 9592,  2194,  1195],\n",
       "       [ 1007, 10755,  1132],\n",
       "       [ 1036,  2135, 10094]], dtype=int32)>"
      ]
     },
     "execution_count": 35,
     "metadata": {},
     "output_type": "execute_result"
    }
   ],
   "source": [
    "tf.math.confusion_matrix(labels=test_y, predictions=rez)"
   ]
  }
 ],
 "metadata": {
  "kernelspec": {
   "display_name": "stock-news",
   "language": "python",
   "name": "stock-news"
  },
  "language_info": {
   "codemirror_mode": {
    "name": "ipython",
    "version": 3
   },
   "file_extension": ".py",
   "mimetype": "text/x-python",
   "name": "python",
   "nbconvert_exporter": "python",
   "pygments_lexer": "ipython3",
   "version": "3.8.5"
  }
 },
 "nbformat": 4,
 "nbformat_minor": 4
}
