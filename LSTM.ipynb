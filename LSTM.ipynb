{
 "cells": [
  {
   "cell_type": "markdown",
   "metadata": {},
   "source": [
    "# LSTM model"
   ]
  },
  {
   "cell_type": "code",
   "execution_count": 1,
   "metadata": {},
   "outputs": [],
   "source": [
    "import os\n",
    "import shutil\n",
    "\n",
    "import tensorflow as tf\n",
    "import tensorflow_hub as hub\n",
    "import tensorflow_text as text\n",
    "import pandas as pd \n",
    "import matplotlib.pyplot as plt\n",
    "import numpy as np\n",
    "\n",
    "from official.nlp import optimization  # to create AdamW optmizer\n",
    "\n",
    "import matplotlib.pyplot as plt\n",
    "\n",
    "tf.get_logger().setLevel('ERROR')"
   ]
  },
  {
   "cell_type": "code",
   "execution_count": 2,
   "metadata": {},
   "outputs": [],
   "source": [
    "if len(tf.config.list_physical_devices('GPU')):\n",
    "    physical_devices = tf.config.list_physical_devices('GPU')\n",
    "    tf.config.experimental.set_memory_growth(physical_devices[0], enable=True)\n",
    "os.environ['TF_CPP_MIN_LOG_LEVEL'] = '3'\n",
    "tf.compat.v1.logging.set_verbosity(tf.compat.v1.logging.ERROR)"
   ]
  },
  {
   "cell_type": "markdown",
   "metadata": {},
   "source": [
    "## Loading data"
   ]
  },
  {
   "cell_type": "code",
   "execution_count": 3,
   "metadata": {},
   "outputs": [],
   "source": [
    "dataset = pd.read_csv(\"train_data_percentage\", index_col=0)\n",
    "dataset = dataset.dropna()\n",
    "dataset = (dataset[(dataset.lang==\"en\")]).reset_index(drop=True).sort_index()\n",
    "dataset = dataset.reset_index(drop=True).sort_index()"
   ]
  },
  {
   "cell_type": "code",
   "execution_count": 4,
   "metadata": {},
   "outputs": [],
   "source": [
    "# Create categories from priceChanges\n",
    "stepKey = \"1stepChange\"\n",
    "threshold = 0.005\n",
    "dataset.insert(loc=9,column=\"priceChangeClass\", value=1)\n",
    "dataset.at[dataset[dataset[stepKey] <= (1-threshold)].index, \"priceChangeClass\"] = 0\n",
    "dataset.at[dataset[dataset[stepKey] >= (1+threshold)].index, \"priceChangeClass\"] = 2"
   ]
  },
  {
   "cell_type": "code",
   "execution_count": 5,
   "metadata": {},
   "outputs": [],
   "source": [
    "smallest_amount_data = min(dataset.priceChangeClass.value_counts())\n",
    "\n",
    "indexes = []\n",
    "for unique_class in set(dataset.priceChangeClass):\n",
    "        temp_indexes = dataset.loc[dataset.priceChangeClass==unique_class].sample(smallest_amount_data).index\n",
    "        #print(list(temp_indexes))\n",
    "        indexes += list(temp_indexes)"
   ]
  },
  {
   "cell_type": "code",
   "execution_count": 6,
   "metadata": {},
   "outputs": [],
   "source": [
    "balanced_dataset = dataset.loc[indexes].sample(frac=1).reset_index(drop=True)"
   ]
  },
  {
   "cell_type": "code",
   "execution_count": 7,
   "metadata": {},
   "outputs": [],
   "source": [
    "#TODO: remove \n",
    "#balanced_dataset = balanced_dataset.sample(n=10000).reset_index(drop=True).sort_index()"
   ]
  },
  {
   "cell_type": "code",
   "execution_count": 8,
   "metadata": {},
   "outputs": [
    {
     "data": {
      "image/png": "[encoded data removed]",
      "text/plain": [
       "<Figure size 432x288 with 1 Axes>"
      ]
     },
     "metadata": {
      "needs_background": "light"
     },
     "output_type": "display_data"
    }
   ],
   "source": [
    "plt.hist(balanced_dataset.priceChangeClass)\n",
    "plt.show()"
   ]
  },
  {
   "cell_type": "code",
   "execution_count": 9,
   "metadata": {},
   "outputs": [],
   "source": [
    "seed = 12345\n",
    "\n",
    "val_percent = 0.1\n",
    "test_percent = 0.2\n",
    "\n",
    "validation_data = (balanced_dataset.sample(frac=val_percent, random_state=seed)).reset_index(drop=True)\n",
    "test_data = (balanced_dataset.sample(frac=test_percent, random_state=seed)).reset_index(drop=True)\n",
    "train_data = (balanced_dataset.iloc[balanced_dataset.index.difference(test_data.index).difference(validation_data.index)]).reset_index(drop=True)"
   ]
  },
  {
   "cell_type": "code",
   "execution_count": 10,
   "metadata": {},
   "outputs": [],
   "source": [
    "x_train = np.array(train_data.summary)\n",
    "y_train = np.array(train_data.priceChangeClass).astype(np.int8)\n",
    "\n",
    "val_x = np.array(validation_data.summary)\n",
    "val_y = np.array(validation_data.priceChangeClass)\n",
    "\n",
    "test_x = np.array(test_data.summary)\n",
    "test_y = np.array(test_data.priceChangeClass).astype(np.int8)"
   ]
  },
  {
   "cell_type": "code",
   "execution_count": 13,
   "metadata": {},
   "outputs": [
    {
     "data": {
      "text/plain": [
       "'New Zealand has banned a racist manifesto written by the suspected terrorist of two mosque shootings in Christchurch that killed 50 people.'"
      ]
     },
     "execution_count": 13,
     "metadata": {},
     "output_type": "execute_result"
    }
   ],
   "source": [
    "train_data.iloc[0].summary"
   ]
  },
  {
   "cell_type": "markdown",
   "metadata": {},
   "source": [
    "## LSTM model"
   ]
  },
  {
   "cell_type": "code",
   "execution_count": 14,
   "metadata": {},
   "outputs": [],
   "source": [
    "max_features = 100000  # Maximum vocab size.\n",
    "max_len = 512 # Sequence length to pad the outputs to.\n",
    "embedding_dims = 2\n",
    "\n",
    "encoder = tf.keras.layers.experimental.preprocessing.TextVectorization(\n",
    "    max_tokens=max_features, output_sequence_length=max_len)\n",
    "\n",
    "encoder.adapt(test_data.summary.to_numpy())"
   ]
  },
  {
   "cell_type": "code",
   "execution_count": 15,
   "metadata": {},
   "outputs": [
    {
     "data": {
      "text/plain": [
       "(78417,)"
      ]
     },
     "execution_count": 15,
     "metadata": {},
     "output_type": "execute_result"
    }
   ],
   "source": [
    "vocab = np.array(encoder.get_vocabulary())\n",
    "vocab.shape"
   ]
  },
  {
   "cell_type": "code",
   "execution_count": 16,
   "metadata": {},
   "outputs": [
    {
     "data": {
      "text/html": [
       "<div>\n",
       "<style scoped>\n",
       "    .dataframe tbody tr th:only-of-type {\n",
       "        vertical-align: middle;\n",
       "    }\n",
       "\n",
       "    .dataframe tbody tr th {\n",
       "        vertical-align: top;\n",
       "    }\n",
       "\n",
       "    .dataframe thead th {\n",
       "        text-align: right;\n",
       "    }\n",
       "</style>\n",
       "<table border=\"1\" class=\"dataframe\">\n",
       "  <thead>\n",
       "    <tr style=\"text-align: right;\">\n",
       "      <th></th>\n",
       "      <th>datetime</th>\n",
       "      <th>headline</th>\n",
       "      <th>summary</th>\n",
       "      <th>related</th>\n",
       "      <th>lang</th>\n",
       "      <th>source</th>\n",
       "      <th>1stepChange</th>\n",
       "      <th>2stepChange</th>\n",
       "      <th>3stepChange</th>\n",
       "      <th>priceChangeClass</th>\n",
       "      <th>6stepChange</th>\n",
       "    </tr>\n",
       "  </thead>\n",
       "  <tbody>\n",
       "    <tr>\n",
       "      <th>0</th>\n",
       "      <td>2019-03-23 12:50:59-05:00</td>\n",
       "      <td>New Zealand bans terror suspect's racist manif...</td>\n",
       "      <td>New Zealand has banned a racist manifesto writ...</td>\n",
       "      <td>CIA</td>\n",
       "      <td>en</td>\n",
       "      <td>USA Today</td>\n",
       "      <td>1.015456</td>\n",
       "      <td>1.017002</td>\n",
       "      <td>1.020093</td>\n",
       "      <td>2</td>\n",
       "      <td>1.038640</td>\n",
       "    </tr>\n",
       "    <tr>\n",
       "      <th>1</th>\n",
       "      <td>2020-01-09 07:30:00-05:00</td>\n",
       "      <td>Alliance Data Schedules Fourth-Quarter and Ful...</td>\n",
       "      <td>COLUMBUS, Ohio, Jan. 9, 2020 /PRNewswire/ -- A...</td>\n",
       "      <td>ADS</td>\n",
       "      <td>en</td>\n",
       "      <td>PR Newswire</td>\n",
       "      <td>1.010973</td>\n",
       "      <td>1.001968</td>\n",
       "      <td>1.001332</td>\n",
       "      <td>2</td>\n",
       "      <td>1.008335</td>\n",
       "    </tr>\n",
       "    <tr>\n",
       "      <th>2</th>\n",
       "      <td>2019-07-11 09:10:09-05:00</td>\n",
       "      <td>Why the Earnings Surprise Streak Could Continu...</td>\n",
       "      <td>ConocoPhillips (COP) has an impressive earning...</td>\n",
       "      <td>COP</td>\n",
       "      <td>en</td>\n",
       "      <td>Zacks Investment Research</td>\n",
       "      <td>0.991861</td>\n",
       "      <td>0.992837</td>\n",
       "      <td>0.991452</td>\n",
       "      <td>0</td>\n",
       "      <td>0.994872</td>\n",
       "    </tr>\n",
       "    <tr>\n",
       "      <th>3</th>\n",
       "      <td>2020-02-13 04:04:37-05:00</td>\n",
       "      <td>Airbus crushes Boeing with record jet deliveries</td>\n",
       "      <td>Boeing’s European rival Airbus wants to break ...</td>\n",
       "      <td>AIR</td>\n",
       "      <td>en</td>\n",
       "      <td>Russia Today</td>\n",
       "      <td>1.013072</td>\n",
       "      <td>1.017354</td>\n",
       "      <td>1.017805</td>\n",
       "      <td>2</td>\n",
       "      <td>1.014311</td>\n",
       "    </tr>\n",
       "    <tr>\n",
       "      <th>4</th>\n",
       "      <td>2019-06-08 12:00:02-05:00</td>\n",
       "      <td>Novo's oral semaglutide successful in two late...</td>\n",
       "      <td>Novo Nordisk (NVO) announces positive results ...</td>\n",
       "      <td>NVO</td>\n",
       "      <td>en</td>\n",
       "      <td>Seeking Alpha</td>\n",
       "      <td>1.003446</td>\n",
       "      <td>1.017434</td>\n",
       "      <td>1.021691</td>\n",
       "      <td>1</td>\n",
       "      <td>1.042368</td>\n",
       "    </tr>\n",
       "    <tr>\n",
       "      <th>...</th>\n",
       "      <td>...</td>\n",
       "      <td>...</td>\n",
       "      <td>...</td>\n",
       "      <td>...</td>\n",
       "      <td>...</td>\n",
       "      <td>...</td>\n",
       "      <td>...</td>\n",
       "      <td>...</td>\n",
       "      <td>...</td>\n",
       "      <td>...</td>\n",
       "      <td>...</td>\n",
       "    </tr>\n",
       "    <tr>\n",
       "      <th>156554</th>\n",
       "      <td>2019-11-01 07:23:00-05:00</td>\n",
       "      <td>Could GM potato trials lead to blight-resistan...</td>\n",
       "      <td>A genetically-modified (GM) potato engineered ...</td>\n",
       "      <td>GM</td>\n",
       "      <td>en</td>\n",
       "      <td>Eastern Daily Press</td>\n",
       "      <td>1.001346</td>\n",
       "      <td>1.004306</td>\n",
       "      <td>1.001615</td>\n",
       "      <td>1</td>\n",
       "      <td>1.015608</td>\n",
       "    </tr>\n",
       "    <tr>\n",
       "      <th>156555</th>\n",
       "      <td>2020-11-05 14:30:00-05:00</td>\n",
       "      <td>Insights on the Architectural Coatings Global ...</td>\n",
       "      <td>DUBLIN, Nov. 5, 2020 /PRNewswire/ -- The \"Arch...</td>\n",
       "      <td>PPG</td>\n",
       "      <td>en</td>\n",
       "      <td>PR Newswire</td>\n",
       "      <td>1.000503</td>\n",
       "      <td>1.000324</td>\n",
       "      <td>0.993385</td>\n",
       "      <td>1</td>\n",
       "      <td>0.995614</td>\n",
       "    </tr>\n",
       "    <tr>\n",
       "      <th>156556</th>\n",
       "      <td>2019-01-11 07:01:30-05:00</td>\n",
       "      <td>Archer Daniels Midland makes a citrus play</td>\n",
       "      <td>No summary available.</td>\n",
       "      <td>FTK</td>\n",
       "      <td>en</td>\n",
       "      <td>Seeking Alpha</td>\n",
       "      <td>1.438889</td>\n",
       "      <td>1.438889</td>\n",
       "      <td>1.450000</td>\n",
       "      <td>2</td>\n",
       "      <td>1.466667</td>\n",
       "    </tr>\n",
       "    <tr>\n",
       "      <th>156557</th>\n",
       "      <td>2020-02-26 16:36:00-05:00</td>\n",
       "      <td>TJX Companies (TJX) Beats Q4 Earnings &amp; Revenu...</td>\n",
       "      <td>TJX Companies' (TJX) fourth-quarter fiscal 202...</td>\n",
       "      <td>TJX</td>\n",
       "      <td>en</td>\n",
       "      <td>Zacks Investment Research</td>\n",
       "      <td>1.010564</td>\n",
       "      <td>1.001866</td>\n",
       "      <td>1.011988</td>\n",
       "      <td>2</td>\n",
       "      <td>1.004397</td>\n",
       "    </tr>\n",
       "    <tr>\n",
       "      <th>156558</th>\n",
       "      <td>2020-03-06 10:37:00-05:00</td>\n",
       "      <td>Wells Fargo is offering its customers a one-ti...</td>\n",
       "      <td>This story was delivered to Business Insider I...</td>\n",
       "      <td>WFC</td>\n",
       "      <td>en</td>\n",
       "      <td>Business Insider</td>\n",
       "      <td>1.006452</td>\n",
       "      <td>0.993817</td>\n",
       "      <td>0.997715</td>\n",
       "      <td>2</td>\n",
       "      <td>1.005108</td>\n",
       "    </tr>\n",
       "  </tbody>\n",
       "</table>\n",
       "<p>156559 rows × 11 columns</p>\n",
       "</div>"
      ],
      "text/plain": [
       "                         datetime  \\\n",
       "0       2019-03-23 12:50:59-05:00   \n",
       "1       2020-01-09 07:30:00-05:00   \n",
       "2       2019-07-11 09:10:09-05:00   \n",
       "3       2020-02-13 04:04:37-05:00   \n",
       "4       2019-06-08 12:00:02-05:00   \n",
       "...                           ...   \n",
       "156554  2019-11-01 07:23:00-05:00   \n",
       "156555  2020-11-05 14:30:00-05:00   \n",
       "156556  2019-01-11 07:01:30-05:00   \n",
       "156557  2020-02-26 16:36:00-05:00   \n",
       "156558  2020-03-06 10:37:00-05:00   \n",
       "\n",
       "                                                 headline  \\\n",
       "0       New Zealand bans terror suspect's racist manif...   \n",
       "1       Alliance Data Schedules Fourth-Quarter and Ful...   \n",
       "2       Why the Earnings Surprise Streak Could Continu...   \n",
       "3        Airbus crushes Boeing with record jet deliveries   \n",
       "4       Novo's oral semaglutide successful in two late...   \n",
       "...                                                   ...   \n",
       "156554  Could GM potato trials lead to blight-resistan...   \n",
       "156555  Insights on the Architectural Coatings Global ...   \n",
       "156556         Archer Daniels Midland makes a citrus play   \n",
       "156557  TJX Companies (TJX) Beats Q4 Earnings & Revenu...   \n",
       "156558  Wells Fargo is offering its customers a one-ti...   \n",
       "\n",
       "                                                  summary related lang  \\\n",
       "0       New Zealand has banned a racist manifesto writ...     CIA   en   \n",
       "1       COLUMBUS, Ohio, Jan. 9, 2020 /PRNewswire/ -- A...     ADS   en   \n",
       "2       ConocoPhillips (COP) has an impressive earning...     COP   en   \n",
       "3       Boeing’s European rival Airbus wants to break ...     AIR   en   \n",
       "4       Novo Nordisk (NVO) announces positive results ...     NVO   en   \n",
       "...                                                   ...     ...  ...   \n",
       "156554  A genetically-modified (GM) potato engineered ...      GM   en   \n",
       "156555  DUBLIN, Nov. 5, 2020 /PRNewswire/ -- The \"Arch...     PPG   en   \n",
       "156556                              No summary available.     FTK   en   \n",
       "156557  TJX Companies' (TJX) fourth-quarter fiscal 202...     TJX   en   \n",
       "156558  This story was delivered to Business Insider I...     WFC   en   \n",
       "\n",
       "                           source  1stepChange  2stepChange  3stepChange  \\\n",
       "0                       USA Today     1.015456     1.017002     1.020093   \n",
       "1                     PR Newswire     1.010973     1.001968     1.001332   \n",
       "2       Zacks Investment Research     0.991861     0.992837     0.991452   \n",
       "3                    Russia Today     1.013072     1.017354     1.017805   \n",
       "4                   Seeking Alpha     1.003446     1.017434     1.021691   \n",
       "...                           ...          ...          ...          ...   \n",
       "156554        Eastern Daily Press     1.001346     1.004306     1.001615   \n",
       "156555                PR Newswire     1.000503     1.000324     0.993385   \n",
       "156556              Seeking Alpha     1.438889     1.438889     1.450000   \n",
       "156557  Zacks Investment Research     1.010564     1.001866     1.011988   \n",
       "156558           Business Insider     1.006452     0.993817     0.997715   \n",
       "\n",
       "        priceChangeClass  6stepChange  \n",
       "0                      2     1.038640  \n",
       "1                      2     1.008335  \n",
       "2                      0     0.994872  \n",
       "3                      2     1.014311  \n",
       "4                      1     1.042368  \n",
       "...                  ...          ...  \n",
       "156554                 1     1.015608  \n",
       "156555                 1     0.995614  \n",
       "156556                 2     1.466667  \n",
       "156557                 2     1.004397  \n",
       "156558                 2     1.005108  \n",
       "\n",
       "[156559 rows x 11 columns]"
      ]
     },
     "execution_count": 16,
     "metadata": {},
     "output_type": "execute_result"
    }
   ],
   "source": [
    "train_data"
   ]
  },
  {
   "cell_type": "code",
   "execution_count": 17,
   "metadata": {},
   "outputs": [
    {
     "name": "stdout",
     "output_type": "stream",
     "text": [
      "Original:  DUBLIN , May 26, 2020 /PRNewswire/ -- The \"Commercial Vehicle & Off-highway Radar - Global Market Outlook (2018-2027)\" report has been added to ResearchAndMarkets.com's offering. The Global Commercial Vehicle & Off-highway Radar market accounted for $94.37 million in 2018 and is expected to reach $723.61 million by 2027, growing at a CAGR of 25.4% during the forecast period. Some of the key factors propelling the market growth are increasing number of autonomous vehicles, rising demand for commercial vehicles, and need for measuring the velocity of vehicles with high accuracy. However, inability of the system to distinguish multiple targets is the restraining factor for the growth of the market. By vehicle type, commercial vehicle segment is expected to grow at a significant market share during the forecast period as it is becoming necessary to tackle speed, distance, and such parameters of the commercial vehicles. On the basis of geography, Asia Pacific is anticipated to hold considerable market share during the forecast period due to the increasing infrastructure projects initiated by governments in the region\n",
      "\n",
      "Round-trip:  dublin may 26 2020 prnewswire the commercial vehicle [UNK] radar global market outlook 20182027 report has been added to researchandmarketscoms offering the global commercial vehicle [UNK] radar market accounted for [UNK] million in 2018 and is expected to reach [UNK] million by 2027 growing at a cagr of 254 during the forecast period some of the key factors propelling the market growth are increasing number of autonomous vehicles rising demand for commercial vehicles and need for measuring the velocity of vehicles with high accuracy however inability of the system to distinguish multiple targets is the restraining factor for the growth of the market by vehicle type commercial vehicle segment is expected to grow at a significant market share during the forecast period as it is becoming necessary to tackle speed distance and such parameters of the commercial vehicles on the basis of geography asia pacific is anticipated to hold considerable market share during the forecast period due to the increasing infrastructure projects initiated by governments in the region                                                                                                                                                                                                                                                                                                                                                        \n",
      "\n"
     ]
    }
   ],
   "source": [
    "example = ['DUBLIN , May 26, 2020 /PRNewswire/ -- The \"Commercial Vehicle & Off-highway Radar - Global Market Outlook (2018-2027)\" report has been added to ResearchAndMarkets.com\\'s offering. The Global Commercial Vehicle & Off-highway Radar market accounted for $94.37 million in 2018 and is expected to reach $723.61 million by 2027, growing at a CAGR of 25.4% during the forecast period. Some of the key factors propelling the market growth are increasing number of autonomous vehicles, rising demand for commercial vehicles, and need for measuring the velocity of vehicles with high accuracy. However, inability of the system to distinguish multiple targets is the restraining factor for the growth of the market. By vehicle type, commercial vehicle segment is expected to grow at a significant market share during the forecast period as it is becoming necessary to tackle speed, distance, and such parameters of the commercial vehicles. On the basis of geography, Asia Pacific is anticipated to hold considerable market share during the forecast period due to the increasing infrastructure projects initiated by governments in the region']\n",
    "encoded_example = encoder(example).numpy()\n",
    "encoded_example\n",
    "for n in range(1):\n",
    "  print(\"Original: \", example[n])\n",
    "  print(\"\")\n",
    "  print(\"Round-trip: \", \" \".join(vocab[encoded_example[n]]))\n",
    "  print()"
   ]
  },
  {
   "cell_type": "code",
   "execution_count": null,
   "metadata": {},
   "outputs": [],
   "source": [
    " encoder(example)"
   ]
  },
  {
   "cell_type": "code",
   "execution_count": 27,
   "metadata": {},
   "outputs": [
    {
     "data": {
      "text/plain": [
       "\"\\n# 42% after 1 epoch\\nmodel = tf.keras.Sequential([\\n    encoder,\\n    tf.keras.layers.Embedding(\\n        input_dim=len(encoder.get_vocabulary()),\\n        output_dim=64,\\n        # Use masking to handle the variable sequence lengths\\n        mask_zero=True),\\n    tf.keras.layers.Bidirectional(tf.keras.layers.LSTM(64,  return_sequences=True)),\\n    tf.keras.layers.Bidirectional(tf.keras.layers.LSTM(32)),\\n    tf.keras.layers.Dense(64, activation='relu'),\\n    tf.keras.layers.Dense(3, activation='softmax')\\n])\\n\""
      ]
     },
     "execution_count": 27,
     "metadata": {},
     "output_type": "execute_result"
    }
   ],
   "source": [
    "model = tf.keras.Sequential([\n",
    "    encoder,\n",
    "    tf.keras.layers.Embedding(\n",
    "        input_dim=len(encoder.get_vocabulary()),\n",
    "        output_dim=64,\n",
    "        # Use masking to handle the variable sequence lengths\n",
    "        mask_zero=True),\n",
    "    tf.keras.layers.Bidirectional(tf.keras.layers.LSTM(64)),\n",
    "    tf.keras.layers.Dropout(rate=0.1),\n",
    "    tf.keras.layers.Dense(64, activation='relu'),\n",
    "    tf.keras.layers.Dense(3)\n",
    "])\n",
    "\n",
    "\"\"\"\n",
    "# 42% after 1 epoch\n",
    "model = tf.keras.Sequential([\n",
    "    encoder,\n",
    "    tf.keras.layers.Embedding(\n",
    "        input_dim=len(encoder.get_vocabulary()),\n",
    "        output_dim=64,\n",
    "        # Use masking to handle the variable sequence lengths\n",
    "        mask_zero=True),\n",
    "    tf.keras.layers.Bidirectional(tf.keras.layers.LSTM(64,  return_sequences=True)),\n",
    "    tf.keras.layers.Bidirectional(tf.keras.layers.LSTM(32)),\n",
    "    tf.keras.layers.Dense(64, activation='relu'),\n",
    "    tf.keras.layers.Dense(3, activation='softmax')\n",
    "])\n",
    "\"\"\""
   ]
  },
  {
   "cell_type": "code",
   "execution_count": 28,
   "metadata": {},
   "outputs": [
    {
     "name": "stdout",
     "output_type": "stream",
     "text": [
      "[False, True, True, True, True, True]\n",
      "[-0.01843481  0.01934541  0.01001768]\n"
     ]
    }
   ],
   "source": [
    "print([layer.supports_masking for layer in model.layers])\n",
    "sample_text = ('The Global Commercial Vehicle & Off-highway Radar market accounted for $94.37 million in 2018 and is expected to reach $723.61 million by 2027, growing at a CAGR of 25.4% during the forecast period. Some of the key factors propelling the market growth are increasing number of autonomous vehicles, rising demand for commercial vehicles, and need for measuring the velocity of vehicles with high accuracy. However, inability of the system to distinguish multiple targets is the restraining factor for the growth of the market.')\n",
    "predictions = model.predict(np.array([sample_text]))\n",
    "print(predictions[0])"
   ]
  },
  {
   "cell_type": "code",
   "execution_count": 29,
   "metadata": {},
   "outputs": [],
   "source": [
    "model.compile(loss=tf.keras.losses.SparseCategoricalCrossentropy(from_logits=True),\n",
    "              optimizer=tf.keras.optimizers.Adam(1e-4),\n",
    "              metrics=tf.keras.metrics.SparseCategoricalAccuracy('accuracy', dtype=tf.float32))"
   ]
  },
  {
   "cell_type": "code",
   "execution_count": 30,
   "metadata": {},
   "outputs": [
    {
     "name": "stdout",
     "output_type": "stream",
     "text": [
      "Epoch 1/20\n",
      "4893/4893 [==============================] - 171s 35ms/step - loss: 1.0826 - accuracy: 0.3855 - val_loss: 1.0520 - val_accuracy: 0.4440\n",
      "Epoch 2/20\n",
      "4893/4893 [==============================] - 175s 36ms/step - loss: 1.0391 - accuracy: 0.4536 - val_loss: 0.9907 - val_accuracy: 0.5169\n",
      "Epoch 3/20\n",
      "4893/4893 [==============================] - 174s 35ms/step - loss: 0.9818 - accuracy: 0.5139 - val_loss: 0.9211 - val_accuracy: 0.5742\n",
      "Epoch 4/20\n",
      "4893/4893 [==============================] - 173s 35ms/step - loss: 0.9137 - accuracy: 0.5658 - val_loss: 0.8479 - val_accuracy: 0.6295\n",
      "Epoch 5/20\n",
      "4893/4893 [==============================] - 169s 35ms/step - loss: 0.8463 - accuracy: 0.6081 - val_loss: 0.7811 - val_accuracy: 0.6667\n",
      "Epoch 6/20\n",
      "4893/4893 [==============================] - 170s 35ms/step - loss: 0.7828 - accuracy: 0.6437 - val_loss: 0.7366 - val_accuracy: 0.6876\n",
      "Epoch 7/20\n",
      "4893/4893 [==============================] - 169s 35ms/step - loss: 0.7250 - accuracy: 0.6752 - val_loss: 0.7046 - val_accuracy: 0.7079\n",
      "Epoch 8/20\n",
      "4893/4893 [==============================] - 202s 41ms/step - loss: 0.6723 - accuracy: 0.7009 - val_loss: 0.6842 - val_accuracy: 0.7219\n",
      "Epoch 9/20\n",
      "4893/4893 [==============================] - 223s 45ms/step - loss: 0.6254 - accuracy: 0.7227 - val_loss: 0.6640 - val_accuracy: 0.7336\n",
      "Epoch 10/20\n",
      "4893/4893 [==============================] - 223s 46ms/step - loss: 0.5836 - accuracy: 0.7421 - val_loss: 0.6601 - val_accuracy: 0.7434\n",
      "Epoch 11/20\n",
      "4893/4893 [==============================] - 223s 45ms/step - loss: 0.5459 - accuracy: 0.7595 - val_loss: 0.6542 - val_accuracy: 0.7528\n",
      "Epoch 12/20\n",
      "4893/4893 [==============================] - 222s 45ms/step - loss: 0.5113 - accuracy: 0.7735 - val_loss: 0.6584 - val_accuracy: 0.7566\n",
      "Epoch 13/20\n",
      "4893/4893 [==============================] - 222s 45ms/step - loss: 0.4794 - accuracy: 0.7857 - val_loss: 0.6728 - val_accuracy: 0.7592\n",
      "Epoch 14/20\n",
      "4893/4893 [==============================] - 222s 45ms/step - loss: 0.4499 - accuracy: 0.7973 - val_loss: 0.6878 - val_accuracy: 0.7664\n",
      "Epoch 15/20\n",
      "4893/4893 [==============================] - 223s 46ms/step - loss: 0.4239 - accuracy: 0.8059 - val_loss: 0.7132 - val_accuracy: 0.7670\n",
      "Epoch 16/20\n",
      "4893/4893 [==============================] - 222s 45ms/step - loss: 0.4004 - accuracy: 0.8137 - val_loss: 0.7634 - val_accuracy: 0.7707\n",
      "Epoch 17/20\n",
      "4893/4893 [==============================] - 223s 46ms/step - loss: 0.3809 - accuracy: 0.8201 - val_loss: 0.7758 - val_accuracy: 0.7737\n",
      "Epoch 18/20\n",
      "4893/4893 [==============================] - 190s 39ms/step - loss: 0.3619 - accuracy: 0.8258 - val_loss: 0.8254 - val_accuracy: 0.7776\n",
      "Epoch 19/20\n",
      "4893/4893 [==============================] - 170s 35ms/step - loss: 0.3467 - accuracy: 0.8295 - val_loss: 0.8646 - val_accuracy: 0.7762\n",
      "Epoch 20/20\n",
      "4893/4893 [==============================] - 169s 35ms/step - loss: 0.3324 - accuracy: 0.8349 - val_loss: 0.8418 - val_accuracy: 0.7794\n"
     ]
    }
   ],
   "source": [
    "history = model.fit(\n",
    "    x=x_train,\n",
    "    y=y_train,\n",
    "    validation_data=(val_x, val_y),\n",
    "    epochs=20)"
   ]
  },
  {
   "cell_type": "code",
   "execution_count": 22,
   "metadata": {},
   "outputs": [
    {
     "name": "stdout",
     "output_type": "stream",
     "text": [
      "612/612 [==============================] - 5s 8ms/step - loss: 1.0864 - accuracy: 0.7840\n",
      "Test Loss: 1.086441159248352\n",
      "Test Accuracy: 0.7840061187744141\n"
     ]
    }
   ],
   "source": [
    "test_loss, test_acc = model.evaluate(test_x, test_y)\n",
    "print('Test Loss: {}'.format(test_loss))\n",
    "print('Test Accuracy: {}'.format(test_acc))"
   ]
  },
  {
   "cell_type": "code",
   "execution_count": 31,
   "metadata": {},
   "outputs": [],
   "source": [
    "model.save(f\"models/LSTM/{test_acc:.5f}_acc\")"
   ]
  },
  {
   "cell_type": "code",
   "execution_count": 32,
   "metadata": {},
   "outputs": [
    {
     "data": {
      "text/plain": [
       "(0.0, 1.1201188877224921)"
      ]
     },
     "execution_count": 32,
     "metadata": {},
     "output_type": "execute_result"
    },
    {
     "data": {
      "image/png": "[encoded data removed]",
      "text/plain": [
       "<Figure size 1152x576 with 2 Axes>"
      ]
     },
     "metadata": {
      "needs_background": "light"
     },
     "output_type": "display_data"
    }
   ],
   "source": [
    "import matplotlib.pyplot as plt\n",
    "\n",
    "def plot_graphs(history, metric):\n",
    "  plt.plot(history.history[metric])\n",
    "  plt.plot(history.history['val_'+metric], '')\n",
    "  plt.xlabel(\"Epochs\")\n",
    "  plt.ylabel(metric)\n",
    "  plt.legend([metric, 'val_'+metric])\n",
    "\n",
    "plt.figure(figsize=(16,8))\n",
    "plt.subplot(1,2,1)\n",
    "plot_graphs(history, 'accuracy')\n",
    "plt.ylim(None,1)\n",
    "plt.subplot(1,2,2)\n",
    "plot_graphs(history, 'loss')\n",
    "plt.ylim(0,None)"
   ]
  },
  {
   "cell_type": "code",
   "execution_count": 34,
   "metadata": {},
   "outputs": [
    {
     "data": {
      "text/plain": [
       "0.7777465508431273"
      ]
     },
     "execution_count": 34,
     "metadata": {},
     "output_type": "execute_result"
    }
   ],
   "source": [
    "pred = model.predict(test_x)\n",
    "rez = []\n",
    "for elem in pred:\n",
    "    aa = tf.math.argmax(elem)\n",
    "    rez.append(aa.numpy())\n",
    "np.count_nonzero(rez == test_y) / len(rez)"
   ]
  },
  {
   "cell_type": "code",
   "execution_count": 35,
   "metadata": {},
   "outputs": [
    {
     "data": {
      "text/plain": [
       "<tf.Tensor: shape=(3, 3), dtype=int32, numpy=\n",
       "array([[ 9592,  2194,  1195],\n",
       "       [ 1007, 10755,  1132],\n",
       "       [ 1036,  2135, 10094]], dtype=int32)>"
      ]
     },
     "execution_count": 35,
     "metadata": {},
     "output_type": "execute_result"
    }
   ],
   "source": [
    "tf.math.confusion_matrix(labels=test_y, predictions=rez)"
   ]
  }
 ],
 "metadata": {
  "kernelspec": {
   "display_name": "stock-news",
   "language": "python",
   "name": "stock-news"
  },
  "language_info": {
   "codemirror_mode": {
    "name": "ipython",
    "version": 3
   },
   "file_extension": ".py",
   "mimetype": "text/x-python",
   "name": "python",
   "nbconvert_exporter": "python",
   "pygments_lexer": "ipython3",
   "version": "3.8.5"
  }
 },
 "nbformat": 4,
 "nbformat_minor": 4
}
