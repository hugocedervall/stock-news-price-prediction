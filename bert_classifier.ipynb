{
 "cells": [
  {
   "cell_type": "code",
   "execution_count": 1,
   "metadata": {},
   "outputs": [],
   "source": [
    "import os\n",
    "import shutil\n",
    "\n",
    "import tensorflow as tf\n",
    "import tensorflow_hub as hub\n",
    "import tensorflow_text as text\n",
    "import pandas as pd \n",
    "import matplotlib.pyplot as plt\n",
    "import numpy as np\n",
    "\n",
    "from official.nlp import optimization\n",
    "\n",
    "import matplotlib.pyplot as plt\n",
    "\n",
    "tf.get_logger().setLevel('ERROR')"
   ]
  },
  {
   "cell_type": "code",
   "execution_count": 2,
   "metadata": {},
   "outputs": [],
   "source": [
    "if len(tf.config.list_physical_devices('GPU')):\n",
    "    physical_devices = tf.config.list_physical_devices('GPU')\n",
    "    tf.config.experimental.set_memory_growth(physical_devices[0], enable=True)\n",
    "os.environ['TF_CPP_MIN_LOG_LEVEL'] = '3'\n",
    "tf.compat.v1.logging.set_verbosity(tf.compat.v1.logging.ERROR)"
   ]
  },
  {
   "cell_type": "markdown",
   "metadata": {},
   "source": [
    "## Loading data"
   ]
  },
  {
   "cell_type": "code",
   "execution_count": 3,
   "metadata": {},
   "outputs": [
    {
     "name": "stdout",
     "output_type": "stream",
     "text": [
      "30220 summaries containing 'No summary available'\n",
      "6142 summaries containing 'Full story available on'\n",
      "Duplicate summaries removed: 14242\n",
      "Duplicate headlines removed: 404\n",
      "randomizing order of data\n"
     ]
    }
   ],
   "source": [
    "from data_getter import *"
   ]
  },
  {
   "cell_type": "code",
   "execution_count": 4,
   "metadata": {},
   "outputs": [
    {
     "data": {
      "text/html": [
       "<div>\n",
       "<style scoped>\n",
       "    .dataframe tbody tr th:only-of-type {\n",
       "        vertical-align: middle;\n",
       "    }\n",
       "\n",
       "    .dataframe tbody tr th {\n",
       "        vertical-align: top;\n",
       "    }\n",
       "\n",
       "    .dataframe thead th {\n",
       "        text-align: right;\n",
       "    }\n",
       "</style>\n",
       "<table border=\"1\" class=\"dataframe\">\n",
       "  <thead>\n",
       "    <tr style=\"text-align: right;\">\n",
       "      <th></th>\n",
       "      <th>datetime</th>\n",
       "      <th>headline</th>\n",
       "      <th>summary</th>\n",
       "      <th>related</th>\n",
       "      <th>lang</th>\n",
       "      <th>source</th>\n",
       "      <th>1stepChange</th>\n",
       "      <th>2stepChange</th>\n",
       "      <th>3stepChange</th>\n",
       "      <th>priceChangeClass</th>\n",
       "      <th>6stepChange</th>\n",
       "    </tr>\n",
       "  </thead>\n",
       "  <tbody>\n",
       "    <tr>\n",
       "      <th>0</th>\n",
       "      <td>2020-10-21 10:11:13-05:00</td>\n",
       "      <td>Q4 2020 EPS Estimates for Portland General Ele...</td>\n",
       "      <td>Portland General Electric (NYSE:POR) – KeyCorp...</td>\n",
       "      <td>POR</td>\n",
       "      <td>en</td>\n",
       "      <td>Transcript Daily</td>\n",
       "      <td>1.004938</td>\n",
       "      <td>1.008186</td>\n",
       "      <td>1.007406</td>\n",
       "      <td>1</td>\n",
       "      <td>1.015333</td>\n",
       "    </tr>\n",
       "    <tr>\n",
       "      <th>1</th>\n",
       "      <td>2019-09-27 02:31:11-05:00</td>\n",
       "      <td>Tata Motors tumbles 4 per cent on reports of J...</td>\n",
       "      <td>The stock tumbled over 4 per cent to Rs 119.30...</td>\n",
       "      <td>TTM</td>\n",
       "      <td>en</td>\n",
       "      <td>The Economic Times India</td>\n",
       "      <td>0.986127</td>\n",
       "      <td>0.986127</td>\n",
       "      <td>0.995376</td>\n",
       "      <td>0</td>\n",
       "      <td>0.996532</td>\n",
       "    </tr>\n",
       "    <tr>\n",
       "      <th>2</th>\n",
       "      <td>2020-01-23 05:20:00-05:00</td>\n",
       "      <td>Billionaire businessman Leslie Wexner refuses ...</td>\n",
       "      <td>Leslie Wexner is the CEO of L Brands, which in...</td>\n",
       "      <td>LB</td>\n",
       "      <td>en</td>\n",
       "      <td>ABC News</td>\n",
       "      <td>1.002445</td>\n",
       "      <td>1.007335</td>\n",
       "      <td>1.015159</td>\n",
       "      <td>1</td>\n",
       "      <td>1.019560</td>\n",
       "    </tr>\n",
       "    <tr>\n",
       "      <th>3</th>\n",
       "      <td>2020-07-03 06:56:15-05:00</td>\n",
       "      <td>Boeing communications boss Niel Golightly resi...</td>\n",
       "      <td>Boeing communications boss Niel Golightly has ...</td>\n",
       "      <td>BA</td>\n",
       "      <td>en</td>\n",
       "      <td>New York Post</td>\n",
       "      <td>1.029266</td>\n",
       "      <td>1.020872</td>\n",
       "      <td>1.020707</td>\n",
       "      <td>2</td>\n",
       "      <td>1.025787</td>\n",
       "    </tr>\n",
       "    <tr>\n",
       "      <th>4</th>\n",
       "      <td>2020-11-19 09:15:00-05:00</td>\n",
       "      <td>Condor Hospitality Announces Modification to I...</td>\n",
       "      <td>NORFOLK, Neb.--(BUSINESS WIRE)---- $CDOR #Hote...</td>\n",
       "      <td>BMO</td>\n",
       "      <td>en</td>\n",
       "      <td>Business Wire</td>\n",
       "      <td>1.008436</td>\n",
       "      <td>1.003431</td>\n",
       "      <td>1.004289</td>\n",
       "      <td>1</td>\n",
       "      <td>1.001859</td>\n",
       "    </tr>\n",
       "    <tr>\n",
       "      <th>...</th>\n",
       "      <td>...</td>\n",
       "      <td>...</td>\n",
       "      <td>...</td>\n",
       "      <td>...</td>\n",
       "      <td>...</td>\n",
       "      <td>...</td>\n",
       "      <td>...</td>\n",
       "      <td>...</td>\n",
       "      <td>...</td>\n",
       "      <td>...</td>\n",
       "      <td>...</td>\n",
       "    </tr>\n",
       "    <tr>\n",
       "      <th>98695</th>\n",
       "      <td>2020-06-12 10:00:31-05:00</td>\n",
       "      <td>BAE to produce more Vertical Launching System ...</td>\n",
       "      <td>BAE Systems will produce multiple types of Ver...</td>\n",
       "      <td>BA</td>\n",
       "      <td>en</td>\n",
       "      <td>UK Defence Journal</td>\n",
       "      <td>0.986078</td>\n",
       "      <td>0.947778</td>\n",
       "      <td>0.954360</td>\n",
       "      <td>0</td>\n",
       "      <td>0.978162</td>\n",
       "    </tr>\n",
       "    <tr>\n",
       "      <th>98696</th>\n",
       "      <td>2019-12-05 08:00:00-05:00</td>\n",
       "      <td>TE's new thermal bridge solution significantly...</td>\n",
       "      <td>HARRISBURG, Pa., Dec. 5, 2019 /PRNewswire/ -- ...</td>\n",
       "      <td>TEL</td>\n",
       "      <td>en</td>\n",
       "      <td>PR Newswire</td>\n",
       "      <td>1.010157</td>\n",
       "      <td>1.006809</td>\n",
       "      <td>1.006586</td>\n",
       "      <td>2</td>\n",
       "      <td>1.009934</td>\n",
       "    </tr>\n",
       "    <tr>\n",
       "      <th>98697</th>\n",
       "      <td>2020-03-19 08:45:00-05:00</td>\n",
       "      <td>Coronavirus Rampage Continues For Skechers, Gu...</td>\n",
       "      <td>Skechers (SKX) shuts company-owned retail stor...</td>\n",
       "      <td>SKX</td>\n",
       "      <td>en</td>\n",
       "      <td>Zacks Investment Research</td>\n",
       "      <td>0.920465</td>\n",
       "      <td>0.922326</td>\n",
       "      <td>0.980465</td>\n",
       "      <td>0</td>\n",
       "      <td>0.989191</td>\n",
       "    </tr>\n",
       "    <tr>\n",
       "      <th>98698</th>\n",
       "      <td>2020-04-09 15:16:00-05:00</td>\n",
       "      <td>Southwestern Energy Schedules First Quarter Co...</td>\n",
       "      <td>SPRING, Texas--(BUSINESS WIRE)--SOUTHWESTERN E...</td>\n",
       "      <td>SWN</td>\n",
       "      <td>en</td>\n",
       "      <td>Business Wire</td>\n",
       "      <td>1.020747</td>\n",
       "      <td>1.039419</td>\n",
       "      <td>1.008299</td>\n",
       "      <td>2</td>\n",
       "      <td>1.045643</td>\n",
       "    </tr>\n",
       "    <tr>\n",
       "      <th>98699</th>\n",
       "      <td>2020-07-21 06:06:00-05:00</td>\n",
       "      <td>Why Wheaton Precious Metals Is Trading Higher ...</td>\n",
       "      <td>Wheaton Precious Metals (NYSE: WPM) shares are...</td>\n",
       "      <td>WPM</td>\n",
       "      <td>en</td>\n",
       "      <td>Benzinga</td>\n",
       "      <td>1.011952</td>\n",
       "      <td>1.004980</td>\n",
       "      <td>1.021713</td>\n",
       "      <td>2</td>\n",
       "      <td>1.022311</td>\n",
       "    </tr>\n",
       "  </tbody>\n",
       "</table>\n",
       "<p>98700 rows × 11 columns</p>\n",
       "</div>"
      ],
      "text/plain": [
       "                        datetime  \\\n",
       "0      2020-10-21 10:11:13-05:00   \n",
       "1      2019-09-27 02:31:11-05:00   \n",
       "2      2020-01-23 05:20:00-05:00   \n",
       "3      2020-07-03 06:56:15-05:00   \n",
       "4      2020-11-19 09:15:00-05:00   \n",
       "...                          ...   \n",
       "98695  2020-06-12 10:00:31-05:00   \n",
       "98696  2019-12-05 08:00:00-05:00   \n",
       "98697  2020-03-19 08:45:00-05:00   \n",
       "98698  2020-04-09 15:16:00-05:00   \n",
       "98699  2020-07-21 06:06:00-05:00   \n",
       "\n",
       "                                                headline  \\\n",
       "0      Q4 2020 EPS Estimates for Portland General Ele...   \n",
       "1      Tata Motors tumbles 4 per cent on reports of J...   \n",
       "2      Billionaire businessman Leslie Wexner refuses ...   \n",
       "3      Boeing communications boss Niel Golightly resi...   \n",
       "4      Condor Hospitality Announces Modification to I...   \n",
       "...                                                  ...   \n",
       "98695  BAE to produce more Vertical Launching System ...   \n",
       "98696  TE's new thermal bridge solution significantly...   \n",
       "98697  Coronavirus Rampage Continues For Skechers, Gu...   \n",
       "98698  Southwestern Energy Schedules First Quarter Co...   \n",
       "98699  Why Wheaton Precious Metals Is Trading Higher ...   \n",
       "\n",
       "                                                 summary related lang  \\\n",
       "0      Portland General Electric (NYSE:POR) – KeyCorp...     POR   en   \n",
       "1      The stock tumbled over 4 per cent to Rs 119.30...     TTM   en   \n",
       "2      Leslie Wexner is the CEO of L Brands, which in...      LB   en   \n",
       "3      Boeing communications boss Niel Golightly has ...      BA   en   \n",
       "4      NORFOLK, Neb.--(BUSINESS WIRE)---- $CDOR #Hote...     BMO   en   \n",
       "...                                                  ...     ...  ...   \n",
       "98695  BAE Systems will produce multiple types of Ver...      BA   en   \n",
       "98696  HARRISBURG, Pa., Dec. 5, 2019 /PRNewswire/ -- ...     TEL   en   \n",
       "98697  Skechers (SKX) shuts company-owned retail stor...     SKX   en   \n",
       "98698  SPRING, Texas--(BUSINESS WIRE)--SOUTHWESTERN E...     SWN   en   \n",
       "98699  Wheaton Precious Metals (NYSE: WPM) shares are...     WPM   en   \n",
       "\n",
       "                          source  1stepChange  2stepChange  3stepChange  \\\n",
       "0               Transcript Daily     1.004938     1.008186     1.007406   \n",
       "1       The Economic Times India     0.986127     0.986127     0.995376   \n",
       "2                       ABC News     1.002445     1.007335     1.015159   \n",
       "3                  New York Post     1.029266     1.020872     1.020707   \n",
       "4                  Business Wire     1.008436     1.003431     1.004289   \n",
       "...                          ...          ...          ...          ...   \n",
       "98695         UK Defence Journal     0.986078     0.947778     0.954360   \n",
       "98696                PR Newswire     1.010157     1.006809     1.006586   \n",
       "98697  Zacks Investment Research     0.920465     0.922326     0.980465   \n",
       "98698              Business Wire     1.020747     1.039419     1.008299   \n",
       "98699                   Benzinga     1.011952     1.004980     1.021713   \n",
       "\n",
       "       priceChangeClass  6stepChange  \n",
       "0                     1     1.015333  \n",
       "1                     0     0.996532  \n",
       "2                     1     1.019560  \n",
       "3                     2     1.025787  \n",
       "4                     1     1.001859  \n",
       "...                 ...          ...  \n",
       "98695                 0     0.978162  \n",
       "98696                 2     1.009934  \n",
       "98697                 0     0.989191  \n",
       "98698                 2     1.045643  \n",
       "98699                 2     1.022311  \n",
       "\n",
       "[98700 rows x 11 columns]"
      ]
     },
     "execution_count": 4,
     "metadata": {},
     "output_type": "execute_result"
    }
   ],
   "source": [
    "balanced_dataset"
   ]
  },
  {
   "cell_type": "markdown",
   "metadata": {},
   "source": [
    "## Loading bert model and preprocessor"
   ]
  },
  {
   "cell_type": "code",
   "execution_count": 5,
   "metadata": {},
   "outputs": [],
   "source": [
    "small_bert_url = \"https://tfhub.dev/tensorflow/small_bert/bert_en_uncased_L-4_H-512_A-8/1\"\n",
    "small_bert_preprocessor = \"https://tfhub.dev/tensorflow/bert_en_uncased_preprocess/2\"\n",
    "\n",
    "\n",
    "#TODO: fix sequence length?\n",
    "seq_length=512\n",
    "bert_preprocess_model = hub.KerasLayer(small_bert_preprocessor)\n",
    "bert_preprocess = hub.load(small_bert_preprocessor)\n",
    "bert_model = hub.KerasLayer(small_bert_url)"
   ]
  },
  {
   "cell_type": "code",
   "execution_count": 6,
   "metadata": {},
   "outputs": [
    {
     "name": "stdout",
     "output_type": "stream",
     "text": [
      "Shape Word Ids :  (1, 512)\n",
      "Shape Mask     :  (1, 512)\n",
      "Shape Type Ids :  (1, 512)\n"
     ]
    }
   ],
   "source": [
    "tt = \"Indian shares fell on Wednesday after the International Monetary Fund cut its economic growth forecast for the country for the second time in nearly four months, while Wipro's quarterly profit miss also weighed on sentiment.\"\n",
    "tok = bert_preprocess.tokenize(tf.constant([tt]))\n",
    "text_preprocessed = bert_preprocess.bert_pack_inputs([tok], tf.constant(seq_length))\n",
    "\n",
    "print('Shape Word Ids : ', text_preprocessed['input_word_ids'].shape)\n",
    "print('Shape Mask     : ', text_preprocessed['input_mask'].shape)\n",
    "print('Shape Type Ids : ', text_preprocessed['input_type_ids'].shape)\n"
   ]
  },
  {
   "cell_type": "markdown",
   "metadata": {},
   "source": [
    "# Test preprocessor"
   ]
  },
  {
   "cell_type": "code",
   "execution_count": 7,
   "metadata": {},
   "outputs": [],
   "source": [
    "preprocessor = hub.load(\n",
    "    \"https://tfhub.dev/tensorflow/bert_en_uncased_preprocess/2\")\n",
    "\n",
    "# Step 1: tokenize batches of text inputs.\n",
    "text_inputs = [tf.keras.layers.Input(shape=(), dtype=tf.string)\n",
    "               ] # This SavedModel accepts up to 2 text inputs.\n",
    "tokenize = hub.KerasLayer(preprocessor.tokenize)\n",
    "tokenized_inputs = [tokenize(segment) for segment in text_inputs]\n",
    "\n",
    "# Step 3: pack input sequences for the Transformer encoder.\n",
    "seq_length = 128  # Your choice here.\n",
    "bert_pack_inputs = hub.KerasLayer(\n",
    "    preprocessor.bert_pack_inputs,\n",
    "    arguments=dict(seq_length=seq_length))  # Optional argument.\n",
    "encoder_inputs = bert_pack_inputs(tokenized_inputs)"
   ]
  },
  {
   "cell_type": "markdown",
   "metadata": {},
   "source": [
    "### Preprocess some text"
   ]
  },
  {
   "cell_type": "code",
   "execution_count": 8,
   "metadata": {},
   "outputs": [
    {
     "name": "stdout",
     "output_type": "stream",
     "text": [
      "Keys       : ['input_word_ids', 'input_mask', 'input_type_ids']\n",
      "Shape      : (1, 128)\n",
      "Word Ids   : [[  101  3643  3070  3170  9725  6661  1997 15315 27635  2869  3915  1006\n",
      "   6396  3366  1024 15315  2595  1007  2013  1037  2907  5790  2000  1037\n",
      "   4965  5790  1999  1037  2470  3602  3843  2000  9387  2006  5095 10175\n",
      "  24997 11528  2063  9725  6661  1997 15315 27635  2869  3915  1006  6396\n",
      "   3366  1024 15315  2595  1007  2013  1037  2907  5790  2000  1037  4965\n",
      "   5790  1999  1037  2470  3602  3843  2000  9387  2006  5095 10175 24997\n",
      "  11528  2063  9725  6661  1997 15315 27635  2869  3915  1006  6396  3366\n",
      "   1024 15315  2595  1007  2013  1037  2907  5790  2000  1037  4965  5790\n",
      "   1999  1037  2470  3602  3843  2000  9387  2006  5095 10175 24997 11528\n",
      "   2063  9725  6661  1997 15315 27635  2869  3915  1006  6396  3366  1024\n",
      "  15315  2595  1007  2013  1037  2907  5790   102]]\n",
      "Input Mask : [[1 1 1 1 1 1 1 1 1 1 1 1 1 1 1 1 1 1 1 1 1 1 1 1 1 1 1 1 1 1 1 1 1 1 1 1\n",
      "  1 1 1 1 1 1 1 1 1 1 1 1 1 1 1 1 1 1 1 1 1 1 1 1 1 1 1 1 1 1 1 1 1 1 1 1\n",
      "  1 1 1 1 1 1 1 1 1 1 1 1 1 1 1 1 1 1 1 1 1 1 1 1 1 1 1 1 1 1 1 1 1 1 1 1\n",
      "  1 1 1 1 1 1 1 1 1 1 1 1 1 1 1 1 1 1 1 1]]\n",
      "Type Ids   : [[0 0 0 0 0 0 0 0 0 0 0 0 0 0 0 0 0 0 0 0 0 0 0 0 0 0 0 0 0 0 0 0 0 0 0 0\n",
      "  0 0 0 0 0 0 0 0 0 0 0 0 0 0 0 0 0 0 0 0 0 0 0 0 0 0 0 0 0 0 0 0 0 0 0 0\n",
      "  0 0 0 0 0 0 0 0 0 0 0 0 0 0 0 0 0 0 0 0 0 0 0 0 0 0 0 0 0 0 0 0 0 0 0 0\n",
      "  0 0 0 0 0 0 0 0 0 0 0 0 0 0 0 0 0 0 0 0]]\n"
     ]
    },
    {
     "data": {
      "text/plain": [
       "193"
      ]
     },
     "execution_count": 8,
     "metadata": {},
     "output_type": "execute_result"
    }
   ],
   "source": [
    "test_text = [\"ValuEngine upgraded shares of Skechers USA (NYSE:SKX) from a hold rating to a buy rating in a research note issued to investors on SaturdayValuEngine upgraded shares of Skechers USA (NYSE:SKX) from a hold rating to a buy rating in a research note issued to investors on SaturdayValuEngine upgraded shares of Skechers USA (NYSE:SKX) from a hold rating to a buy rating in a research note issued to investors on SaturdayValuEngine upgraded shares of Skechers USA (NYSE:SKX) from a hold rating to a buy rating in a research note issued to investors on SaturdayValuEngine upgraded shares of Skechers USA (NYSE:SKX) from a hold rating to a buy rating in a research note issued to investors on SaturdayValuEngine upgraded shares of Skechers USA (NYSE:SKX) from a hold rating to a buy rating in a research note issued to investors on SaturdayValuEngine upgraded shares of Skechers USA (NYSE:SKX) from a hold rating to a buy rating in a research note issued to investors on Saturday morning, ValuEngine reports. SKX has been the topic of several other reports. 140166 increased their price objective on Skechers USA from $32.00 to $39.00 in a research report on Friday, July\"]\n",
    "\n",
    "text_preprocessed = bert_preprocess_model(test_text)\n",
    "print(f'Keys       : {list(text_preprocessed.keys())}')\n",
    "print(f'Shape      : {text_preprocessed[\"input_word_ids\"].shape}')\n",
    "print(f'Word Ids   : {text_preprocessed[\"input_word_ids\"]}')\n",
    "print(f'Input Mask : {text_preprocessed[\"input_mask\"]}')\n",
    "print(f'Type Ids   : {text_preprocessed[\"input_type_ids\"]}')\n",
    "len(test_text[0].split())"
   ]
  },
  {
   "cell_type": "code",
   "execution_count": 9,
   "metadata": {},
   "outputs": [
    {
     "name": "stdout",
     "output_type": "stream",
     "text": [
      "Pooled Outputs Shape:(1, 512)\n",
      "Pooled Outputs Values:[ 0.9872788   0.6081531   0.24679302 -0.06692457  0.10544986  0.8710267\n",
      "  0.9948231  -0.9355519  -0.6580255  -0.833649   -0.17882733  0.80779314]\n",
      "Sequence Outputs Shape:(1, 128, 512)\n",
      "Sequence Outputs Values:[[ 0.31549835 -0.11632712  0.46051133 ... -1.6071644   0.23618475\n",
      "  -0.16490716]\n",
      " [-0.3047495  -0.9911476   0.08962081 ... -0.61106586  1.365704\n",
      "   0.05055675]\n",
      " [-0.45908156  0.74033844 -0.00935665 ... -0.8183393   0.20104626\n",
      "  -0.29675996]\n",
      " ...\n",
      " [-0.9397467   1.5017155   0.36378935 ... -0.8516258   0.58350456\n",
      "   0.8833866 ]\n",
      " [-0.04212323  0.2719484   0.11452954 ... -0.38150007  0.55415344\n",
      "   0.4019239 ]\n",
      " [ 0.10870774 -0.4503712  -0.7897196  ... -0.6657064  -0.32420114\n",
      "   0.7618558 ]]\n"
     ]
    }
   ],
   "source": [
    "bert_results = bert_model(text_preprocessed)\n",
    "\n",
    "print(f'Pooled Outputs Shape:{bert_results[\"pooled_output\"].shape}')\n",
    "print(f'Pooled Outputs Values:{bert_results[\"pooled_output\"][0, :12]}')\n",
    "print(f'Sequence Outputs Shape:{bert_results[\"sequence_output\"].shape}')\n",
    "print(f'Sequence Outputs Values:{bert_results[\"sequence_output\"][0, :12]}')"
   ]
  },
  {
   "cell_type": "markdown",
   "metadata": {},
   "source": [
    "# Crete model"
   ]
  },
  {
   "cell_type": "code",
   "execution_count": 17,
   "metadata": {},
   "outputs": [],
   "source": [
    "def create_classifier_model():\n",
    "    text_input_layer = tf.keras.layers.Input(shape=(), dtype=tf.string, name=\"text\")\n",
    "    preprocessing_layer = hub.KerasLayer(small_bert_preprocessor, name=\"preprocessor\")\n",
    "    encoded_input = preprocessing_layer(text_input_layer)\n",
    "    encoder = hub.KerasLayer(small_bert_url, trainable=True, name=\"bert_encoder\")\n",
    "    outputs = encoder(encoded_input)\n",
    "    net = outputs[\"pooled_output\"]\n",
    "    net = tf.keras.layers.Dense(3, activation='softmax', name=\"classifier\")(net)\n",
    "    return tf.keras.Model(text_input_layer, net)"
   ]
  },
  {
   "cell_type": "code",
   "execution_count": 18,
   "metadata": {},
   "outputs": [
    {
     "name": "stdout",
     "output_type": "stream",
     "text": [
      "tf.Tensor([[0.22330481 0.34659702 0.43009812]], shape=(1, 3), dtype=float32)\n"
     ]
    }
   ],
   "source": [
    "classifier_model = create_classifier_model()\n",
    "bert_raw_result = classifier_model(tf.constant(test_text))\n",
    "print(bert_raw_result)"
   ]
  },
  {
   "cell_type": "code",
   "execution_count": 20,
   "metadata": {},
   "outputs": [],
   "source": [
    "epochs = 1\n",
    "steps_per_epoch = len(train_data.index)\n",
    "num_train_steps = steps_per_epoch * epochs\n",
    "num_warmup_steps = int(0.1*num_train_steps)\n",
    "\n",
    "init_lr = 3e-5 # 1e-4\n",
    "optimizer = optimization.create_optimizer(init_lr=init_lr,\n",
    "                                          num_train_steps=num_train_steps,\n",
    "                                          num_warmup_steps=num_warmup_steps,\n",
    "                                          optimizer_type='adamw')"
   ]
  },
  {
   "cell_type": "code",
   "execution_count": 21,
   "metadata": {},
   "outputs": [],
   "source": [
    "loss = tf.keras.losses.SparseCategoricalCrossentropy(from_logits=True)\n",
    "metric = tf.keras.metrics.SparseCategoricalAccuracy('accuracy')\n",
    "classifier_model.compile(optimizer=optimizer,\n",
    "                        loss=loss,\n",
    "                        metrics=metric)"
   ]
  },
  {
   "cell_type": "code",
   "execution_count": 22,
   "metadata": {},
   "outputs": [],
   "source": [
    "from sklearn.metrics import f1_score,classification_report\n",
    "from data_analyser import calc_rate_of_return\n",
    "\n",
    "\n",
    "test_x = np.array(test_data.summary)\n",
    "test_y = np.array(test_data.priceChangeClass).astype(np.int8)\n",
    "\n",
    "class EpochEndSummaryCallback(tf.keras.callbacks.Callback):\n",
    "    def on_epoch_end(self, epoch, logs=None):\n",
    "        keys = list(logs.keys())\n",
    "        print(\"\\nEvaluating\")\n",
    "        pred = classifier_model.predict(test_x)\n",
    "        rez = []\n",
    "        for elem in pred:\n",
    "            aa = tf.math.argmax(elem)\n",
    "            rez.append(aa.numpy())\n",
    "            \n",
    "        print(classification_report(test_data.priceChangeClass, rez, digits=3))\n",
    "        \n",
    "        rate_return = calc_rate_of_return(rez, test_data[\"1stepChange\"].tolist(), buy_class=2)\n",
    "        print(np.mean(rate_return))\n",
    "        print(tf.math.confusion_matrix(labels=test_y, predictions=rez))\n",
    "        #print(\"End epoch {} of training; got log keys: {}\".format(epoch, keys))\n"
   ]
  },
  {
   "cell_type": "code",
   "execution_count": 23,
   "metadata": {},
   "outputs": [
    {
     "name": "stdout",
     "output_type": "stream",
     "text": [
      "Epoch 1/10\n",
      "8883/8883 [==============================] - ETA: 0s - loss: 1.0869 - accuracy: 0.3853\n",
      "Evaluating\n",
      "              precision    recall  f1-score   support\n",
      "\n",
      "           0      0.378     0.590     0.461      5914\n",
      "           1      0.430     0.580     0.494      5917\n",
      "           2      0.519     0.050     0.090      5935\n",
      "\n",
      "    accuracy                          0.406     17766\n",
      "   macro avg      0.443     0.407     0.349     17766\n",
      "weighted avg      0.443     0.406     0.348     17766\n",
      "\n",
      "1.0072120331908647\n",
      "tf.Tensor(\n",
      "[[3491 2249  174]\n",
      " [2387 3432   98]\n",
      " [3348 2293  294]], shape=(3, 3), dtype=int32)\n",
      "8883/8883 [==============================] - 870s 98ms/step - loss: 1.0869 - accuracy: 0.3853 - val_loss: 1.0836 - val_accuracy: 0.4041\n",
      "Epoch 2/10\n",
      "8883/8883 [==============================] - ETA: 0s - loss: 1.0583 - accuracy: 0.4370\n",
      "Evaluating\n",
      "              precision    recall  f1-score   support\n",
      "\n",
      "           0      0.409     0.473     0.439      5914\n",
      "           1      0.479     0.485     0.482      5917\n",
      "           2      0.426     0.354     0.386      5935\n",
      "\n",
      "    accuracy                          0.437     17766\n",
      "   macro avg      0.438     0.437     0.436     17766\n",
      "weighted avg      0.438     0.437     0.436     17766\n",
      "\n",
      "1.0041725272995194\n",
      "tf.Tensor(\n",
      "[[2798 1525 1591]\n",
      " [1804 2871 1242]\n",
      " [2234 1602 2099]], shape=(3, 3), dtype=int32)\n",
      "8883/8883 [==============================] - 868s 98ms/step - loss: 1.0583 - accuracy: 0.4370 - val_loss: 1.0602 - val_accuracy: 0.4342\n",
      "Epoch 3/10\n",
      "8883/8883 [==============================] - ETA: 0s - loss: 1.0193 - accuracy: 0.4953\n",
      "Evaluating\n",
      "              precision    recall  f1-score   support\n",
      "\n",
      "           0      0.434     0.363     0.395      5914\n",
      "           1      0.490     0.462     0.476      5917\n",
      "           2      0.405     0.495     0.446      5935\n",
      "\n",
      "    accuracy                          0.440     17766\n",
      "   macro avg      0.443     0.440     0.439     17766\n",
      "weighted avg      0.443     0.440     0.439     17766\n",
      "\n",
      "1.0028851130795018\n",
      "tf.Tensor(\n",
      "[[2145 1396 2373]\n",
      " [1243 2734 1940]\n",
      " [1552 1445 2938]], shape=(3, 3), dtype=int32)\n",
      "8883/8883 [==============================] - 868s 98ms/step - loss: 1.0193 - accuracy: 0.4953 - val_loss: 1.0698 - val_accuracy: 0.4362\n",
      "Epoch 4/10\n",
      "8883/8883 [==============================] - ETA: 0s - loss: 0.9693 - accuracy: 0.5594\n",
      "Evaluating\n",
      "              precision    recall  f1-score   support\n",
      "\n",
      "           0      0.430     0.393     0.411      5914\n",
      "           1      0.470     0.509     0.489      5917\n",
      "           2      0.421     0.423     0.422      5935\n",
      "\n",
      "    accuracy                          0.442     17766\n",
      "   macro avg      0.440     0.442     0.440     17766\n",
      "weighted avg      0.440     0.442     0.440     17766\n",
      "\n",
      "1.003943753959107\n",
      "tf.Tensor(\n",
      "[[2323 1697 1894]\n",
      " [1351 3013 1553]\n",
      " [1724 1703 2508]], shape=(3, 3), dtype=int32)\n",
      "8883/8883 [==============================] - 866s 97ms/step - loss: 0.9693 - accuracy: 0.5594 - val_loss: 1.0707 - val_accuracy: 0.4419\n",
      "Epoch 5/10\n",
      "8883/8883 [==============================] - ETA: 0s - loss: 0.9225 - accuracy: 0.6134\n",
      "Evaluating\n",
      "              precision    recall  f1-score   support\n",
      "\n",
      "           0      0.423     0.466     0.444      5914\n",
      "           1      0.475     0.500     0.487      5917\n",
      "           2      0.428     0.362     0.393      5935\n",
      "\n",
      "    accuracy                          0.443     17766\n",
      "   macro avg      0.442     0.443     0.441     17766\n",
      "weighted avg      0.442     0.443     0.441     17766\n",
      "\n",
      "1.004727584022028\n",
      "tf.Tensor(\n",
      "[[2757 1610 1547]\n",
      " [1634 2959 1324]\n",
      " [2122 1662 2151]], shape=(3, 3), dtype=int32)\n",
      "8883/8883 [==============================] - 871s 98ms/step - loss: 0.9225 - accuracy: 0.6134 - val_loss: 1.0821 - val_accuracy: 0.4393\n",
      "Epoch 6/10\n",
      "8883/8883 [==============================] - ETA: 0s - loss: 0.8840 - accuracy: 0.6560\n",
      "Evaluating\n",
      "              precision    recall  f1-score   support\n",
      "\n",
      "           0      0.416     0.501     0.454      5914\n",
      "           1      0.483     0.457     0.470      5917\n",
      "           2      0.431     0.366     0.396      5935\n",
      "\n",
      "    accuracy                          0.441     17766\n",
      "   macro avg      0.443     0.441     0.440     17766\n",
      "weighted avg      0.443     0.441     0.440     17766\n",
      "\n",
      "1.004818985776786\n",
      "tf.Tensor(\n",
      "[[2964 1427 1523]\n",
      " [1868 2703 1346]\n",
      " [2300 1464 2171]], shape=(3, 3), dtype=int32)\n",
      "8883/8883 [==============================] - 874s 98ms/step - loss: 0.8840 - accuracy: 0.6560 - val_loss: 1.0908 - val_accuracy: 0.4387\n",
      "Epoch 7/10\n",
      "8883/8883 [==============================] - ETA: 0s - loss: 0.8560 - accuracy: 0.6873\n",
      "Evaluating\n",
      "              precision    recall  f1-score   support\n",
      "\n",
      "           0      0.428     0.448     0.438      5914\n",
      "           1      0.475     0.486     0.481      5917\n",
      "           2      0.430     0.400     0.414      5935\n",
      "\n",
      "    accuracy                          0.445     17766\n",
      "   macro avg      0.444     0.445     0.444     17766\n",
      "weighted avg      0.444     0.445     0.444     17766\n",
      "\n",
      "1.0044709194392407\n",
      "tf.Tensor(\n",
      "[[2648 1557 1709]\n",
      " [1601 2877 1439]\n",
      " [1939 1624 2372]], shape=(3, 3), dtype=int32)\n",
      "8883/8883 [==============================] - 879s 99ms/step - loss: 0.8560 - accuracy: 0.6873 - val_loss: 1.0910 - val_accuracy: 0.4411\n",
      "Epoch 8/10\n",
      "8883/8883 [==============================] - ETA: 0s - loss: 0.8337 - accuracy: 0.7112\n",
      "Evaluating\n",
      "              precision    recall  f1-score   support\n",
      "\n",
      "           0      0.427     0.453     0.440      5914\n",
      "           1      0.475     0.489     0.482      5917\n",
      "           2      0.428     0.390     0.408      5935\n",
      "\n",
      "    accuracy                          0.444     17766\n",
      "   macro avg      0.443     0.444     0.443     17766\n",
      "weighted avg      0.443     0.444     0.443     17766\n",
      "\n",
      "1.004535231988404\n",
      "tf.Tensor(\n",
      "[[2679 1564 1671]\n",
      " [1606 2892 1419]\n",
      " [1991 1630 2314]], shape=(3, 3), dtype=int32)\n",
      "8883/8883 [==============================] - 876s 99ms/step - loss: 0.8337 - accuracy: 0.7112 - val_loss: 1.0948 - val_accuracy: 0.4364\n",
      "Epoch 9/10\n",
      "8883/8883 [==============================] - ETA: 0s - loss: 0.8265 - accuracy: 0.7184\n",
      "Evaluating\n",
      "              precision    recall  f1-score   support\n",
      "\n",
      "           0      0.427     0.453     0.440      5914\n",
      "           1      0.475     0.489     0.482      5917\n",
      "           2      0.428     0.390     0.408      5935\n",
      "\n",
      "    accuracy                          0.444     17766\n",
      "   macro avg      0.443     0.444     0.443     17766\n",
      "weighted avg      0.443     0.444     0.443     17766\n",
      "\n",
      "1.004535231988404\n",
      "tf.Tensor(\n",
      "[[2679 1564 1671]\n",
      " [1606 2892 1419]\n",
      " [1991 1630 2314]], shape=(3, 3), dtype=int32)\n",
      "8883/8883 [==============================] - 878s 99ms/step - loss: 0.8265 - accuracy: 0.7184 - val_loss: 1.0948 - val_accuracy: 0.4364\n",
      "Epoch 10/10\n",
      "8883/8883 [==============================] - ETA: 0s - loss: 0.8251 - accuracy: 0.7214\n",
      "Evaluating\n",
      "              precision    recall  f1-score   support\n",
      "\n",
      "           0      0.427     0.453     0.440      5914\n",
      "           1      0.475     0.489     0.482      5917\n",
      "           2      0.428     0.390     0.408      5935\n",
      "\n",
      "    accuracy                          0.444     17766\n",
      "   macro avg      0.443     0.444     0.443     17766\n",
      "weighted avg      0.443     0.444     0.443     17766\n",
      "\n",
      "1.004535231988404\n",
      "tf.Tensor(\n",
      "[[2679 1564 1671]\n",
      " [1606 2892 1419]\n",
      " [1991 1630 2314]], shape=(3, 3), dtype=int32)\n",
      "8883/8883 [==============================] - 877s 99ms/step - loss: 0.8251 - accuracy: 0.7214 - val_loss: 1.0948 - val_accuracy: 0.4364\n"
     ]
    }
   ],
   "source": [
    "x_train = np.array(train_data.summary)\n",
    "y_train = np.array(train_data.priceChangeClass).astype(np.int8)\n",
    "\n",
    "history = classifier_model.fit(x_train, \n",
    "                                y_train, \n",
    "                                batch_size=8,\n",
    "                                validation_data=(val_x, val_y),\n",
    "                                epochs=10,\n",
    "                                callbacks=[EpochEndSummaryCallback()])"
   ]
  },
  {
   "cell_type": "code",
   "execution_count": 99,
   "metadata": {},
   "outputs": [],
   "source": [
    "\n",
    "test_x = np.array(test_data.summary)\n",
    "test_y = np.array(test_data.priceChangeClass).astype(np.int8)\n",
    "\n",
    "#res = classifier_model.evaluate(test_x, test_y)\n",
    "#print(\"test loss, test acc:\", res)\n"
   ]
  },
  {
   "cell_type": "code",
   "execution_count": 100,
   "metadata": {},
   "outputs": [],
   "source": [
    "pred = classifier_model.predict(test_x)"
   ]
  },
  {
   "cell_type": "code",
   "execution_count": 101,
   "metadata": {},
   "outputs": [
    {
     "data": {
      "text/plain": [
       "array([[9.5039743e-01, 4.1414532e-03, 4.5461077e-02],\n",
       "       [3.6217499e-01, 1.0599763e-03, 6.3676506e-01],\n",
       "       [2.6376617e-01, 3.1849605e-04, 7.3591536e-01],\n",
       "       ...,\n",
       "       [9.7646004e-01, 1.8086247e-04, 2.3359086e-02],\n",
       "       [8.7997169e-06, 9.9994934e-01, 4.1863037e-05],\n",
       "       [4.5175308e-01, 3.0112956e-02, 5.1813394e-01]], dtype=float32)"
      ]
     },
     "execution_count": 101,
     "metadata": {},
     "output_type": "execute_result"
    }
   ],
   "source": [
    "pred"
   ]
  },
  {
   "cell_type": "code",
   "execution_count": 102,
   "metadata": {},
   "outputs": [],
   "source": [
    "#tf.math.confusion_matrix(labels=test_y, predictions=res)\n",
    "\n",
    "rez = []\n",
    "for elem in pred:\n",
    "    aa = tf.math.argmax(elem)\n",
    "    rez.append(aa.numpy())"
   ]
  },
  {
   "cell_type": "code",
   "execution_count": 103,
   "metadata": {},
   "outputs": [],
   "source": [
    "rez = np.array(rez)"
   ]
  },
  {
   "cell_type": "code",
   "execution_count": 104,
   "metadata": {},
   "outputs": [
    {
     "data": {
      "text/plain": [
       "0.43194866599121917"
      ]
     },
     "execution_count": 104,
     "metadata": {},
     "output_type": "execute_result"
    }
   ],
   "source": [
    "np.count_nonzero(rez == test_y) / len(rez)"
   ]
  },
  {
   "cell_type": "code",
   "execution_count": 105,
   "metadata": {},
   "outputs": [
    {
     "data": {
      "text/plain": [
       "<tf.Tensor: shape=(3, 3), dtype=int32, numpy=\n",
       "array([[2107, 2107, 1700],\n",
       "       [1174, 3415, 1328],\n",
       "       [1598, 2185, 2152]], dtype=int32)>"
      ]
     },
     "execution_count": 105,
     "metadata": {},
     "output_type": "execute_result"
    }
   ],
   "source": [
    "tf.math.confusion_matrix(labels=test_y, predictions=rez)"
   ]
  },
  {
   "cell_type": "code",
   "execution_count": 106,
   "metadata": {},
   "outputs": [
    {
     "data": {
      "text/plain": [
       "0.43194866"
      ]
     },
     "execution_count": 106,
     "metadata": {},
     "output_type": "execute_result"
    }
   ],
   "source": [
    "m = tf.keras.metrics.Accuracy()\n",
    "m.update_state(rez, test_y)\n",
    "m.result().numpy()"
   ]
  },
  {
   "cell_type": "code",
   "execution_count": 107,
   "metadata": {},
   "outputs": [
    {
     "data": {
      "image/png": "[encoded data removed]",
      "text/plain": [
       "<Figure size 432x288 with 1 Axes>"
      ]
     },
     "metadata": {
      "needs_background": "light"
     },
     "output_type": "display_data"
    }
   ],
   "source": [
    "plt.hist(rez)\n",
    "plt.show()"
   ]
  },
  {
   "cell_type": "code",
   "execution_count": 108,
   "metadata": {},
   "outputs": [
    {
     "data": {
      "image/png": "[encoded data removed]",
      "text/plain": [
       "<Figure size 432x288 with 1 Axes>"
      ]
     },
     "metadata": {
      "needs_background": "light"
     },
     "output_type": "display_data"
    }
   ],
   "source": [
    "plt.hist(test_y)\n",
    "plt.show()"
   ]
  },
  {
   "cell_type": "code",
   "execution_count": 109,
   "metadata": {},
   "outputs": [
    {
     "name": "stdout",
     "output_type": "stream",
     "text": [
      "dict_keys(['loss', 'accuracy', 'val_loss', 'val_accuracy'])\n"
     ]
    }
   ],
   "source": [
    "print(history.history.keys())\n"
   ]
  },
  {
   "cell_type": "code",
   "execution_count": 110,
   "metadata": {},
   "outputs": [
    {
     "name": "stdout",
     "output_type": "stream",
     "text": [
      "              precision    recall  f1-score   support\n",
      "\n",
      "           0      0.432     0.356     0.390      5914\n",
      "           1      0.443     0.577     0.501      5917\n",
      "           2      0.415     0.363     0.387      5935\n",
      "\n",
      "    accuracy                          0.432     17766\n",
      "   macro avg      0.430     0.432     0.426     17766\n",
      "weighted avg      0.430     0.432     0.426     17766\n",
      "\n"
     ]
    }
   ],
   "source": [
    "from sklearn.metrics import f1_score,classification_report\n",
    "\n",
    "print(classification_report(test_data.priceChangeClass, rez, digits=3))"
   ]
  },
  {
   "cell_type": "code",
   "execution_count": 111,
   "metadata": {},
   "outputs": [
    {
     "data": {
      "text/plain": [
       "1.0033111946898265"
      ]
     },
     "execution_count": 111,
     "metadata": {},
     "output_type": "execute_result"
    }
   ],
   "source": [
    "from data_analyser import calc_rate_of_return\n",
    "rate_return = calc_rate_of_return(rez, test_data[\"1stepChange\"].tolist(), buy_class=2)\n",
    "np.mean(rate_return)\n"
   ]
  },
  {
   "cell_type": "code",
   "execution_count": 112,
   "metadata": {},
   "outputs": [
    {
     "data": {
      "text/plain": [
       "1.0001833401770026"
      ]
     },
     "execution_count": 112,
     "metadata": {},
     "output_type": "execute_result"
    }
   ],
   "source": [
    "np.mean(test_data[\"1stepChange\"].tolist())"
   ]
  },
  {
   "cell_type": "code",
   "execution_count": null,
   "metadata": {},
   "outputs": [],
   "source": []
  }
 ],
 "metadata": {
  "kernelspec": {
   "display_name": "stock-news",
   "language": "python",
   "name": "stock-news"
  },
  "language_info": {
   "codemirror_mode": {
    "name": "ipython",
    "version": 3
   },
   "file_extension": ".py",
   "mimetype": "text/x-python",
   "name": "python",
   "nbconvert_exporter": "python",
   "pygments_lexer": "ipython3",
   "version": "3.8.5"
  }
 },
 "nbformat": 4,
 "nbformat_minor": 4
}
