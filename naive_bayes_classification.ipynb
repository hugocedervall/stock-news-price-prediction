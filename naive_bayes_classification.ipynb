{
 "cells": [
  {
   "cell_type": "code",
   "execution_count": 1,
   "metadata": {},
   "outputs": [],
   "source": [
    "import pandas as pd\n",
    "import bz2\n",
    "from sklearn.metrics import f1_score,classification_report\n",
    "from sklearn.neural_network import MLPClassifier\n",
    "\n"
   ]
  },
  {
   "cell_type": "code",
   "execution_count": 2,
   "metadata": {},
   "outputs": [
    {
     "name": "stdout",
     "output_type": "stream",
     "text": [
      "30220 summaries containing 'No summary available'\n",
      "6142 summaries containing 'Full story available on'\n",
      "Duplicate summaries removed: 14242\n",
      "Duplicate headlines removed: 404\n",
      "randomizing order of data\n"
     ]
    }
   ],
   "source": [
    "from data_getter import *"
   ]
  },
  {
   "cell_type": "code",
   "execution_count": 3,
   "metadata": {},
   "outputs": [
    {
     "data": {
      "image/png": "[encoded data removed]",
      "text/plain": [
       "<Figure size 432x288 with 1 Axes>"
      ]
     },
     "metadata": {
      "needs_background": "light"
     },
     "output_type": "display_data"
    }
   ],
   "source": [
    "balanced_dataset['priceChangeClass'].value_counts().plot(kind='bar');"
   ]
  },
  {
   "cell_type": "markdown",
   "metadata": {},
   "source": [
    "## Naive Bayes classifier¶"
   ]
  },
  {
   "cell_type": "code",
   "execution_count": 4,
   "metadata": {},
   "outputs": [],
   "source": [
    "from sklearn.pipeline import Pipeline\n",
    "from sklearn.naive_bayes import MultinomialNB\n",
    "from sklearn.preprocessing import Binarizer\n",
    "from sklearn.feature_extraction.text import CountVectorizer, TfidfVectorizer"
   ]
  },
  {
   "cell_type": "code",
   "execution_count": 5,
   "metadata": {},
   "outputs": [
    {
     "data": {
      "text/plain": [
       "Pipeline(steps=[('vec', CountVectorizer()), ('multinomialnb', MultinomialNB())])"
      ]
     },
     "execution_count": 5,
     "metadata": {},
     "output_type": "execute_result"
    }
   ],
   "source": [
    "steps= [('vec', CountVectorizer()), ('multinomialnb', MultinomialNB())]\n",
    "pipeline = Pipeline(steps)\n",
    "pipeline.fit(train_data.summary, train_data.priceChangeClass)"
   ]
  },
  {
   "cell_type": "code",
   "execution_count": 6,
   "metadata": {},
   "outputs": [
    {
     "data": {
      "text/plain": [
       "0.43465045592705165"
      ]
     },
     "execution_count": 6,
     "metadata": {},
     "output_type": "execute_result"
    }
   ],
   "source": [
    "pipeline.score(test_data.summary, test_data.priceChangeClass)"
   ]
  },
  {
   "cell_type": "code",
   "execution_count": 7,
   "metadata": {},
   "outputs": [
    {
     "data": {
      "text/plain": [
       "Pipeline(steps=[('vec', TfidfVectorizer()), ('multinomialnb', MultinomialNB())])"
      ]
     },
     "execution_count": 7,
     "metadata": {},
     "output_type": "execute_result"
    }
   ],
   "source": [
    "steps= [('vec', TfidfVectorizer()), ('multinomialnb', MultinomialNB())]\n",
    "pipeline2 = Pipeline(steps)\n",
    "pipeline2.fit(train_data.summary, train_data.priceChangeClass)"
   ]
  },
  {
   "cell_type": "code",
   "execution_count": 8,
   "metadata": {},
   "outputs": [
    {
     "data": {
      "text/plain": [
       "0.4371833839918946"
      ]
     },
     "execution_count": 8,
     "metadata": {},
     "output_type": "execute_result"
    }
   ],
   "source": [
    "pipeline2.score(test_data.summary, test_data.priceChangeClass)"
   ]
  },
  {
   "cell_type": "code",
   "execution_count": 23,
   "metadata": {},
   "outputs": [
    {
     "name": "stdout",
     "output_type": "stream",
     "text": [
      "              precision    recall  f1-score   support\n",
      "\n",
      "           0       0.42      0.43      0.42      5914\n",
      "           1       0.46      0.49      0.48      5917\n",
      "           2       0.42      0.39      0.40      5935\n",
      "\n",
      "    accuracy                           0.43     17766\n",
      "   macro avg       0.43      0.43      0.43     17766\n",
      "weighted avg       0.43      0.43      0.43     17766\n",
      "\n"
     ]
    },
    {
     "data": {
      "image/png": "[encoded data removed]",
      "text/plain": [
       "<Figure size 432x288 with 1 Axes>"
      ]
     },
     "metadata": {
      "needs_background": "light"
     },
     "output_type": "display_data"
    }
   ],
   "source": [
    "from sklearn.metrics import f1_score,classification_report\n",
    "\n",
    "\n",
    "predicted = pipeline.predict(test_data.summary)\n",
    "plt.hist(predicted)\n",
    "\n",
    "print(classification_report(test_data.priceChangeClass, predicted))\n"
   ]
  },
  {
   "cell_type": "code",
   "execution_count": 16,
   "metadata": {},
   "outputs": [],
   "source": [
    "from data_analyser import calc_rate_of_return"
   ]
  },
  {
   "cell_type": "code",
   "execution_count": 17,
   "metadata": {},
   "outputs": [],
   "source": [
    "rate_return = calc_rate_of_return(predicted, test_data[\"1stepChange\"].tolist(), buy_class=2)"
   ]
  },
  {
   "cell_type": "code",
   "execution_count": 18,
   "metadata": {},
   "outputs": [
    {
     "data": {
      "text/plain": [
       "1.0034550017223098"
      ]
     },
     "execution_count": 18,
     "metadata": {},
     "output_type": "execute_result"
    }
   ],
   "source": [
    "np.mean(rate_return)"
   ]
  },
  {
   "cell_type": "code",
   "execution_count": 19,
   "metadata": {},
   "outputs": [
    {
     "data": {
      "text/plain": [
       "1.0001833401770026"
      ]
     },
     "execution_count": 19,
     "metadata": {},
     "output_type": "execute_result"
    }
   ],
   "source": [
    "np.mean(test_data[\"1stepChange\"].tolist())"
   ]
  },
  {
   "cell_type": "code",
   "execution_count": 20,
   "metadata": {},
   "outputs": [
    {
     "data": {
      "text/plain": [
       "<sklearn.metrics._plot.confusion_matrix.ConfusionMatrixDisplay at 0x7f06615cc9a0>"
      ]
     },
     "execution_count": 20,
     "metadata": {},
     "output_type": "execute_result"
    },
    {
     "data": {
      "image/png": "[encoded data removed]",
      "text/plain": [
       "<Figure size 432x288 with 2 Axes>"
      ]
     },
     "metadata": {
      "needs_background": "light"
     },
     "output_type": "display_data"
    }
   ],
   "source": [
    "from sklearn.metrics import confusion_matrix, plot_confusion_matrix\n",
    "\n",
    "plot_confusion_matrix(pipeline, test_data.summary, test_data.priceChangeClass)\n"
   ]
  },
  {
   "cell_type": "markdown",
   "metadata": {},
   "source": [
    "## Problem 3: Baselines"
   ]
  },
  {
   "cell_type": "markdown",
   "metadata": {},
   "source": [
    "Evaluation metrics such as accuracy should not be understood as absolute measures of performance, but should be used only to compare different classifiers. When other classifiers are not available, a simple baseline is a classifier that generates predictions by random sampling, respecting the training set&rsquo;s class distribution. This baseline is implemented by the class [DummyClassifier](https://scikit-learn.org/stable/modules/generated/sklearn.dummy.DummyClassifier.html). What is the performance of the random baseline on the test data?"
   ]
  },
  {
   "cell_type": "code",
   "execution_count": 21,
   "metadata": {},
   "outputs": [
    {
     "data": {
      "text/plain": [
       "0.33113812901046946"
      ]
     },
     "execution_count": 21,
     "metadata": {},
     "output_type": "execute_result"
    }
   ],
   "source": [
    "from sklearn.dummy import DummyClassifier\n",
    "\n",
    "dummy_clf = DummyClassifier(strategy=\"stratified\")\n",
    "dummy_clf.fit(train_data.summary, train_data.priceChangeClass)\n",
    "dummy_clf.score(test_data.summary, test_data.priceChangeClass)"
   ]
  },
  {
   "cell_type": "markdown",
   "metadata": {},
   "source": [
    "An even dumber baseline is to predict, for every document, that class which appears most often in the training data. This baseline is also called the most frequent class baseline. What is the accuracy of that baseline on the test data?"
   ]
  },
  {
   "cell_type": "code",
   "execution_count": 22,
   "metadata": {},
   "outputs": [
    {
     "data": {
      "text/plain": [
       "0.33305189688168413"
      ]
     },
     "execution_count": 22,
     "metadata": {},
     "output_type": "execute_result"
    }
   ],
   "source": [
    "dummy_clf = DummyClassifier(strategy=\"most_frequent\")\n",
    "dummy_clf.fit(train_data.summary, train_data.priceChangeClass)\n",
    "dummy_clf.score(test_data.summary, test_data.priceChangeClass)\n",
    "\n"
   ]
  },
  {
   "cell_type": "markdown",
   "metadata": {},
   "source": [
    "## Problem 4: Creating a balanced data set"
   ]
  },
  {
   "cell_type": "markdown",
   "metadata": {},
   "source": [
    "## Problem 5: Confusion matrix"
   ]
  },
  {
   "cell_type": "code",
   "execution_count": 19,
   "metadata": {},
   "outputs": [
    {
     "data": {
      "text/plain": [
       "Pipeline(steps=[('vec', CountVectorizer()), ('multinomialnb', MultinomialNB())])"
      ]
     },
     "execution_count": 19,
     "metadata": {},
     "output_type": "execute_result"
    }
   ],
   "source": [
    "from sklearn.model_selection import GridSearchCV\n",
    "\n",
    "steps= [('vec', CountVectorizer()), ('multinomialnb', MultinomialNB())]\n",
    "new_pipeline = Pipeline(steps)\n",
    "#a = GridSearchCV(estimator=new_pipeline, param_grid={\"vec__binary\": [True, False],\"vec__ngram_range\":[(1,1), (1,2)], \n",
    "#                                                     \"multinomialnb__alpha\":[1,0.1]})\n",
    "new_pipeline.fit(train_data.summary, train_data.priceChangeClass)\n"
   ]
  },
  {
   "cell_type": "code",
   "execution_count": 20,
   "metadata": {},
   "outputs": [
    {
     "data": {
      "text/plain": [
       "0.5202861522738886"
      ]
     },
     "execution_count": 20,
     "metadata": {},
     "output_type": "execute_result"
    }
   ],
   "source": [
    "#print(a.best_params_)\n",
    "new_pipeline.score(test_data.summary,test_data.priceChangeClass)"
   ]
  },
  {
   "cell_type": "markdown",
   "metadata": {},
   "source": [
    "## Problem 7: Try to improve your results"
   ]
  },
  {
   "cell_type": "markdown",
   "metadata": {},
   "source": [
    "Scikit-learn makes it easy to test different vectorizer–classifier pipelines – among other things, it includes different types of logistic regression classifiers, support vector machines, and decision trees. Browse the library to see which methods are supported.\n",
    "\n",
    "Build a pipeline that you find interesting, and use grid search to find optimal settings for the hyperparameters. Print the results of your best model. Did you manage to get better results than the ones that you obtained in Problem&nbsp;6? Answer with a short text."
   ]
  },
  {
   "cell_type": "code",
   "execution_count": null,
   "metadata": {},
   "outputs": [],
   "source": [
    "from sklearn.svm import SVC\n",
    "\n",
    "steps = [('vec', CountVectorizer()), ('svc',  SVC())]\n",
    "\n",
    "#parameters = {'svc__kernel': ['linear', 'poly', 'rbf', 'sigmoid', 'precomputed']}\n",
    "\n",
    "pipeline = Pipeline(steps)\n",
    "\n",
    "#clf = GridSearchCV(pipeline, parameters)\n",
    "pipeline.fit(train_data.summary, train_data.priceChangeClass)\n"
   ]
  },
  {
   "cell_type": "code",
   "execution_count": null,
   "metadata": {},
   "outputs": [],
   "source": [
    "#print(pipeline.best_params_)\n",
    "pipeline.score(test_data.summary,test_data.priceChangeClass)"
   ]
  },
  {
   "cell_type": "code",
   "execution_count": 28,
   "metadata": {},
   "outputs": [
    {
     "data": {
      "text/plain": [
       "Pipeline(steps=[('vec', TfidfVectorizer()),\n",
       "                ('net',\n",
       "                 MLPClassifier(alpha=1e-05, hidden_layer_sizes=(15, 10),\n",
       "                               max_iter=2000, random_state=1,\n",
       "                               solver='lbfgs'))])"
      ]
     },
     "execution_count": 28,
     "metadata": {},
     "output_type": "execute_result"
    }
   ],
   "source": [
    "from sklearn.neural_network import MLPClassifier\n",
    "\n",
    "steps = [('vec', TfidfVectorizer()), ('net',  MLPClassifier(solver='lbfgs', alpha=1e-5, hidden_layer_sizes=(15,10), random_state=1,max_iter=2000))]\n",
    "pipeline = Pipeline(steps)\n",
    "pipeline.fit(train_data.summary, train_data.priceChangeClass)\n"
   ]
  },
  {
   "cell_type": "code",
   "execution_count": 29,
   "metadata": {},
   "outputs": [
    {
     "data": {
      "text/plain": [
       "0.33305189688168413"
      ]
     },
     "execution_count": 29,
     "metadata": {},
     "output_type": "execute_result"
    }
   ],
   "source": [
    "pipeline.score(test_data.summary,test_data.priceChangeClass)"
   ]
  },
  {
   "cell_type": "code",
   "execution_count": 30,
   "metadata": {},
   "outputs": [
    {
     "data": {
      "text/plain": [
       "<sklearn.metrics._plot.confusion_matrix.ConfusionMatrixDisplay at 0x7f06613a1430>"
      ]
     },
     "execution_count": 30,
     "metadata": {},
     "output_type": "execute_result"
    },
    {
     "data": {
      "image/png": "[encoded data removed]",
      "text/plain": [
       "<Figure size 432x288 with 2 Axes>"
      ]
     },
     "metadata": {
      "needs_background": "light"
     },
     "output_type": "display_data"
    }
   ],
   "source": [
    "plot_confusion_matrix(pipeline, test_data.summary, test_data.priceChangeClass)"
   ]
  },
  {
   "cell_type": "code",
   "execution_count": 27,
   "metadata": {},
   "outputs": [
    {
     "name": "stdout",
     "output_type": "stream",
     "text": [
      "              precision    recall  f1-score   support\n",
      "\n",
      "           0       0.00      0.00      0.00      5914\n",
      "           1       0.33      1.00      0.50      5917\n",
      "           2       0.00      0.00      0.00      5935\n",
      "\n",
      "    accuracy                           0.33     17766\n",
      "   macro avg       0.11      0.33      0.17     17766\n",
      "weighted avg       0.11      0.33      0.17     17766\n",
      "\n"
     ]
    },
    {
     "name": "stderr",
     "output_type": "stream",
     "text": [
      "/home/hugo/.virtualenvs/stock-news/lib/python3.8/site-packages/sklearn/metrics/_classification.py:1221: UndefinedMetricWarning: Precision and F-score are ill-defined and being set to 0.0 in labels with no predicted samples. Use `zero_division` parameter to control this behavior.\n",
      "  _warn_prf(average, modifier, msg_start, len(result))\n"
     ]
    }
   ],
   "source": [
    "from sklearn.metrics import f1_score,classification_report\n",
    "\n",
    "res = pipeline.predict(test_data.summary)\n",
    "\n",
    "print(classification_report(test_data.priceChangeClass, res))"
   ]
  },
  {
   "cell_type": "markdown",
   "metadata": {},
   "source": [
    "## With countvectorizer"
   ]
  },
  {
   "cell_type": "code",
   "execution_count": 31,
   "metadata": {},
   "outputs": [
    {
     "name": "stderr",
     "output_type": "stream",
     "text": [
      "/home/hugo/.virtualenvs/stock-news/lib/python3.8/site-packages/sklearn/neural_network/_multilayer_perceptron.py:471: ConvergenceWarning: lbfgs failed to converge (status=1):\n",
      "STOP: TOTAL NO. of ITERATIONS REACHED LIMIT.\n",
      "\n",
      "Increase the number of iterations (max_iter) or scale the data as shown in:\n",
      "    https://scikit-learn.org/stable/modules/preprocessing.html\n",
      "  self.n_iter_ = _check_optimize_result(\"lbfgs\", opt_res, self.max_iter)\n"
     ]
    },
    {
     "data": {
      "text/plain": [
       "Pipeline(steps=[('vec', CountVectorizer()),\n",
       "                ('net',\n",
       "                 MLPClassifier(alpha=1e-05,\n",
       "                               hidden_layer_sizes=(15, 10, 10, 10, 10),\n",
       "                               max_iter=3000, random_state=1,\n",
       "                               solver='lbfgs'))])"
      ]
     },
     "execution_count": 31,
     "metadata": {},
     "output_type": "execute_result"
    }
   ],
   "source": [
    "\n",
    "steps = [('vec', CountVectorizer()), ('net',  MLPClassifier(solver='lbfgs', alpha=1e-5, hidden_layer_sizes=(15,10,10,10,10), random_state=1,max_iter=3000))]\n",
    "pipeline = Pipeline(steps)\n",
    "pipeline.fit(train_data.summary, train_data.priceChangeClass)"
   ]
  },
  {
   "cell_type": "code",
   "execution_count": 32,
   "metadata": {},
   "outputs": [
    {
     "data": {
      "text/plain": [
       "0.40994033547225034"
      ]
     },
     "execution_count": 32,
     "metadata": {},
     "output_type": "execute_result"
    }
   ],
   "source": [
    "pipeline.score(test_data.summary,test_data.priceChangeClass)"
   ]
  },
  {
   "cell_type": "code",
   "execution_count": 35,
   "metadata": {},
   "outputs": [
    {
     "data": {
      "text/plain": [
       "<sklearn.metrics._plot.confusion_matrix.ConfusionMatrixDisplay at 0x7f066676cc40>"
      ]
     },
     "execution_count": 35,
     "metadata": {},
     "output_type": "execute_result"
    },
    {
     "data": {
      "image/png": "[encoded data removed]",
      "text/plain": [
       "<Figure size 432x288 with 2 Axes>"
      ]
     },
     "metadata": {
      "needs_background": "light"
     },
     "output_type": "display_data"
    }
   ],
   "source": [
    "\n",
    "\n",
    "plot_confusion_matrix(pipeline, test_data.summary, test_data.priceChangeClass)"
   ]
  },
  {
   "cell_type": "code",
   "execution_count": 36,
   "metadata": {},
   "outputs": [
    {
     "name": "stdout",
     "output_type": "stream",
     "text": [
      "              precision    recall  f1-score   support\n",
      "\n",
      "           0       0.40      0.40      0.40      5914\n",
      "           1       0.43      0.40      0.41      5917\n",
      "           2       0.40      0.43      0.41      5935\n",
      "\n",
      "    accuracy                           0.41     17766\n",
      "   macro avg       0.41      0.41      0.41     17766\n",
      "weighted avg       0.41      0.41      0.41     17766\n",
      "\n"
     ]
    }
   ],
   "source": [
    "res = pipeline.predict(test_data.summary)\n",
    "\n",
    "print(classification_report(test_data.priceChangeClass, res))"
   ]
  },
  {
   "cell_type": "code",
   "execution_count": 42,
   "metadata": {},
   "outputs": [
    {
     "name": "stdout",
     "output_type": "stream",
     "text": [
      "[1 0 2 2 1 0 0 0 1 1 1 1 2 0 0 0 0 2 0 1 1 1 2 1 2 0 2 1 0 0]\n",
      "[1 0 2 2 0 0 0 0 1 1 1 1 2 0 0 2 1 0 0 1 1 1 2 2 2 1 2 1 2 0]\n"
     ]
    }
   ],
   "source": [
    "text = test_data.iloc[20:50]\n",
    "res = pipeline.predict(text.summary)\n",
    "print(res)\n",
    "print(text.priceChangeClass.to_numpy())"
   ]
  },
  {
   "cell_type": "code",
   "execution_count": 43,
   "metadata": {},
   "outputs": [
    {
     "data": {
      "text/html": [
       "<div>\n",
       "<style scoped>\n",
       "    .dataframe tbody tr th:only-of-type {\n",
       "        vertical-align: middle;\n",
       "    }\n",
       "\n",
       "    .dataframe tbody tr th {\n",
       "        vertical-align: top;\n",
       "    }\n",
       "\n",
       "    .dataframe thead th {\n",
       "        text-align: right;\n",
       "    }\n",
       "</style>\n",
       "<table border=\"1\" class=\"dataframe\">\n",
       "  <thead>\n",
       "    <tr style=\"text-align: right;\">\n",
       "      <th></th>\n",
       "      <th>datetime</th>\n",
       "      <th>headline</th>\n",
       "      <th>summary</th>\n",
       "      <th>related</th>\n",
       "      <th>lang</th>\n",
       "      <th>source</th>\n",
       "      <th>1stepChange</th>\n",
       "      <th>2stepChange</th>\n",
       "      <th>3stepChange</th>\n",
       "      <th>priceChangeClass</th>\n",
       "      <th>6stepChange</th>\n",
       "    </tr>\n",
       "  </thead>\n",
       "  <tbody>\n",
       "    <tr>\n",
       "      <th>0</th>\n",
       "      <td>2020-09-22 01:00:16-05:00</td>\n",
       "      <td>Snap has registered 750,000 people to vote in ...</td>\n",
       "      <td>Teaming up with artist Mark Bradford, Snapchat...</td>\n",
       "      <td>SNAP</td>\n",
       "      <td>en</td>\n",
       "      <td>Fast Company</td>\n",
       "      <td>1.000418</td>\n",
       "      <td>1.003763</td>\n",
       "      <td>1.002508</td>\n",
       "      <td>1</td>\n",
       "      <td>1.001254</td>\n",
       "    </tr>\n",
       "    <tr>\n",
       "      <th>1</th>\n",
       "      <td>2020-01-30 09:21:21-05:00</td>\n",
       "      <td>Agnico Eagle Mines Limited : Towards the break...</td>\n",
       "      <td>Agnico Eagle Mines Limited shares are closing ...</td>\n",
       "      <td>AEM</td>\n",
       "      <td>en</td>\n",
       "      <td>MarketScreener</td>\n",
       "      <td>0.996059</td>\n",
       "      <td>1.002982</td>\n",
       "      <td>1.003284</td>\n",
       "      <td>1</td>\n",
       "      <td>1.022250</td>\n",
       "    </tr>\n",
       "    <tr>\n",
       "      <th>2</th>\n",
       "      <td>2019-11-06 00:12:59-05:00</td>\n",
       "      <td>Outgoing NYPD Commissioner James O’Neill to jo...</td>\n",
       "      <td>Police Commissioner James O’Neill will head Vi...</td>\n",
       "      <td>V</td>\n",
       "      <td>en</td>\n",
       "      <td>New York Post</td>\n",
       "      <td>1.002438</td>\n",
       "      <td>1.000454</td>\n",
       "      <td>1.002438</td>\n",
       "      <td>1</td>\n",
       "      <td>1.003459</td>\n",
       "    </tr>\n",
       "    <tr>\n",
       "      <th>3</th>\n",
       "      <td>2020-02-07 13:42:12-05:00</td>\n",
       "      <td>Crypto Today: Ethereum rockets higher with fur...</td>\n",
       "      <td>Here's what you need to know on Friday Markets...</td>\n",
       "      <td>ETH</td>\n",
       "      <td>en</td>\n",
       "      <td>Forex Crunch</td>\n",
       "      <td>0.993416</td>\n",
       "      <td>0.996842</td>\n",
       "      <td>0.998212</td>\n",
       "      <td>0</td>\n",
       "      <td>0.993416</td>\n",
       "    </tr>\n",
       "    <tr>\n",
       "      <th>4</th>\n",
       "      <td>2019-07-23 08:12:21-05:00</td>\n",
       "      <td>What You Need To Know About TurnKey, Amazon's ...</td>\n",
       "      <td>Real estate services company Realogy Holdings ...</td>\n",
       "      <td>RLGY</td>\n",
       "      <td>en</td>\n",
       "      <td>Benzinga</td>\n",
       "      <td>0.961252</td>\n",
       "      <td>0.941878</td>\n",
       "      <td>0.959762</td>\n",
       "      <td>0</td>\n",
       "      <td>0.858420</td>\n",
       "    </tr>\n",
       "    <tr>\n",
       "      <th>...</th>\n",
       "      <td>...</td>\n",
       "      <td>...</td>\n",
       "      <td>...</td>\n",
       "      <td>...</td>\n",
       "      <td>...</td>\n",
       "      <td>...</td>\n",
       "      <td>...</td>\n",
       "      <td>...</td>\n",
       "      <td>...</td>\n",
       "      <td>...</td>\n",
       "      <td>...</td>\n",
       "    </tr>\n",
       "    <tr>\n",
       "      <th>39135</th>\n",
       "      <td>2020-05-07 06:53:49-05:00</td>\n",
       "      <td>Indian education platform Unacademy’s database...</td>\n",
       "      <td>Unacademy, one of India’s largest learning sit...</td>\n",
       "      <td>INFY</td>\n",
       "      <td>en</td>\n",
       "      <td>The Next Web</td>\n",
       "      <td>1.010193</td>\n",
       "      <td>1.015855</td>\n",
       "      <td>1.019819</td>\n",
       "      <td>2</td>\n",
       "      <td>1.018686</td>\n",
       "    </tr>\n",
       "    <tr>\n",
       "      <th>39136</th>\n",
       "      <td>2020-03-31 08:30:02-05:00</td>\n",
       "      <td>Snapchat launches App Stories, which lets deve...</td>\n",
       "      <td>Josh Constine / TechCrunch : Snapchat launches...</td>\n",
       "      <td>SNAP</td>\n",
       "      <td>en</td>\n",
       "      <td>Techmeme</td>\n",
       "      <td>1.004292</td>\n",
       "      <td>0.990558</td>\n",
       "      <td>1.040343</td>\n",
       "      <td>1</td>\n",
       "      <td>1.054506</td>\n",
       "    </tr>\n",
       "    <tr>\n",
       "      <th>39137</th>\n",
       "      <td>2019-02-06 09:50:26-05:00</td>\n",
       "      <td>Can A High-Yield Allocation Still Offset Equit...</td>\n",
       "      <td>No summary available.</td>\n",
       "      <td>JSD,JQC</td>\n",
       "      <td>en</td>\n",
       "      <td>Seeking Alpha</td>\n",
       "      <td>1.000000</td>\n",
       "      <td>1.000425</td>\n",
       "      <td>1.001610</td>\n",
       "      <td>1</td>\n",
       "      <td>1.000644</td>\n",
       "    </tr>\n",
       "    <tr>\n",
       "      <th>39138</th>\n",
       "      <td>2019-04-15 17:12:00-05:00</td>\n",
       "      <td>PG&amp;E Shares, Bonds Surge on Governor’s Wildfir...</td>\n",
       "      <td>PG&amp;E Corp.’s stock and bond prices have surged...</td>\n",
       "      <td>PCG</td>\n",
       "      <td>en</td>\n",
       "      <td>The Wall Street Journal</td>\n",
       "      <td>1.000424</td>\n",
       "      <td>0.995335</td>\n",
       "      <td>0.993215</td>\n",
       "      <td>1</td>\n",
       "      <td>1.019932</td>\n",
       "    </tr>\n",
       "    <tr>\n",
       "      <th>39139</th>\n",
       "      <td>2020-06-15 06:26:22-05:00</td>\n",
       "      <td>Walmart partners with Shopify to expand web ma...</td>\n",
       "      <td>For Shopify, the deal provides its network of ...</td>\n",
       "      <td>SHOP</td>\n",
       "      <td>en</td>\n",
       "      <td>Financial Post Business</td>\n",
       "      <td>1.044310</td>\n",
       "      <td>1.058230</td>\n",
       "      <td>1.038815</td>\n",
       "      <td>2</td>\n",
       "      <td>1.056466</td>\n",
       "    </tr>\n",
       "  </tbody>\n",
       "</table>\n",
       "<p>39140 rows × 11 columns</p>\n",
       "</div>"
      ],
      "text/plain": [
       "                        datetime  \\\n",
       "0      2020-09-22 01:00:16-05:00   \n",
       "1      2020-01-30 09:21:21-05:00   \n",
       "2      2019-11-06 00:12:59-05:00   \n",
       "3      2020-02-07 13:42:12-05:00   \n",
       "4      2019-07-23 08:12:21-05:00   \n",
       "...                          ...   \n",
       "39135  2020-05-07 06:53:49-05:00   \n",
       "39136  2020-03-31 08:30:02-05:00   \n",
       "39137  2019-02-06 09:50:26-05:00   \n",
       "39138  2019-04-15 17:12:00-05:00   \n",
       "39139  2020-06-15 06:26:22-05:00   \n",
       "\n",
       "                                                headline  \\\n",
       "0      Snap has registered 750,000 people to vote in ...   \n",
       "1      Agnico Eagle Mines Limited : Towards the break...   \n",
       "2      Outgoing NYPD Commissioner James O’Neill to jo...   \n",
       "3      Crypto Today: Ethereum rockets higher with fur...   \n",
       "4      What You Need To Know About TurnKey, Amazon's ...   \n",
       "...                                                  ...   \n",
       "39135  Indian education platform Unacademy’s database...   \n",
       "39136  Snapchat launches App Stories, which lets deve...   \n",
       "39137  Can A High-Yield Allocation Still Offset Equit...   \n",
       "39138  PG&E Shares, Bonds Surge on Governor’s Wildfir...   \n",
       "39139  Walmart partners with Shopify to expand web ma...   \n",
       "\n",
       "                                                 summary  related lang  \\\n",
       "0      Teaming up with artist Mark Bradford, Snapchat...     SNAP   en   \n",
       "1      Agnico Eagle Mines Limited shares are closing ...      AEM   en   \n",
       "2      Police Commissioner James O’Neill will head Vi...        V   en   \n",
       "3      Here's what you need to know on Friday Markets...      ETH   en   \n",
       "4      Real estate services company Realogy Holdings ...     RLGY   en   \n",
       "...                                                  ...      ...  ...   \n",
       "39135  Unacademy, one of India’s largest learning sit...     INFY   en   \n",
       "39136  Josh Constine / TechCrunch : Snapchat launches...     SNAP   en   \n",
       "39137                              No summary available.  JSD,JQC   en   \n",
       "39138  PG&E Corp.’s stock and bond prices have surged...      PCG   en   \n",
       "39139  For Shopify, the deal provides its network of ...     SHOP   en   \n",
       "\n",
       "                        source  1stepChange  2stepChange  3stepChange  \\\n",
       "0                 Fast Company     1.000418     1.003763     1.002508   \n",
       "1               MarketScreener     0.996059     1.002982     1.003284   \n",
       "2                New York Post     1.002438     1.000454     1.002438   \n",
       "3                 Forex Crunch     0.993416     0.996842     0.998212   \n",
       "4                     Benzinga     0.961252     0.941878     0.959762   \n",
       "...                        ...          ...          ...          ...   \n",
       "39135             The Next Web     1.010193     1.015855     1.019819   \n",
       "39136                 Techmeme     1.004292     0.990558     1.040343   \n",
       "39137            Seeking Alpha     1.000000     1.000425     1.001610   \n",
       "39138  The Wall Street Journal     1.000424     0.995335     0.993215   \n",
       "39139  Financial Post Business     1.044310     1.058230     1.038815   \n",
       "\n",
       "       priceChangeClass  6stepChange  \n",
       "0                     1     1.001254  \n",
       "1                     1     1.022250  \n",
       "2                     1     1.003459  \n",
       "3                     0     0.993416  \n",
       "4                     0     0.858420  \n",
       "...                 ...          ...  \n",
       "39135                 2     1.018686  \n",
       "39136                 1     1.054506  \n",
       "39137                 1     1.000644  \n",
       "39138                 1     1.019932  \n",
       "39139                 2     1.056466  \n",
       "\n",
       "[39140 rows x 11 columns]"
      ]
     },
     "execution_count": 43,
     "metadata": {},
     "output_type": "execute_result"
    }
   ],
   "source": [
    "test_data"
   ]
  },
  {
   "cell_type": "code",
   "execution_count": null,
   "metadata": {},
   "outputs": [],
   "source": []
  }
 ],
 "metadata": {
  "kernelspec": {
   "display_name": "Python 3",
   "language": "python",
   "name": "python3"
  },
  "language_info": {
   "codemirror_mode": {
    "name": "ipython",
    "version": 3
   },
   "file_extension": ".py",
   "mimetype": "text/x-python",
   "name": "python",
   "nbconvert_exporter": "python",
   "pygments_lexer": "ipython3",
   "version": "3.8.5"
  }
 },
 "nbformat": 4,
 "nbformat_minor": 4
}
