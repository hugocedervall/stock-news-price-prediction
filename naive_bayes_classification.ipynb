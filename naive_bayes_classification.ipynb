{
 "cells": [
  {
   "cell_type": "code",
   "execution_count": 1,
   "metadata": {},
   "outputs": [],
   "source": [
    "import pandas as pd\n",
    "import bz2\n",
    "\n",
    "\n",
    "dataset = pd.read_csv(\"train_data\", index_col=0)\n",
    "dataset = dataset.dropna()\n",
    "dataset = (dataset[(dataset.lang==\"en\")]).reset_index(drop=True).sort_index()\n",
    "dataset = dataset.reset_index(drop=True).sort_index()\n"
   ]
  },
  {
   "cell_type": "code",
   "execution_count": 2,
   "metadata": {},
   "outputs": [
    {
     "data": {
      "text/html": [
       "<div>\n",
       "<style scoped>\n",
       "    .dataframe tbody tr th:only-of-type {\n",
       "        vertical-align: middle;\n",
       "    }\n",
       "\n",
       "    .dataframe tbody tr th {\n",
       "        vertical-align: top;\n",
       "    }\n",
       "\n",
       "    .dataframe thead th {\n",
       "        text-align: right;\n",
       "    }\n",
       "</style>\n",
       "<table border=\"1\" class=\"dataframe\">\n",
       "  <thead>\n",
       "    <tr style=\"text-align: right;\">\n",
       "      <th></th>\n",
       "      <th>datetime</th>\n",
       "      <th>headline</th>\n",
       "      <th>summary</th>\n",
       "      <th>related</th>\n",
       "      <th>lang</th>\n",
       "      <th>source</th>\n",
       "      <th>priceChangeClass</th>\n",
       "    </tr>\n",
       "  </thead>\n",
       "  <tbody>\n",
       "    <tr>\n",
       "      <th>0</th>\n",
       "      <td>2019-02-18 17:30:06-05:00</td>\n",
       "      <td>Advance Auto Parts Q4 2018 Earnings Preview</td>\n",
       "      <td>No summary available.</td>\n",
       "      <td>AAP</td>\n",
       "      <td>en</td>\n",
       "      <td>Seeking Alpha</td>\n",
       "      <td>0</td>\n",
       "    </tr>\n",
       "    <tr>\n",
       "      <th>1</th>\n",
       "      <td>2019-02-19 06:40:42-05:00</td>\n",
       "      <td>Advance Auto Parts beats by $0.04, revenue in-...</td>\n",
       "      <td>No summary available.</td>\n",
       "      <td>AAP</td>\n",
       "      <td>en</td>\n",
       "      <td>Seeking Alpha</td>\n",
       "      <td>0</td>\n",
       "    </tr>\n",
       "    <tr>\n",
       "      <th>2</th>\n",
       "      <td>2019-02-19 06:42:14-05:00</td>\n",
       "      <td>Advance Auto Parts declares $0.06 dividend</td>\n",
       "      <td>No summary available.</td>\n",
       "      <td>AAP</td>\n",
       "      <td>en</td>\n",
       "      <td>Seeking Alpha</td>\n",
       "      <td>0</td>\n",
       "    </tr>\n",
       "    <tr>\n",
       "      <th>3</th>\n",
       "      <td>2019-02-19 06:50:47-05:00</td>\n",
       "      <td>Advance Auto Parts lower post Q4 results</td>\n",
       "      <td>No summary available.</td>\n",
       "      <td>AAP</td>\n",
       "      <td>en</td>\n",
       "      <td>Seeking Alpha</td>\n",
       "      <td>0</td>\n",
       "    </tr>\n",
       "    <tr>\n",
       "      <th>4</th>\n",
       "      <td>2019-02-19 13:08:09-05:00</td>\n",
       "      <td>Advance Auto Parts, Inc. (AAP) CEO Tom Greco o...</td>\n",
       "      <td>No summary available.</td>\n",
       "      <td>AAP</td>\n",
       "      <td>en</td>\n",
       "      <td>Seeking Alpha</td>\n",
       "      <td>1</td>\n",
       "    </tr>\n",
       "  </tbody>\n",
       "</table>\n",
       "</div>"
      ],
      "text/plain": [
       "                    datetime  \\\n",
       "0  2019-02-18 17:30:06-05:00   \n",
       "1  2019-02-19 06:40:42-05:00   \n",
       "2  2019-02-19 06:42:14-05:00   \n",
       "3  2019-02-19 06:50:47-05:00   \n",
       "4  2019-02-19 13:08:09-05:00   \n",
       "\n",
       "                                            headline                summary  \\\n",
       "0        Advance Auto Parts Q4 2018 Earnings Preview  No summary available.   \n",
       "1  Advance Auto Parts beats by $0.04, revenue in-...  No summary available.   \n",
       "2         Advance Auto Parts declares $0.06 dividend  No summary available.   \n",
       "3           Advance Auto Parts lower post Q4 results  No summary available.   \n",
       "4  Advance Auto Parts, Inc. (AAP) CEO Tom Greco o...  No summary available.   \n",
       "\n",
       "  related lang         source  priceChangeClass  \n",
       "0     AAP   en  Seeking Alpha                 0  \n",
       "1     AAP   en  Seeking Alpha                 0  \n",
       "2     AAP   en  Seeking Alpha                 0  \n",
       "3     AAP   en  Seeking Alpha                 0  \n",
       "4     AAP   en  Seeking Alpha                 1  "
      ]
     },
     "execution_count": 2,
     "metadata": {},
     "output_type": "execute_result"
    }
   ],
   "source": [
    "dataset.head()"
   ]
  },
  {
   "cell_type": "code",
   "execution_count": 3,
   "metadata": {},
   "outputs": [],
   "source": [
    "smallest_amount_data = min(dataset.priceChangeClass.value_counts())\n",
    "\n",
    "indexes = []\n",
    "for unique_class in set(dataset.priceChangeClass):\n",
    "        temp_indexes = dataset.loc[dataset.priceChangeClass==unique_class].sample(smallest_amount_data).index\n",
    "        #print(list(temp_indexes))\n",
    "        indexes += list(temp_indexes)"
   ]
  },
  {
   "cell_type": "code",
   "execution_count": 4,
   "metadata": {},
   "outputs": [
    {
     "data": {
      "text/html": [
       "<div>\n",
       "<style scoped>\n",
       "    .dataframe tbody tr th:only-of-type {\n",
       "        vertical-align: middle;\n",
       "    }\n",
       "\n",
       "    .dataframe tbody tr th {\n",
       "        vertical-align: top;\n",
       "    }\n",
       "\n",
       "    .dataframe thead th {\n",
       "        text-align: right;\n",
       "    }\n",
       "</style>\n",
       "<table border=\"1\" class=\"dataframe\">\n",
       "  <thead>\n",
       "    <tr style=\"text-align: right;\">\n",
       "      <th></th>\n",
       "      <th>datetime</th>\n",
       "      <th>headline</th>\n",
       "      <th>summary</th>\n",
       "      <th>related</th>\n",
       "      <th>lang</th>\n",
       "      <th>source</th>\n",
       "      <th>priceChangeClass</th>\n",
       "    </tr>\n",
       "  </thead>\n",
       "  <tbody>\n",
       "    <tr>\n",
       "      <th>0</th>\n",
       "      <td>2020-07-08 05:00:00-05:00</td>\n",
       "      <td>KKR To Acquire Global Atlantic Financial Group...</td>\n",
       "      <td>NEW YORK &amp; HAMILTON, Bermuda--(BUSINESS WIRE)-...</td>\n",
       "      <td>KKR</td>\n",
       "      <td>en</td>\n",
       "      <td>Business Wire</td>\n",
       "      <td>2</td>\n",
       "    </tr>\n",
       "    <tr>\n",
       "      <th>1</th>\n",
       "      <td>2020-03-17 16:54:31-05:00</td>\n",
       "      <td>These are the apps that Apple is recommending ...</td>\n",
       "      <td>The coronavirus outbreak that originated in Ch...</td>\n",
       "      <td>SNAP</td>\n",
       "      <td>en</td>\n",
       "      <td>Business Insider</td>\n",
       "      <td>0</td>\n",
       "    </tr>\n",
       "    <tr>\n",
       "      <th>2</th>\n",
       "      <td>2019-12-10 10:43:50-05:00</td>\n",
       "      <td>Build-A-Bear Workshop warns revenue could fall...</td>\n",
       "      <td>Disney's \"Frozen 2\" is making it snow at the b...</td>\n",
       "      <td>DIS</td>\n",
       "      <td>en</td>\n",
       "      <td>Business Insider</td>\n",
       "      <td>1</td>\n",
       "    </tr>\n",
       "    <tr>\n",
       "      <th>3</th>\n",
       "      <td>2020-10-06 21:21:06-05:00</td>\n",
       "      <td>WTI drops 2% on dollar strength and bearish US...</td>\n",
       "      <td>West Texas Intermediate (WTI), a North America...</td>\n",
       "      <td>WTI</td>\n",
       "      <td>en</td>\n",
       "      <td>FXStreet</td>\n",
       "      <td>0</td>\n",
       "    </tr>\n",
       "    <tr>\n",
       "      <th>4</th>\n",
       "      <td>2020-09-30 16:45:44-05:00</td>\n",
       "      <td>How one mortgage servicing company is prioriti...</td>\n",
       "      <td>HousingWire spoke with Ocwen Financial Corpora...</td>\n",
       "      <td>OCN</td>\n",
       "      <td>en</td>\n",
       "      <td>HousingWire</td>\n",
       "      <td>2</td>\n",
       "    </tr>\n",
       "    <tr>\n",
       "      <th>...</th>\n",
       "      <td>...</td>\n",
       "      <td>...</td>\n",
       "      <td>...</td>\n",
       "      <td>...</td>\n",
       "      <td>...</td>\n",
       "      <td>...</td>\n",
       "      <td>...</td>\n",
       "    </tr>\n",
       "    <tr>\n",
       "      <th>195694</th>\n",
       "      <td>2020-12-01 09:08:59-05:00</td>\n",
       "      <td>Bitcoin Cash Price Reflects Slight Decline; Al...</td>\n",
       "      <td>Bitcoin Cash was trading at 5th position for t...</td>\n",
       "      <td>LTC</td>\n",
       "      <td>en</td>\n",
       "      <td>CryptoNewsZ</td>\n",
       "      <td>2</td>\n",
       "    </tr>\n",
       "    <tr>\n",
       "      <th>195695</th>\n",
       "      <td>2019-04-06 19:03:00-05:00</td>\n",
       "      <td>Las Vegas Sands Announces Asia Expansion</td>\n",
       "      <td>A big new project is finally on the way from L...</td>\n",
       "      <td>LVS</td>\n",
       "      <td>en</td>\n",
       "      <td>The Motley Fool</td>\n",
       "      <td>2</td>\n",
       "    </tr>\n",
       "    <tr>\n",
       "      <th>195696</th>\n",
       "      <td>2020-09-28 06:38:56-05:00</td>\n",
       "      <td>Shale producer Devon Energy to buy peer WPX En...</td>\n",
       "      <td>U.S. oil and gas producer Devon Energy Corp &lt;D...</td>\n",
       "      <td>DVN</td>\n",
       "      <td>en</td>\n",
       "      <td>Reuters UK</td>\n",
       "      <td>2</td>\n",
       "    </tr>\n",
       "    <tr>\n",
       "      <th>195697</th>\n",
       "      <td>2020-08-27 03:36:20-05:00</td>\n",
       "      <td>Hindustan Aeronautics down 13% on government's...</td>\n",
       "      <td>The government will sell about 10% stake, with...</td>\n",
       "      <td>HAL</td>\n",
       "      <td>en</td>\n",
       "      <td>Livemint</td>\n",
       "      <td>1</td>\n",
       "    </tr>\n",
       "    <tr>\n",
       "      <th>195698</th>\n",
       "      <td>2019-12-05 09:32:00-05:00</td>\n",
       "      <td>Fiat Chrysler Is Told to Pay $1.6 Billion in I...</td>\n",
       "      <td>Italy is demanding unpaid taxes from Fiat Chry...</td>\n",
       "      <td>GM</td>\n",
       "      <td>en</td>\n",
       "      <td>The Wall Street Journal</td>\n",
       "      <td>0</td>\n",
       "    </tr>\n",
       "  </tbody>\n",
       "</table>\n",
       "<p>195699 rows × 7 columns</p>\n",
       "</div>"
      ],
      "text/plain": [
       "                         datetime  \\\n",
       "0       2020-07-08 05:00:00-05:00   \n",
       "1       2020-03-17 16:54:31-05:00   \n",
       "2       2019-12-10 10:43:50-05:00   \n",
       "3       2020-10-06 21:21:06-05:00   \n",
       "4       2020-09-30 16:45:44-05:00   \n",
       "...                           ...   \n",
       "195694  2020-12-01 09:08:59-05:00   \n",
       "195695  2019-04-06 19:03:00-05:00   \n",
       "195696  2020-09-28 06:38:56-05:00   \n",
       "195697  2020-08-27 03:36:20-05:00   \n",
       "195698  2019-12-05 09:32:00-05:00   \n",
       "\n",
       "                                                 headline  \\\n",
       "0       KKR To Acquire Global Atlantic Financial Group...   \n",
       "1       These are the apps that Apple is recommending ...   \n",
       "2       Build-A-Bear Workshop warns revenue could fall...   \n",
       "3       WTI drops 2% on dollar strength and bearish US...   \n",
       "4       How one mortgage servicing company is prioriti...   \n",
       "...                                                   ...   \n",
       "195694  Bitcoin Cash Price Reflects Slight Decline; Al...   \n",
       "195695           Las Vegas Sands Announces Asia Expansion   \n",
       "195696  Shale producer Devon Energy to buy peer WPX En...   \n",
       "195697  Hindustan Aeronautics down 13% on government's...   \n",
       "195698  Fiat Chrysler Is Told to Pay $1.6 Billion in I...   \n",
       "\n",
       "                                                  summary related lang  \\\n",
       "0       NEW YORK & HAMILTON, Bermuda--(BUSINESS WIRE)-...     KKR   en   \n",
       "1       The coronavirus outbreak that originated in Ch...    SNAP   en   \n",
       "2       Disney's \"Frozen 2\" is making it snow at the b...     DIS   en   \n",
       "3       West Texas Intermediate (WTI), a North America...     WTI   en   \n",
       "4       HousingWire spoke with Ocwen Financial Corpora...     OCN   en   \n",
       "...                                                   ...     ...  ...   \n",
       "195694  Bitcoin Cash was trading at 5th position for t...     LTC   en   \n",
       "195695  A big new project is finally on the way from L...     LVS   en   \n",
       "195696  U.S. oil and gas producer Devon Energy Corp <D...     DVN   en   \n",
       "195697  The government will sell about 10% stake, with...     HAL   en   \n",
       "195698  Italy is demanding unpaid taxes from Fiat Chry...      GM   en   \n",
       "\n",
       "                         source  priceChangeClass  \n",
       "0                 Business Wire                 2  \n",
       "1              Business Insider                 0  \n",
       "2              Business Insider                 1  \n",
       "3                      FXStreet                 0  \n",
       "4                   HousingWire                 2  \n",
       "...                         ...               ...  \n",
       "195694              CryptoNewsZ                 2  \n",
       "195695          The Motley Fool                 2  \n",
       "195696               Reuters UK                 2  \n",
       "195697                 Livemint                 1  \n",
       "195698  The Wall Street Journal                 0  \n",
       "\n",
       "[195699 rows x 7 columns]"
      ]
     },
     "execution_count": 4,
     "metadata": {},
     "output_type": "execute_result"
    }
   ],
   "source": [
    "# Pick out indexes, shuffle rows, and reset indexes\n",
    "balanced_dataset = dataset.loc[indexes].sample(frac=1).reset_index(drop=True)\n",
    "balanced_dataset"
   ]
  },
  {
   "cell_type": "code",
   "execution_count": 5,
   "metadata": {},
   "outputs": [],
   "source": [
    "seed = 12345\n",
    "\n",
    "val_percent = 0.1\n",
    "test_percent = 0.2\n",
    "\n",
    "validation_data = (balanced_dataset.sample(frac=val_percent, random_state=seed)).reset_index(drop=True)\n",
    "test_data = (balanced_dataset.sample(frac=test_percent, random_state=seed)).reset_index(drop=True)\n",
    "train_data = (balanced_dataset.iloc[balanced_dataset.index.difference(test_data.index).difference(validation_data.index)]).reset_index(drop=True)"
   ]
  },
  {
   "cell_type": "code",
   "execution_count": null,
   "metadata": {},
   "outputs": [],
   "source": []
  },
  {
   "cell_type": "code",
   "execution_count": 6,
   "metadata": {},
   "outputs": [
    {
     "data": {
      "image/png": "[encoded data removed]",
      "text/plain": [
       "<Figure size 432x288 with 1 Axes>"
      ]
     },
     "metadata": {
      "needs_background": "light"
     },
     "output_type": "display_data"
    }
   ],
   "source": [
    "import matplotlib.pyplot as plt\n",
    "train_data['priceChangeClass'].value_counts().plot(kind='bar');"
   ]
  },
  {
   "cell_type": "code",
   "execution_count": 7,
   "metadata": {},
   "outputs": [
    {
     "data": {
      "image/png": "[encoded data removed]",
      "text/plain": [
       "<Figure size 432x288 with 1 Axes>"
      ]
     },
     "metadata": {
      "needs_background": "light"
     },
     "output_type": "display_data"
    }
   ],
   "source": [
    "test_data['priceChangeClass'].value_counts().plot(kind='bar');"
   ]
  },
  {
   "cell_type": "markdown",
   "metadata": {},
   "source": [
    "## Naive Bayes classifier¶"
   ]
  },
  {
   "cell_type": "code",
   "execution_count": 33,
   "metadata": {},
   "outputs": [],
   "source": [
    "from sklearn.pipeline import Pipeline\n",
    "from sklearn.naive_bayes import MultinomialNB\n",
    "from sklearn.preprocessing import Binarizer\n",
    "from sklearn.feature_extraction.text import CountVectorizer, TfidfVectorizer"
   ]
  },
  {
   "cell_type": "code",
   "execution_count": null,
   "metadata": {},
   "outputs": [],
   "source": [
    "steps= [('vec', CountVectorizer()), ('multinomialnb', MultinomialNB())]\n",
    "pipeline = Pipeline(steps)\n",
    "pipeline.fit(train_data.summary, train_data.priceChangeClass)"
   ]
  },
  {
   "cell_type": "code",
   "execution_count": 9,
   "metadata": {},
   "outputs": [
    {
     "data": {
      "text/plain": [
       "0.5225600408788963"
      ]
     },
     "execution_count": 9,
     "metadata": {},
     "output_type": "execute_result"
    }
   ],
   "source": [
    "pipeline.score(test_data.summary, test_data.priceChangeClass)"
   ]
  },
  {
   "cell_type": "code",
   "execution_count": 10,
   "metadata": {},
   "outputs": [
    {
     "data": {
      "text/plain": [
       "(array([11964.,     0.,     0.,     0.,     0., 15386.,     0.,     0.,\n",
       "            0., 11790.]),\n",
       " array([0. , 0.2, 0.4, 0.6, 0.8, 1. , 1.2, 1.4, 1.6, 1.8, 2. ]),\n",
       " <BarContainer object of 10 artists>)"
      ]
     },
     "execution_count": 10,
     "metadata": {},
     "output_type": "execute_result"
    },
    {
     "data": {
      "image/png": "[encoded data removed]",
      "text/plain": [
       "<Figure size 432x288 with 1 Axes>"
      ]
     },
     "metadata": {
      "needs_background": "light"
     },
     "output_type": "display_data"
    }
   ],
   "source": [
    "predicted = pipeline.predict(test_data.summary)\n",
    "plt.hist(predicted)"
   ]
  },
  {
   "cell_type": "code",
   "execution_count": 11,
   "metadata": {},
   "outputs": [
    {
     "data": {
      "text/plain": [
       "<sklearn.metrics._plot.confusion_matrix.ConfusionMatrixDisplay at 0x7fc1687ec2b0>"
      ]
     },
     "execution_count": 11,
     "metadata": {},
     "output_type": "execute_result"
    },
    {
     "data": {
      "image/png": "[encoded data removed]",
      "text/plain": [
       "<Figure size 432x288 with 2 Axes>"
      ]
     },
     "metadata": {
      "needs_background": "light"
     },
     "output_type": "display_data"
    }
   ],
   "source": [
    "from sklearn.metrics import confusion_matrix, plot_confusion_matrix\n",
    "\n",
    "plot_confusion_matrix(pipeline, test_data.summary, test_data.priceChangeClass)\n"
   ]
  },
  {
   "cell_type": "markdown",
   "metadata": {},
   "source": [
    "## Problem 3: Baselines"
   ]
  },
  {
   "cell_type": "markdown",
   "metadata": {},
   "source": [
    "Evaluation metrics such as accuracy should not be understood as absolute measures of performance, but should be used only to compare different classifiers. When other classifiers are not available, a simple baseline is a classifier that generates predictions by random sampling, respecting the training set&rsquo;s class distribution. This baseline is implemented by the class [DummyClassifier](https://scikit-learn.org/stable/modules/generated/sklearn.dummy.DummyClassifier.html). What is the performance of the random baseline on the test data?"
   ]
  },
  {
   "cell_type": "code",
   "execution_count": 12,
   "metadata": {},
   "outputs": [
    {
     "data": {
      "text/plain": [
       "0.3314001021972407"
      ]
     },
     "execution_count": 12,
     "metadata": {},
     "output_type": "execute_result"
    }
   ],
   "source": [
    "from sklearn.dummy import DummyClassifier\n",
    "\n",
    "dummy_clf = DummyClassifier(strategy=\"stratified\")\n",
    "dummy_clf.fit(train_data.summary, train_data.priceChangeClass)\n",
    "dummy_clf.score(test_data.summary, test_data.priceChangeClass)"
   ]
  },
  {
   "cell_type": "markdown",
   "metadata": {},
   "source": [
    "An even dumber baseline is to predict, for every document, that class which appears most often in the training data. This baseline is also called the most frequent class baseline. What is the accuracy of that baseline on the test data?"
   ]
  },
  {
   "cell_type": "code",
   "execution_count": 13,
   "metadata": {},
   "outputs": [
    {
     "data": {
      "text/plain": [
       "0.3343382728666326"
      ]
     },
     "execution_count": 13,
     "metadata": {},
     "output_type": "execute_result"
    }
   ],
   "source": [
    "dummy_clf = DummyClassifier(strategy=\"most_frequent\")\n",
    "dummy_clf.fit(train_data.summary, train_data.priceChangeClass)\n",
    "dummy_clf.score(test_data.summary, test_data.priceChangeClass)\n",
    "\n"
   ]
  },
  {
   "cell_type": "markdown",
   "metadata": {},
   "source": [
    "## Problem 4: Creating a balanced data set"
   ]
  },
  {
   "cell_type": "markdown",
   "metadata": {},
   "source": [
    "## Problem 5: Confusion matrix"
   ]
  },
  {
   "cell_type": "code",
   "execution_count": 14,
   "metadata": {},
   "outputs": [
    {
     "data": {
      "text/plain": [
       "Pipeline(steps=[('vec', CountVectorizer()), ('multinomialnb', MultinomialNB())])"
      ]
     },
     "execution_count": 14,
     "metadata": {},
     "output_type": "execute_result"
    }
   ],
   "source": [
    "from sklearn.model_selection import GridSearchCV\n",
    "\n",
    "steps= [('vec', CountVectorizer()), ('multinomialnb', MultinomialNB())]\n",
    "new_pipeline = Pipeline(steps)\n",
    "#a = GridSearchCV(estimator=new_pipeline, param_grid={\"vec__binary\": [True, False],\"vec__ngram_range\":[(1,1), (1,2)], \n",
    "#                                                     \"multinomialnb__alpha\":[1,0.1]})\n",
    "new_pipeline.fit(train_data.summary, train_data.priceChangeClass)\n"
   ]
  },
  {
   "cell_type": "code",
   "execution_count": 15,
   "metadata": {},
   "outputs": [
    {
     "data": {
      "text/plain": [
       "0.5225600408788963"
      ]
     },
     "execution_count": 15,
     "metadata": {},
     "output_type": "execute_result"
    }
   ],
   "source": [
    "#print(a.best_params_)\n",
    "new_pipeline.score(test_data.summary,test_data.priceChangeClass)"
   ]
  },
  {
   "cell_type": "markdown",
   "metadata": {},
   "source": [
    "## Problem 7: Try to improve your results"
   ]
  },
  {
   "cell_type": "markdown",
   "metadata": {},
   "source": [
    "Scikit-learn makes it easy to test different vectorizer–classifier pipelines – among other things, it includes different types of logistic regression classifiers, support vector machines, and decision trees. Browse the library to see which methods are supported.\n",
    "\n",
    "Build a pipeline that you find interesting, and use grid search to find optimal settings for the hyperparameters. Print the results of your best model. Did you manage to get better results than the ones that you obtained in Problem&nbsp;6? Answer with a short text."
   ]
  },
  {
   "cell_type": "code",
   "execution_count": 24,
   "metadata": {},
   "outputs": [
    {
     "data": {
      "text/plain": [
       "Pipeline(steps=[('vec', CountVectorizer()), ('svc', SVC())])"
      ]
     },
     "execution_count": 24,
     "metadata": {},
     "output_type": "execute_result"
    }
   ],
   "source": [
    "from sklearn.svm import SVC\n",
    "\n",
    "steps = [('vec', CountVectorizer()), ('svc',  SVC())]\n",
    "\n",
    "#parameters = {'svc__kernel': ['linear', 'poly', 'rbf', 'sigmoid', 'precomputed']}\n",
    "\n",
    "pipeline = Pipeline(steps)\n",
    "\n",
    "#clf = GridSearchCV(pipeline, parameters)\n",
    "pipeline.fit(train_data.summary[:5000], train_data.priceChangeClass[:5000])\n"
   ]
  },
  {
   "cell_type": "code",
   "execution_count": 25,
   "metadata": {},
   "outputs": [
    {
     "data": {
      "text/plain": [
       "0.3786407766990291"
      ]
     },
     "execution_count": 25,
     "metadata": {},
     "output_type": "execute_result"
    }
   ],
   "source": [
    "#print(pipeline.best_params_)\n",
    "pipeline.score(test_data.summary,test_data.priceChangeClass)"
   ]
  },
  {
   "cell_type": "code",
   "execution_count": 81,
   "metadata": {},
   "outputs": [
    {
     "name": "stderr",
     "output_type": "stream",
     "text": [
      "/home/hugo/.virtualenvs/stock-news/lib/python3.8/site-packages/sklearn/neural_network/_multilayer_perceptron.py:471: ConvergenceWarning: lbfgs failed to converge (status=1):\n",
      "STOP: TOTAL NO. of ITERATIONS REACHED LIMIT.\n",
      "\n",
      "Increase the number of iterations (max_iter) or scale the data as shown in:\n",
      "    https://scikit-learn.org/stable/modules/preprocessing.html\n",
      "  self.n_iter_ = _check_optimize_result(\"lbfgs\", opt_res, self.max_iter)\n"
     ]
    },
    {
     "data": {
      "text/plain": [
       "Pipeline(steps=[('vec', TfidfVectorizer()),\n",
       "                ('net',\n",
       "                 MLPClassifier(alpha=1e-05, hidden_layer_sizes=(15, 10),\n",
       "                               max_iter=1500, random_state=1,\n",
       "                               solver='lbfgs'))])"
      ]
     },
     "execution_count": 81,
     "metadata": {},
     "output_type": "execute_result"
    }
   ],
   "source": [
    "from sklearn.neural_network import MLPClassifier\n",
    "\n",
    "steps = [('vec', TfidfVectorizer()), ('net',  MLPClassifier(solver='lbfgs', alpha=1e-5, hidden_layer_sizes=(15,10), random_state=1,max_iter=1500))]\n",
    "pipeline = Pipeline(steps)\n",
    "pipeline.fit(train_data.summary, train_data.priceChangeClass)\n"
   ]
  },
  {
   "cell_type": "code",
   "execution_count": 82,
   "metadata": {},
   "outputs": [
    {
     "data": {
      "text/plain": [
       "0.7099642309657639"
      ]
     },
     "execution_count": 82,
     "metadata": {},
     "output_type": "execute_result"
    }
   ],
   "source": [
    "pipeline.score(test_data.summary,test_data.priceChangeClass)"
   ]
  },
  {
   "cell_type": "code",
   "execution_count": 83,
   "metadata": {},
   "outputs": [
    {
     "data": {
      "text/plain": [
       "<sklearn.metrics._plot.confusion_matrix.ConfusionMatrixDisplay at 0x7fc1002b1df0>"
      ]
     },
     "execution_count": 83,
     "metadata": {},
     "output_type": "execute_result"
    },
    {
     "data": {
      "image/png": "[encoded data removed]",
      "text/plain": [
       "<Figure size 432x288 with 2 Axes>"
      ]
     },
     "metadata": {
      "needs_background": "light"
     },
     "output_type": "display_data"
    }
   ],
   "source": [
    "plot_confusion_matrix(pipeline, test_data.summary, test_data.priceChangeClass)"
   ]
  },
  {
   "cell_type": "code",
   "execution_count": 84,
   "metadata": {},
   "outputs": [
    {
     "name": "stdout",
     "output_type": "stream",
     "text": [
      "              precision    recall  f1-score   support\n",
      "\n",
      "           0       0.73      0.67      0.70     13086\n",
      "           1       0.68      0.77      0.72     13042\n",
      "           2       0.73      0.70      0.71     13012\n",
      "\n",
      "    accuracy                           0.71     39140\n",
      "   macro avg       0.71      0.71      0.71     39140\n",
      "weighted avg       0.71      0.71      0.71     39140\n",
      "\n"
     ]
    }
   ],
   "source": [
    "from sklearn.metrics import f1_score,classification_report\n",
    "\n",
    "res = pipeline.predict(test_data.summary)\n",
    "\n",
    "print(classification_report(test_data.priceChangeClass, res))"
   ]
  }
 ],
 "metadata": {
  "kernelspec": {
   "display_name": "Python 3",
   "language": "python",
   "name": "python3"
  },
  "language_info": {
   "codemirror_mode": {
    "name": "ipython",
    "version": 3
   },
   "file_extension": ".py",
   "mimetype": "text/x-python",
   "name": "python",
   "nbconvert_exporter": "python",
   "pygments_lexer": "ipython3",
   "version": "3.8.5"
  }
 },
 "nbformat": 4,
 "nbformat_minor": 4
}
